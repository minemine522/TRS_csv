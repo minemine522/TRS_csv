{
 "cells": [
  {
   "cell_type": "code",
   "execution_count": 67,
   "id": "e75e0447-d2b6-48fa-adfe-8d21cd494422",
   "metadata": {},
   "outputs": [
    {
     "name": "stdout",
     "output_type": "stream",
     "text": [
      "# conda environments:\n",
      "#\n",
      "base                     /opt/anaconda3\n",
      "django_1                 /opt/anaconda3/envs/django_1\n",
      "tsr                      /opt/anaconda3/envs/tsr\n",
      "tsr2                  *  /opt/anaconda3/envs/tsr2\n",
      "\n"
     ]
    }
   ],
   "source": [
    "!conda env list"
   ]
  },
  {
   "cell_type": "code",
   "execution_count": 68,
   "id": "fa71cf1e-326e-4459-a566-c1708fafb98e",
   "metadata": {},
   "outputs": [
    {
     "name": "stdout",
     "output_type": "stream",
     "text": [
      "Requirement already satisfied: pandas in /opt/anaconda3/envs/tsr2/lib/python3.12/site-packages (2.2.2)\n",
      "Requirement already satisfied: numpy>=1.26.0 in /opt/anaconda3/envs/tsr2/lib/python3.12/site-packages (from pandas) (1.26.4)\n",
      "Requirement already satisfied: python-dateutil>=2.8.2 in /opt/anaconda3/envs/tsr2/lib/python3.12/site-packages (from pandas) (2.9.0.post0)\n",
      "Requirement already satisfied: pytz>=2020.1 in /opt/anaconda3/envs/tsr2/lib/python3.12/site-packages (from pandas) (2024.1)\n",
      "Requirement already satisfied: tzdata>=2022.7 in /opt/anaconda3/envs/tsr2/lib/python3.12/site-packages (from pandas) (2023.3)\n",
      "Requirement already satisfied: six>=1.5 in /opt/anaconda3/envs/tsr2/lib/python3.12/site-packages (from python-dateutil>=2.8.2->pandas) (1.16.0)\n"
     ]
    }
   ],
   "source": [
    "!pip install pandas"
   ]
  },
  {
   "cell_type": "code",
   "execution_count": 69,
   "id": "3ff36ff1-1bc4-4121-b9b5-a0c7e980956c",
   "metadata": {},
   "outputs": [
    {
     "name": "stdout",
     "output_type": "stream",
     "text": [
      "Requirement already satisfied: tabula-py in /opt/anaconda3/envs/tsr2/lib/python3.12/site-packages (2.6.0)\n",
      "Requirement already satisfied: pandas>=0.25.3 in /opt/anaconda3/envs/tsr2/lib/python3.12/site-packages (from tabula-py) (2.2.2)\n",
      "Requirement already satisfied: numpy in /opt/anaconda3/envs/tsr2/lib/python3.12/site-packages (from tabula-py) (1.26.4)\n",
      "Requirement already satisfied: distro in /opt/anaconda3/envs/tsr2/lib/python3.12/site-packages (from tabula-py) (1.9.0)\n",
      "Requirement already satisfied: python-dateutil>=2.8.2 in /opt/anaconda3/envs/tsr2/lib/python3.12/site-packages (from pandas>=0.25.3->tabula-py) (2.9.0.post0)\n",
      "Requirement already satisfied: pytz>=2020.1 in /opt/anaconda3/envs/tsr2/lib/python3.12/site-packages (from pandas>=0.25.3->tabula-py) (2024.1)\n",
      "Requirement already satisfied: tzdata>=2022.7 in /opt/anaconda3/envs/tsr2/lib/python3.12/site-packages (from pandas>=0.25.3->tabula-py) (2023.3)\n",
      "Requirement already satisfied: six>=1.5 in /opt/anaconda3/envs/tsr2/lib/python3.12/site-packages (from python-dateutil>=2.8.2->pandas>=0.25.3->tabula-py) (1.16.0)\n",
      "Requirement already satisfied: pdfminer.six in /opt/anaconda3/envs/tsr2/lib/python3.12/site-packages (20240706)\n",
      "Requirement already satisfied: charset-normalizer>=2.0.0 in /opt/anaconda3/envs/tsr2/lib/python3.12/site-packages (from pdfminer.six) (3.3.2)\n",
      "Requirement already satisfied: cryptography>=36.0.0 in /opt/anaconda3/envs/tsr2/lib/python3.12/site-packages (from pdfminer.six) (43.0.1)\n",
      "Requirement already satisfied: cffi>=1.12 in /opt/anaconda3/envs/tsr2/lib/python3.12/site-packages (from cryptography>=36.0.0->pdfminer.six) (1.17.1)\n",
      "Requirement already satisfied: pycparser in /opt/anaconda3/envs/tsr2/lib/python3.12/site-packages (from cffi>=1.12->cryptography>=36.0.0->pdfminer.six) (2.21)\n",
      "Requirement already satisfied: PyPDF2 in /opt/anaconda3/envs/tsr2/lib/python3.12/site-packages (3.0.1)\n",
      "Requirement already satisfied: mojimoji in /opt/anaconda3/envs/tsr2/lib/python3.12/site-packages (0.0.13)\n",
      "Requirement already satisfied: jeraconv in /opt/anaconda3/envs/tsr2/lib/python3.12/site-packages (0.2.1)\n",
      "Requirement already satisfied: tqdm in /opt/anaconda3/envs/tsr2/lib/python3.12/site-packages (4.66.5)\n",
      "Requirement already satisfied: PyDrive in /opt/anaconda3/envs/tsr2/lib/python3.12/site-packages (1.3.1)\n",
      "Requirement already satisfied: google-api-python-client>=1.2 in /opt/anaconda3/envs/tsr2/lib/python3.12/site-packages (from PyDrive) (2.148.0)\n",
      "Requirement already satisfied: oauth2client>=4.0.0 in /opt/anaconda3/envs/tsr2/lib/python3.12/site-packages (from PyDrive) (4.1.3)\n",
      "Requirement already satisfied: PyYAML>=3.0 in /opt/anaconda3/envs/tsr2/lib/python3.12/site-packages (from PyDrive) (6.0.1)\n",
      "Requirement already satisfied: httplib2<1.dev0,>=0.19.0 in /opt/anaconda3/envs/tsr2/lib/python3.12/site-packages (from google-api-python-client>=1.2->PyDrive) (0.22.0)\n",
      "Requirement already satisfied: google-auth!=2.24.0,!=2.25.0,<3.0.0.dev0,>=1.32.0 in /opt/anaconda3/envs/tsr2/lib/python3.12/site-packages (from google-api-python-client>=1.2->PyDrive) (2.35.0)\n",
      "Requirement already satisfied: google-auth-httplib2<1.0.0,>=0.2.0 in /opt/anaconda3/envs/tsr2/lib/python3.12/site-packages (from google-api-python-client>=1.2->PyDrive) (0.2.0)\n",
      "Requirement already satisfied: google-api-core!=2.0.*,!=2.1.*,!=2.2.*,!=2.3.0,<3.0.0.dev0,>=1.31.5 in /opt/anaconda3/envs/tsr2/lib/python3.12/site-packages (from google-api-python-client>=1.2->PyDrive) (2.20.0)\n",
      "Requirement already satisfied: uritemplate<5,>=3.0.1 in /opt/anaconda3/envs/tsr2/lib/python3.12/site-packages (from google-api-python-client>=1.2->PyDrive) (4.1.1)\n",
      "Requirement already satisfied: pyasn1>=0.1.7 in /opt/anaconda3/envs/tsr2/lib/python3.12/site-packages (from oauth2client>=4.0.0->PyDrive) (0.6.1)\n",
      "Requirement already satisfied: pyasn1-modules>=0.0.5 in /opt/anaconda3/envs/tsr2/lib/python3.12/site-packages (from oauth2client>=4.0.0->PyDrive) (0.4.1)\n",
      "Requirement already satisfied: rsa>=3.1.4 in /opt/anaconda3/envs/tsr2/lib/python3.12/site-packages (from oauth2client>=4.0.0->PyDrive) (4.9)\n",
      "Requirement already satisfied: six>=1.6.1 in /opt/anaconda3/envs/tsr2/lib/python3.12/site-packages (from oauth2client>=4.0.0->PyDrive) (1.16.0)\n",
      "Requirement already satisfied: googleapis-common-protos<2.0.dev0,>=1.56.2 in /opt/anaconda3/envs/tsr2/lib/python3.12/site-packages (from google-api-core!=2.0.*,!=2.1.*,!=2.2.*,!=2.3.0,<3.0.0.dev0,>=1.31.5->google-api-python-client>=1.2->PyDrive) (1.65.0)\n",
      "Requirement already satisfied: protobuf!=3.20.0,!=3.20.1,!=4.21.0,!=4.21.1,!=4.21.2,!=4.21.3,!=4.21.4,!=4.21.5,<6.0.0.dev0,>=3.19.5 in /opt/anaconda3/envs/tsr2/lib/python3.12/site-packages (from google-api-core!=2.0.*,!=2.1.*,!=2.2.*,!=2.3.0,<3.0.0.dev0,>=1.31.5->google-api-python-client>=1.2->PyDrive) (5.28.2)\n",
      "Requirement already satisfied: proto-plus<2.0.0dev,>=1.22.3 in /opt/anaconda3/envs/tsr2/lib/python3.12/site-packages (from google-api-core!=2.0.*,!=2.1.*,!=2.2.*,!=2.3.0,<3.0.0.dev0,>=1.31.5->google-api-python-client>=1.2->PyDrive) (1.24.0)\n",
      "Requirement already satisfied: requests<3.0.0.dev0,>=2.18.0 in /opt/anaconda3/envs/tsr2/lib/python3.12/site-packages (from google-api-core!=2.0.*,!=2.1.*,!=2.2.*,!=2.3.0,<3.0.0.dev0,>=1.31.5->google-api-python-client>=1.2->PyDrive) (2.32.3)\n",
      "Requirement already satisfied: cachetools<6.0,>=2.0.0 in /opt/anaconda3/envs/tsr2/lib/python3.12/site-packages (from google-auth!=2.24.0,!=2.25.0,<3.0.0.dev0,>=1.32.0->google-api-python-client>=1.2->PyDrive) (5.5.0)\n",
      "Requirement already satisfied: pyparsing!=3.0.0,!=3.0.1,!=3.0.2,!=3.0.3,<4,>=2.4.2 in /opt/anaconda3/envs/tsr2/lib/python3.12/site-packages (from httplib2<1.dev0,>=0.19.0->google-api-python-client>=1.2->PyDrive) (3.1.4)\n",
      "Requirement already satisfied: charset-normalizer<4,>=2 in /opt/anaconda3/envs/tsr2/lib/python3.12/site-packages (from requests<3.0.0.dev0,>=2.18.0->google-api-core!=2.0.*,!=2.1.*,!=2.2.*,!=2.3.0,<3.0.0.dev0,>=1.31.5->google-api-python-client>=1.2->PyDrive) (3.3.2)\n",
      "Requirement already satisfied: idna<4,>=2.5 in /opt/anaconda3/envs/tsr2/lib/python3.12/site-packages (from requests<3.0.0.dev0,>=2.18.0->google-api-core!=2.0.*,!=2.1.*,!=2.2.*,!=2.3.0,<3.0.0.dev0,>=1.31.5->google-api-python-client>=1.2->PyDrive) (3.7)\n",
      "Requirement already satisfied: urllib3<3,>=1.21.1 in /opt/anaconda3/envs/tsr2/lib/python3.12/site-packages (from requests<3.0.0.dev0,>=2.18.0->google-api-core!=2.0.*,!=2.1.*,!=2.2.*,!=2.3.0,<3.0.0.dev0,>=1.31.5->google-api-python-client>=1.2->PyDrive) (2.2.3)\n",
      "Requirement already satisfied: certifi>=2017.4.17 in /opt/anaconda3/envs/tsr2/lib/python3.12/site-packages (from requests<3.0.0.dev0,>=2.18.0->google-api-core!=2.0.*,!=2.1.*,!=2.2.*,!=2.3.0,<3.0.0.dev0,>=1.31.5->google-api-python-client>=1.2->PyDrive) (2024.8.30)\n",
      "Requirement already satisfied: joblib in /opt/anaconda3/envs/tsr2/lib/python3.12/site-packages (1.4.2)\n"
     ]
    }
   ],
   "source": [
    "# 必要なライブラリのインストール\n",
    "!pip install tabula-py\n",
    "!pip install pdfminer.six\n",
    "!pip install PyPDF2\n",
    "!pip install mojimoji\n",
    "!pip install jeraconv\n",
    "!pip install tqdm\n",
    "!pip install PyDrive\n",
    "!pip install joblib\n",
    "\n",
    "from pdfminer.pdfinterp import PDFResourceManager\n",
    "from pdfminer.converter import TextConverter\n",
    "from pdfminer.pdfinterp import PDFPageInterpreter\n",
    "from pdfminer.pdfpage import PDFPage\n",
    "from pdfminer.layout import LAParams\n",
    "from io import StringIO\n",
    "from tqdm import tqdm\n",
    "from dateutil.relativedelta import relativedelta\n",
    "from jeraconv import jeraconv\n",
    "from PyPDF2 import PdfReader\n",
    "from tabula.io import read_pdf\n",
    "\n",
    "import os\n",
    "import pandas as pd\n",
    "import tabula\n",
    "import warnings\n",
    "import mojimoji\n",
    "import re\n",
    "import csv\n",
    "from datetime import datetime\n",
    "\n",
    "warnings.simplefilter('ignore')\n"
   ]
  },
  {
   "cell_type": "code",
   "execution_count": 70,
   "id": "e9d32320-50d8-4c67-90a0-e0b2b07d74a5",
   "metadata": {},
   "outputs": [
    {
     "name": "stdout",
     "output_type": "stream",
     "text": [
      "Package                   Version\n",
      "------------------------- -----------\n",
      "anyio                     4.2.0\n",
      "appnope                   0.1.3\n",
      "argon2-cffi               21.3.0\n",
      "argon2-cffi-bindings      21.2.0\n",
      "asttokens                 2.0.5\n",
      "async-lru                 2.0.4\n",
      "attrs                     23.1.0\n",
      "Babel                     2.11.0\n",
      "beautifulsoup4            4.12.3\n",
      "bleach                    4.1.0\n",
      "Bottleneck                1.3.7\n",
      "Brotli                    1.0.9\n",
      "cachetools                5.5.0\n",
      "certifi                   2024.8.30\n",
      "cffi                      1.17.1\n",
      "charset-normalizer        3.3.2\n",
      "comm                      0.2.1\n",
      "cryptography              43.0.1\n",
      "debugpy                   1.6.7\n",
      "decorator                 5.1.1\n",
      "defusedxml                0.7.1\n",
      "distro                    1.9.0\n",
      "et_xmlfile                2.0.0\n",
      "executing                 0.8.3\n",
      "fastjsonschema            2.16.2\n",
      "google-api-core           2.20.0\n",
      "google-api-python-client  2.148.0\n",
      "google-auth               2.35.0\n",
      "google-auth-httplib2      0.2.0\n",
      "googleapis-common-protos  1.65.0\n",
      "h11                       0.14.0\n",
      "httpcore                  1.0.2\n",
      "httplib2                  0.22.0\n",
      "httpx                     0.27.0\n",
      "idna                      3.7\n",
      "ipykernel                 6.28.0\n",
      "ipython                   8.27.0\n",
      "jedi                      0.19.1\n",
      "jeraconv                  0.2.1\n",
      "Jinja2                    3.1.4\n",
      "joblib                    1.4.2\n",
      "json5                     0.9.6\n",
      "jsonschema                4.19.2\n",
      "jsonschema-specifications 2023.7.1\n",
      "jupyter_client            8.6.0\n",
      "jupyter_core              5.7.2\n",
      "jupyter-events            0.10.0\n",
      "jupyter-lsp               2.2.0\n",
      "jupyter_server            2.14.1\n",
      "jupyter_server_terminals  0.4.4\n",
      "jupyterlab                4.2.5\n",
      "jupyterlab-pygments       0.1.2\n",
      "jupyterlab_server         2.27.3\n",
      "MarkupSafe                2.1.3\n",
      "matplotlib-inline         0.1.6\n",
      "mistune                   2.0.4\n",
      "mojimoji                  0.0.13\n",
      "nbclient                  0.8.0\n",
      "nbconvert                 7.16.4\n",
      "nbformat                  5.10.4\n",
      "nest-asyncio              1.6.0\n",
      "notebook                  7.2.2\n",
      "notebook_shim             0.2.3\n",
      "numexpr                   2.8.7\n",
      "numpy                     1.26.4\n",
      "oauth2client              4.1.3\n",
      "openpyxl                  3.1.5\n",
      "overrides                 7.4.0\n",
      "packaging                 24.1\n",
      "pandas                    2.2.2\n",
      "pandocfilters             1.5.0\n",
      "parso                     0.8.3\n",
      "pdfminer.six              20240706\n",
      "pexpect                   4.8.0\n",
      "pip                       24.2\n",
      "platformdirs              3.10.0\n",
      "prometheus-client         0.14.1\n",
      "prompt-toolkit            3.0.43\n",
      "proto-plus                1.24.0\n",
      "protobuf                  5.28.2\n",
      "psutil                    5.9.0\n",
      "ptyprocess                0.7.0\n",
      "pure-eval                 0.2.2\n",
      "pyasn1                    0.6.1\n",
      "pyasn1_modules            0.4.1\n",
      "pycparser                 2.21\n",
      "PyDrive                   1.3.1\n",
      "Pygments                  2.15.1\n",
      "pyparsing                 3.1.4\n",
      "PyPDF2                    3.0.1\n",
      "PySocks                   1.7.1\n",
      "python-dateutil           2.9.0.post0\n",
      "python-json-logger        2.0.7\n",
      "pytz                      2024.1\n",
      "PyYAML                    6.0.1\n",
      "pyzmq                     25.1.2\n",
      "referencing               0.30.2\n",
      "requests                  2.32.3\n",
      "rfc3339-validator         0.1.4\n",
      "rfc3986-validator         0.1.1\n",
      "rpds-py                   0.10.6\n",
      "rsa                       4.9\n",
      "Send2Trash                1.8.2\n",
      "setuptools                75.1.0\n",
      "six                       1.16.0\n",
      "sniffio                   1.3.0\n",
      "soupsieve                 2.5\n",
      "stack-data                0.2.0\n",
      "tabula-py                 2.6.0\n",
      "terminado                 0.17.1\n",
      "tinycss2                  1.2.1\n",
      "tornado                   6.4.1\n",
      "tqdm                      4.66.5\n",
      "traitlets                 5.14.3\n",
      "typing_extensions         4.11.0\n",
      "tzdata                    2023.3\n",
      "uritemplate               4.1.1\n",
      "urllib3                   2.2.3\n",
      "wcwidth                   0.2.5\n",
      "webencodings              0.5.1\n",
      "websocket-client          1.8.0\n",
      "wheel                     0.44.0\n",
      "Note: you may need to restart the kernel to use updated packages.\n"
     ]
    }
   ],
   "source": [
    "pip list"
   ]
  },
  {
   "cell_type": "code",
   "execution_count": 71,
   "id": "bd4f3928",
   "metadata": {},
   "outputs": [
    {
     "data": {
      "text/plain": [
       "'/Users/akamine_saki/Projects/notebook'"
      ]
     },
     "execution_count": 71,
     "metadata": {},
     "output_type": "execute_result"
    }
   ],
   "source": [
    "os.getcwd()"
   ]
  },
  {
   "cell_type": "code",
   "execution_count": 72,
   "id": "2d66e7fb-6501-4f48-8b27-1286e62345fd",
   "metadata": {},
   "outputs": [
    {
     "name": "stdout",
     "output_type": "stream",
     "text": [
      "/opt/anaconda3/envs/tsr2/lib/python3.12/site-packages/tabula/__init__.py\n"
     ]
    }
   ],
   "source": [
    "import tabula\n",
    "print(tabula.__file__)"
   ]
  },
  {
   "cell_type": "code",
   "execution_count": 73,
   "id": "965c8ec1-0fd5-4fbe-a7e9-84b0de0e56c1",
   "metadata": {},
   "outputs": [],
   "source": [
    "read_path = \"/Users/akamine_saki/Projects/notebook/TSR\""
   ]
  },
  {
   "cell_type": "code",
   "execution_count": 74,
   "id": "2dd82769-39ea-45c8-a383-18a341980a10",
   "metadata": {},
   "outputs": [
    {
     "data": {
      "text/plain": [
       "['.DS_Store', '福岡県_(糸島市,那珂川市)_349件.pdf']"
      ]
     },
     "execution_count": 74,
     "metadata": {},
     "output_type": "execute_result"
    }
   ],
   "source": [
    "# フォルダ内の最初のディレクトリを取得\n",
    "dir_list = os.listdir(read_path)\n",
    "pdf_dir = dir_list[0]  # 最初のディレクトリ\n",
    "\n",
    "# フルパスを作成\n",
    "path = os.path.join(read_path, pdf_dir)\n",
    "\n",
    "# フォルダ内のファイルやディレクトリを表示\n",
    "dir_ = os.listdir(path)\n",
    "dir_  # これが最終的な結果"
   ]
  },
  {
   "cell_type": "code",
   "execution_count": 75,
   "id": "b38e7f89-15d7-44b1-9510-93fec362e239",
   "metadata": {},
   "outputs": [],
   "source": [
    "pattern = '.*.pdf'\n",
    "\n",
    "files = [f for f in dir_ if re.match(pattern,f)]"
   ]
  },
  {
   "cell_type": "code",
   "execution_count": 76,
   "id": "1368b2d0-25bb-4a3f-9cd3-4ffaddc5c323",
   "metadata": {},
   "outputs": [],
   "source": [
    "def read_pdf_by_row(f, page):\n",
    "    warnings.simplefilter(\"ignore\")\n",
    "    columns = ['企業コード(TSR)','上場区分','TSR調査年月日','企業名ﾌﾘｶﾞﾅ（半角）','代表者氏名ﾌﾘｶﾞﾅ（半角）','会社名','代表者氏名','郵便番号','所在地','電話番号','設立年月日','創業年月日','資本金（千円単位）','従業員数','業種1','業種2','業種3',\n",
    "                   '営業種目','営業所・支店住所','役員','仕入先','株主構成','販売先','財務情報1_時期','財務情報1_売上(千円)','財務情報1_純利益(千円)','財務情報2_時期','財務情報2_売上(千円)','財務情報2_純利益(千円)','財務情報3_時期','財務情報3_売上(千円)','財務情報3_純利益(千円)',\n",
    "                    '取引銀行','売上伸長率','利益伸長率','TSR備考','代表者住所','生年月日','出身地','出身校']\n",
    "    \n",
    "    df_ = pd.DataFrame(columns = columns)\n",
    "    df_.loc[0] = columns \n",
    "\n",
    "    print\n",
    "    \n",
    "    try:\n",
    "        #df = tabula.read_pdf(f,encoding = 'utf-8',lattice=True, pages=page)\n",
    "        df = read_pdf(f,encoding = 'utf-8',lattice=True, pages=page)\n",
    "        #df = read_pdf(f, encoding='cp932', lattice=True, pages=page)\n",
    "        #print(df)\n",
    "        value0 = df[0].columns[0] #企業コード　TSRID__c\n",
    "        value1 = df[1].columns[1][2:] #上場区分 Listing_classification__c\n",
    "        value2 = df[2].columns[0] #調査年月日\n",
    "        value3 = mojimoji.zen_to_han(df[3].columns[0]) #商号（カナ）KANA__C\n",
    "        value4 = mojimoji.zen_to_han(df[4].columns[0]) #代表者カナ　PRESIDENTKANA__C\n",
    "        value5 = df[5].columns[0] #商号（漢字）NAME\n",
    "        value6 = df[6].columns[0] #代表者氏名　PRESIDENTNAME__C\n",
    "        # value6_1  = value6.split(' ')[0] #姓\n",
    "        # value6_2  = value6.split(' ')[1] #名\n",
    "        \n",
    "        value7 = df[7].columns[0].strip('〒')  #郵便番号 BILLINGPOSTALCODE\n",
    "        value8 = df[8].columns[1] #所在地\n",
    "        value9 = df[9].columns[0] #電話番号 PHONE\n",
    "        value10 = df[10].columns[1] #設立年月 STARTDATE__C\n",
    "        value11 = df[11].columns[1] #創業年月\n",
    "        value12 = df[12].columns[0] #資本金 CAPITAL__C\n",
    "        value13 = df[13].columns[0].strip('人') #従業員数赤嶺追加\n",
    "        # value14 = df[14]  #業種\n",
    "        value14_1 = df[14].columns[0] #業種1\n",
    "        value14_2 = df[14].iloc[0][0] #業種2\n",
    "        value14_3 = df[14].iloc[1][0] #業種3\n",
    "\n",
    "        value15 = df[15].columns[0].replace('\\r','') #営業種目\n",
    "        value16 = df[16].columns[1].replace('\\r','') #営業所・支店\n",
    "        value17 = df[17].columns[0].replace('\\r','') #役員\n",
    "        value18 = df[18].columns[1].replace('\\r','') #仕入先\n",
    "        value19 = df[19].columns[0].replace('\\r','') #大株主\n",
    "        value20 = df[20].columns[1].replace('\\r','') #販売先\n",
    "\n",
    "        # value21 = df[21] #業績\n",
    "        value21_1_RECYM = df[21].iloc[0][0] #期間1\n",
    "        value21_1_AMOUNT = df[21].iloc[0][1] #売上1\n",
    "        value21_1_PROFIT = df[21].iloc[0][4] #利益1\n",
    "        value21_2_RECYM = df[21].iloc[1][0] #期間2\n",
    "        value21_2_AMOUNT = df[21].iloc[1][1] #売上2\n",
    "        value21_2_PROFIT = df[21].iloc[1][4] #利益2\n",
    "        value21_3_RECYM = df[21].iloc[2][0] #期間3\n",
    "        value21_3_AMOUNT = df[21].iloc[2][1] #売上3\n",
    "        value21_3_PROFIT = df[21].iloc[2][4] #利益3\n",
    "\n",
    "        value22 = df[22].columns[1].replace('\\r','') #取引銀行\n",
    "        value23 = df[23].columns[1].replace('\\r','') #売上伸長率\n",
    "        value24 = df[24].columns[0] #利益伸長率\n",
    "        value25 = df[25].columns[1].replace('\\r','') #概況\n",
    "      # value26 = df[26].columns[0].replace('\\r','') #代表者\n",
    "        value27 = df[27].columns[0].replace('\\r','') #代表者住所\n",
    "        value28 = df[28].columns[0].replace('\\r','')[:10] #生年月日\n",
    "      # value29 = df[29].columns[0].replace('\\r','') #干支\n",
    "        value30 = df[30].columns[0].replace('\\r','')[2:] #出身地\n",
    "        value31 = df[31].columns[1].replace('\\r','') #出身校\n",
    "\n",
    "        #値をリスト化\n",
    "        value = [value0,value1,value2,value3,value4,value5,value6,value7,value8,value9,value10,value11,value12,value13,value14_1,value14_2,value14_3,\n",
    "                value15,value16,value17,value18,value19,value20,value21_3_RECYM,value21_3_AMOUNT,value21_3_PROFIT,value21_2_RECYM,value21_2_AMOUNT,value21_2_PROFIT,value21_1_RECYM,value21_1_AMOUNT,value21_1_PROFIT,\n",
    "                value22,value23,value24,value25,value27,value28,value30,value31]\n",
    "        # pdf_records.append(value)←ここで追加されているのでどちらがいいのか前田さんに確認\n",
    "        \n",
    "\n",
    "        #テーブルを作成\n",
    "        df = pd.DataFrame([value],columns = columns)\n",
    "        #テーブルに追加\n",
    "        #df_ = df_.append(df,ignore_index = True)\n",
    "        df_ = pd.concat([df_, df], ignore_index=True)\n",
    "        #print(f'{f}を処理中({startpdf+t}/{endpdf})')\n",
    "        #CSVへ変換\n",
    "        #try :\n",
    "        #   df_.to_csv(f'{f}_csv.csv',encoding='cp932')\n",
    "        #except :\n",
    "        #   df_.to_csv(f'{f}_csv.csv',encoding='utf-8')\n",
    "        return value\n",
    "    except Exception as e:\n",
    "        print('表示するページはありません!')\n",
    "        print(e)"
   ]
  },
  {
   "cell_type": "code",
   "execution_count": 77,
   "id": "6501f6e0-0600-4304-9ba1-e9402a9fb789",
   "metadata": {},
   "outputs": [
    {
     "name": "stdout",
     "output_type": "stream",
     "text": [
      "['福岡県_(糸島市,那珂川市)_349件.pdf']\n"
     ]
    }
   ],
   "source": [
    "print(files)"
   ]
  },
  {
   "cell_type": "code",
   "execution_count": 78,
   "id": "ab141019-4d00-447f-8996-eb028ade91fb",
   "metadata": {},
   "outputs": [
    {
     "name": "stdout",
     "output_type": "stream",
     "text": [
      "TSR/2024/福岡県_(糸島市,那珂川市)_349件.pdfを読み込み\n",
      "ページ数: 349\n",
      "ページ 1 を処理中\n"
     ]
    },
    {
     "name": "stderr",
     "output_type": "stream",
     "text": [
      "Got stderr: 11月 21, 2024 1:48:10 午後 org.apache.fontbox.ttf.CmapSubtable processSubtype14\n",
      "警告: Format 14 cmap table is not supported and will be ignored\n",
      "\n"
     ]
    },
    {
     "name": "stdout",
     "output_type": "stream",
     "text": [
      "ページ 2 を処理中\n"
     ]
    },
    {
     "name": "stderr",
     "output_type": "stream",
     "text": [
      "Got stderr: 11月 21, 2024 1:48:11 午後 org.apache.fontbox.ttf.CmapSubtable processSubtype14\n",
      "警告: Format 14 cmap table is not supported and will be ignored\n",
      "\n"
     ]
    },
    {
     "name": "stdout",
     "output_type": "stream",
     "text": [
      "ページ 3 を処理中\n"
     ]
    },
    {
     "name": "stderr",
     "output_type": "stream",
     "text": [
      "Got stderr: 11月 21, 2024 1:48:11 午後 org.apache.fontbox.ttf.CmapSubtable processSubtype14\n",
      "警告: Format 14 cmap table is not supported and will be ignored\n",
      "\n"
     ]
    },
    {
     "name": "stdout",
     "output_type": "stream",
     "text": [
      "ページ 4 を処理中\n"
     ]
    },
    {
     "name": "stderr",
     "output_type": "stream",
     "text": [
      "Got stderr: 11月 21, 2024 1:48:12 午後 org.apache.fontbox.ttf.CmapSubtable processSubtype14\n",
      "警告: Format 14 cmap table is not supported and will be ignored\n",
      "\n"
     ]
    },
    {
     "name": "stdout",
     "output_type": "stream",
     "text": [
      "ページ 5 を処理中\n"
     ]
    },
    {
     "name": "stderr",
     "output_type": "stream",
     "text": [
      "Got stderr: 11月 21, 2024 1:48:12 午後 org.apache.fontbox.ttf.CmapSubtable processSubtype14\n",
      "警告: Format 14 cmap table is not supported and will be ignored\n",
      "\n"
     ]
    },
    {
     "name": "stdout",
     "output_type": "stream",
     "text": [
      "ページ 6 を処理中\n"
     ]
    },
    {
     "name": "stderr",
     "output_type": "stream",
     "text": [
      "Got stderr: 11月 21, 2024 1:48:13 午後 org.apache.fontbox.ttf.CmapSubtable processSubtype14\n",
      "警告: Format 14 cmap table is not supported and will be ignored\n",
      "\n"
     ]
    },
    {
     "name": "stdout",
     "output_type": "stream",
     "text": [
      "ページ 7 を処理中\n"
     ]
    },
    {
     "name": "stderr",
     "output_type": "stream",
     "text": [
      "Got stderr: 11月 21, 2024 1:48:13 午後 org.apache.fontbox.ttf.CmapSubtable processSubtype14\n",
      "警告: Format 14 cmap table is not supported and will be ignored\n",
      "\n"
     ]
    },
    {
     "name": "stdout",
     "output_type": "stream",
     "text": [
      "ページ 8 を処理中\n"
     ]
    },
    {
     "name": "stderr",
     "output_type": "stream",
     "text": [
      "Got stderr: 11月 21, 2024 1:48:14 午後 org.apache.fontbox.ttf.CmapSubtable processSubtype14\n",
      "警告: Format 14 cmap table is not supported and will be ignored\n",
      "\n"
     ]
    },
    {
     "name": "stdout",
     "output_type": "stream",
     "text": [
      "ページ 9 を処理中\n"
     ]
    },
    {
     "name": "stderr",
     "output_type": "stream",
     "text": [
      "Got stderr: 11月 21, 2024 1:48:14 午後 org.apache.fontbox.ttf.CmapSubtable processSubtype14\n",
      "警告: Format 14 cmap table is not supported and will be ignored\n",
      "\n"
     ]
    },
    {
     "name": "stdout",
     "output_type": "stream",
     "text": [
      "ページ 10 を処理中\n"
     ]
    },
    {
     "name": "stderr",
     "output_type": "stream",
     "text": [
      "Got stderr: 11月 21, 2024 1:48:15 午後 org.apache.fontbox.ttf.CmapSubtable processSubtype14\n",
      "警告: Format 14 cmap table is not supported and will be ignored\n",
      "\n"
     ]
    },
    {
     "name": "stdout",
     "output_type": "stream",
     "text": [
      "ページ 11 を処理中\n"
     ]
    },
    {
     "name": "stderr",
     "output_type": "stream",
     "text": [
      "Got stderr: 11月 21, 2024 1:48:15 午後 org.apache.fontbox.ttf.CmapSubtable processSubtype14\n",
      "警告: Format 14 cmap table is not supported and will be ignored\n",
      "\n"
     ]
    },
    {
     "name": "stdout",
     "output_type": "stream",
     "text": [
      "ページ 12 を処理中\n"
     ]
    },
    {
     "name": "stderr",
     "output_type": "stream",
     "text": [
      "Got stderr: 11月 21, 2024 1:48:16 午後 org.apache.fontbox.ttf.CmapSubtable processSubtype14\n",
      "警告: Format 14 cmap table is not supported and will be ignored\n",
      "\n"
     ]
    },
    {
     "name": "stdout",
     "output_type": "stream",
     "text": [
      "ページ 13 を処理中\n"
     ]
    },
    {
     "name": "stderr",
     "output_type": "stream",
     "text": [
      "Got stderr: 11月 21, 2024 1:48:16 午後 org.apache.fontbox.ttf.CmapSubtable processSubtype14\n",
      "警告: Format 14 cmap table is not supported and will be ignored\n",
      "\n"
     ]
    },
    {
     "name": "stdout",
     "output_type": "stream",
     "text": [
      "ページ 14 を処理中\n"
     ]
    },
    {
     "name": "stderr",
     "output_type": "stream",
     "text": [
      "Got stderr: 11月 21, 2024 1:48:16 午後 org.apache.fontbox.ttf.CmapSubtable processSubtype14\n",
      "警告: Format 14 cmap table is not supported and will be ignored\n",
      "\n"
     ]
    },
    {
     "name": "stdout",
     "output_type": "stream",
     "text": [
      "ページ 15 を処理中\n"
     ]
    },
    {
     "name": "stderr",
     "output_type": "stream",
     "text": [
      "Got stderr: 11月 21, 2024 1:48:17 午後 org.apache.fontbox.ttf.CmapSubtable processSubtype14\n",
      "警告: Format 14 cmap table is not supported and will be ignored\n",
      "\n"
     ]
    },
    {
     "name": "stdout",
     "output_type": "stream",
     "text": [
      "ページ 16 を処理中\n"
     ]
    },
    {
     "name": "stderr",
     "output_type": "stream",
     "text": [
      "Got stderr: 11月 21, 2024 1:48:17 午後 org.apache.fontbox.ttf.CmapSubtable processSubtype14\n",
      "警告: Format 14 cmap table is not supported and will be ignored\n",
      "\n"
     ]
    },
    {
     "name": "stdout",
     "output_type": "stream",
     "text": [
      "ページ 17 を処理中\n"
     ]
    },
    {
     "name": "stderr",
     "output_type": "stream",
     "text": [
      "Got stderr: 11月 21, 2024 1:48:18 午後 org.apache.fontbox.ttf.CmapSubtable processSubtype14\n",
      "警告: Format 14 cmap table is not supported and will be ignored\n",
      "\n"
     ]
    },
    {
     "name": "stdout",
     "output_type": "stream",
     "text": [
      "ページ 18 を処理中\n"
     ]
    },
    {
     "name": "stderr",
     "output_type": "stream",
     "text": [
      "Got stderr: 11月 21, 2024 1:48:18 午後 org.apache.fontbox.ttf.CmapSubtable processSubtype14\n",
      "警告: Format 14 cmap table is not supported and will be ignored\n",
      "\n"
     ]
    },
    {
     "name": "stdout",
     "output_type": "stream",
     "text": [
      "ページ 19 を処理中\n"
     ]
    },
    {
     "name": "stderr",
     "output_type": "stream",
     "text": [
      "Got stderr: 11月 21, 2024 1:48:19 午後 org.apache.fontbox.ttf.CmapSubtable processSubtype14\n",
      "警告: Format 14 cmap table is not supported and will be ignored\n",
      "\n"
     ]
    },
    {
     "name": "stdout",
     "output_type": "stream",
     "text": [
      "ページ 20 を処理中\n"
     ]
    },
    {
     "name": "stderr",
     "output_type": "stream",
     "text": [
      "Got stderr: 11月 21, 2024 1:48:19 午後 org.apache.fontbox.ttf.CmapSubtable processSubtype14\n",
      "警告: Format 14 cmap table is not supported and will be ignored\n",
      "\n"
     ]
    },
    {
     "name": "stdout",
     "output_type": "stream",
     "text": [
      "ページ 21 を処理中\n"
     ]
    },
    {
     "name": "stderr",
     "output_type": "stream",
     "text": [
      "Got stderr: 11月 21, 2024 1:48:20 午後 org.apache.fontbox.ttf.CmapSubtable processSubtype14\n",
      "警告: Format 14 cmap table is not supported and will be ignored\n",
      "\n"
     ]
    },
    {
     "name": "stdout",
     "output_type": "stream",
     "text": [
      "ページ 22 を処理中\n"
     ]
    },
    {
     "name": "stderr",
     "output_type": "stream",
     "text": [
      "Got stderr: 11月 21, 2024 1:48:20 午後 org.apache.fontbox.ttf.CmapSubtable processSubtype14\n",
      "警告: Format 14 cmap table is not supported and will be ignored\n",
      "\n"
     ]
    },
    {
     "name": "stdout",
     "output_type": "stream",
     "text": [
      "ページ 23 を処理中\n"
     ]
    },
    {
     "name": "stderr",
     "output_type": "stream",
     "text": [
      "Got stderr: 11月 21, 2024 1:48:21 午後 org.apache.fontbox.ttf.CmapSubtable processSubtype14\n",
      "警告: Format 14 cmap table is not supported and will be ignored\n",
      "\n"
     ]
    },
    {
     "name": "stdout",
     "output_type": "stream",
     "text": [
      "ページ 24 を処理中\n"
     ]
    },
    {
     "name": "stderr",
     "output_type": "stream",
     "text": [
      "Got stderr: 11月 21, 2024 1:48:21 午後 org.apache.fontbox.ttf.CmapSubtable processSubtype14\n",
      "警告: Format 14 cmap table is not supported and will be ignored\n",
      "\n"
     ]
    },
    {
     "name": "stdout",
     "output_type": "stream",
     "text": [
      "ページ 25 を処理中\n"
     ]
    },
    {
     "name": "stderr",
     "output_type": "stream",
     "text": [
      "Got stderr: 11月 21, 2024 1:48:22 午後 org.apache.fontbox.ttf.CmapSubtable processSubtype14\n",
      "警告: Format 14 cmap table is not supported and will be ignored\n",
      "\n"
     ]
    },
    {
     "name": "stdout",
     "output_type": "stream",
     "text": [
      "ページ 26 を処理中\n"
     ]
    },
    {
     "name": "stderr",
     "output_type": "stream",
     "text": [
      "Got stderr: 11月 21, 2024 1:48:22 午後 org.apache.fontbox.ttf.CmapSubtable processSubtype14\n",
      "警告: Format 14 cmap table is not supported and will be ignored\n",
      "\n"
     ]
    },
    {
     "name": "stdout",
     "output_type": "stream",
     "text": [
      "ページ 27 を処理中\n"
     ]
    },
    {
     "name": "stderr",
     "output_type": "stream",
     "text": [
      "Got stderr: 11月 21, 2024 1:48:23 午後 org.apache.fontbox.ttf.CmapSubtable processSubtype14\n",
      "警告: Format 14 cmap table is not supported and will be ignored\n",
      "\n"
     ]
    },
    {
     "name": "stdout",
     "output_type": "stream",
     "text": [
      "ページ 28 を処理中\n"
     ]
    },
    {
     "name": "stderr",
     "output_type": "stream",
     "text": [
      "Got stderr: 11月 21, 2024 1:48:23 午後 org.apache.fontbox.ttf.CmapSubtable processSubtype14\n",
      "警告: Format 14 cmap table is not supported and will be ignored\n",
      "\n"
     ]
    },
    {
     "name": "stdout",
     "output_type": "stream",
     "text": [
      "ページ 29 を処理中\n"
     ]
    },
    {
     "name": "stderr",
     "output_type": "stream",
     "text": [
      "Got stderr: 11月 21, 2024 1:48:23 午後 org.apache.fontbox.ttf.CmapSubtable processSubtype14\n",
      "警告: Format 14 cmap table is not supported and will be ignored\n",
      "\n"
     ]
    },
    {
     "name": "stdout",
     "output_type": "stream",
     "text": [
      "ページ 30 を処理中\n"
     ]
    },
    {
     "name": "stderr",
     "output_type": "stream",
     "text": [
      "Got stderr: 11月 21, 2024 1:48:24 午後 org.apache.fontbox.ttf.CmapSubtable processSubtype14\n",
      "警告: Format 14 cmap table is not supported and will be ignored\n",
      "\n"
     ]
    },
    {
     "name": "stdout",
     "output_type": "stream",
     "text": [
      "ページ 31 を処理中\n"
     ]
    },
    {
     "name": "stderr",
     "output_type": "stream",
     "text": [
      "Got stderr: 11月 21, 2024 1:48:24 午後 org.apache.fontbox.ttf.CmapSubtable processSubtype14\n",
      "警告: Format 14 cmap table is not supported and will be ignored\n",
      "\n"
     ]
    },
    {
     "name": "stdout",
     "output_type": "stream",
     "text": [
      "ページ 32 を処理中\n"
     ]
    },
    {
     "name": "stderr",
     "output_type": "stream",
     "text": [
      "Got stderr: 11月 21, 2024 1:48:25 午後 org.apache.fontbox.ttf.CmapSubtable processSubtype14\n",
      "警告: Format 14 cmap table is not supported and will be ignored\n",
      "\n"
     ]
    },
    {
     "name": "stdout",
     "output_type": "stream",
     "text": [
      "ページ 33 を処理中\n"
     ]
    },
    {
     "name": "stderr",
     "output_type": "stream",
     "text": [
      "Got stderr: 11月 21, 2024 1:48:25 午後 org.apache.fontbox.ttf.CmapSubtable processSubtype14\n",
      "警告: Format 14 cmap table is not supported and will be ignored\n",
      "\n"
     ]
    },
    {
     "name": "stdout",
     "output_type": "stream",
     "text": [
      "ページ 34 を処理中\n"
     ]
    },
    {
     "name": "stderr",
     "output_type": "stream",
     "text": [
      "Got stderr: 11月 21, 2024 1:48:26 午後 org.apache.fontbox.ttf.CmapSubtable processSubtype14\n",
      "警告: Format 14 cmap table is not supported and will be ignored\n",
      "\n"
     ]
    },
    {
     "name": "stdout",
     "output_type": "stream",
     "text": [
      "ページ 35 を処理中\n"
     ]
    },
    {
     "name": "stderr",
     "output_type": "stream",
     "text": [
      "Got stderr: 11月 21, 2024 1:48:26 午後 org.apache.fontbox.ttf.CmapSubtable processSubtype14\n",
      "警告: Format 14 cmap table is not supported and will be ignored\n",
      "\n"
     ]
    },
    {
     "name": "stdout",
     "output_type": "stream",
     "text": [
      "ページ 36 を処理中\n"
     ]
    },
    {
     "name": "stderr",
     "output_type": "stream",
     "text": [
      "Got stderr: 11月 21, 2024 1:48:27 午後 org.apache.fontbox.ttf.CmapSubtable processSubtype14\n",
      "警告: Format 14 cmap table is not supported and will be ignored\n",
      "\n"
     ]
    },
    {
     "name": "stdout",
     "output_type": "stream",
     "text": [
      "ページ 37 を処理中\n"
     ]
    },
    {
     "name": "stderr",
     "output_type": "stream",
     "text": [
      "Got stderr: 11月 21, 2024 1:48:27 午後 org.apache.fontbox.ttf.CmapSubtable processSubtype14\n",
      "警告: Format 14 cmap table is not supported and will be ignored\n",
      "\n"
     ]
    },
    {
     "name": "stdout",
     "output_type": "stream",
     "text": [
      "ページ 38 を処理中\n"
     ]
    },
    {
     "name": "stderr",
     "output_type": "stream",
     "text": [
      "Got stderr: 11月 21, 2024 1:48:28 午後 org.apache.fontbox.ttf.CmapSubtable processSubtype14\n",
      "警告: Format 14 cmap table is not supported and will be ignored\n",
      "\n"
     ]
    },
    {
     "name": "stdout",
     "output_type": "stream",
     "text": [
      "ページ 39 を処理中\n"
     ]
    },
    {
     "name": "stderr",
     "output_type": "stream",
     "text": [
      "Got stderr: 11月 21, 2024 1:48:28 午後 org.apache.fontbox.ttf.CmapSubtable processSubtype14\n",
      "警告: Format 14 cmap table is not supported and will be ignored\n",
      "\n"
     ]
    },
    {
     "name": "stdout",
     "output_type": "stream",
     "text": [
      "ページ 40 を処理中\n"
     ]
    },
    {
     "name": "stderr",
     "output_type": "stream",
     "text": [
      "Got stderr: 11月 21, 2024 1:48:29 午後 org.apache.fontbox.ttf.CmapSubtable processSubtype14\n",
      "警告: Format 14 cmap table is not supported and will be ignored\n",
      "\n"
     ]
    },
    {
     "name": "stdout",
     "output_type": "stream",
     "text": [
      "ページ 41 を処理中\n"
     ]
    },
    {
     "name": "stderr",
     "output_type": "stream",
     "text": [
      "Got stderr: 11月 21, 2024 1:48:29 午後 org.apache.fontbox.ttf.CmapSubtable processSubtype14\n",
      "警告: Format 14 cmap table is not supported and will be ignored\n",
      "\n"
     ]
    },
    {
     "name": "stdout",
     "output_type": "stream",
     "text": [
      "ページ 42 を処理中\n"
     ]
    },
    {
     "name": "stderr",
     "output_type": "stream",
     "text": [
      "Got stderr: 11月 21, 2024 1:48:30 午後 org.apache.fontbox.ttf.CmapSubtable processSubtype14\n",
      "警告: Format 14 cmap table is not supported and will be ignored\n",
      "\n"
     ]
    },
    {
     "name": "stdout",
     "output_type": "stream",
     "text": [
      "ページ 43 を処理中\n"
     ]
    },
    {
     "name": "stderr",
     "output_type": "stream",
     "text": [
      "Got stderr: 11月 21, 2024 1:48:30 午後 org.apache.fontbox.ttf.CmapSubtable processSubtype14\n",
      "警告: Format 14 cmap table is not supported and will be ignored\n",
      "\n"
     ]
    },
    {
     "name": "stdout",
     "output_type": "stream",
     "text": [
      "ページ 44 を処理中\n"
     ]
    },
    {
     "name": "stderr",
     "output_type": "stream",
     "text": [
      "Got stderr: 11月 21, 2024 1:48:30 午後 org.apache.fontbox.ttf.CmapSubtable processSubtype14\n",
      "警告: Format 14 cmap table is not supported and will be ignored\n",
      "\n"
     ]
    },
    {
     "name": "stdout",
     "output_type": "stream",
     "text": [
      "ページ 45 を処理中\n"
     ]
    },
    {
     "name": "stderr",
     "output_type": "stream",
     "text": [
      "Got stderr: 11月 21, 2024 1:48:31 午後 org.apache.fontbox.ttf.CmapSubtable processSubtype14\n",
      "警告: Format 14 cmap table is not supported and will be ignored\n",
      "\n"
     ]
    },
    {
     "name": "stdout",
     "output_type": "stream",
     "text": [
      "ページ 46 を処理中\n"
     ]
    },
    {
     "name": "stderr",
     "output_type": "stream",
     "text": [
      "Got stderr: 11月 21, 2024 1:48:31 午後 org.apache.fontbox.ttf.CmapSubtable processSubtype14\n",
      "警告: Format 14 cmap table is not supported and will be ignored\n",
      "\n"
     ]
    },
    {
     "name": "stdout",
     "output_type": "stream",
     "text": [
      "ページ 47 を処理中\n"
     ]
    },
    {
     "name": "stderr",
     "output_type": "stream",
     "text": [
      "Got stderr: 11月 21, 2024 1:48:32 午後 org.apache.fontbox.ttf.CmapSubtable processSubtype14\n",
      "警告: Format 14 cmap table is not supported and will be ignored\n",
      "\n"
     ]
    },
    {
     "name": "stdout",
     "output_type": "stream",
     "text": [
      "ページ 48 を処理中\n"
     ]
    },
    {
     "name": "stderr",
     "output_type": "stream",
     "text": [
      "Got stderr: 11月 21, 2024 1:48:32 午後 org.apache.fontbox.ttf.CmapSubtable processSubtype14\n",
      "警告: Format 14 cmap table is not supported and will be ignored\n",
      "\n"
     ]
    },
    {
     "name": "stdout",
     "output_type": "stream",
     "text": [
      "ページ 49 を処理中\n"
     ]
    },
    {
     "name": "stderr",
     "output_type": "stream",
     "text": [
      "Got stderr: 11月 21, 2024 1:48:33 午後 org.apache.fontbox.ttf.CmapSubtable processSubtype14\n",
      "警告: Format 14 cmap table is not supported and will be ignored\n",
      "\n"
     ]
    },
    {
     "name": "stdout",
     "output_type": "stream",
     "text": [
      "ページ 50 を処理中\n"
     ]
    },
    {
     "name": "stderr",
     "output_type": "stream",
     "text": [
      "Got stderr: 11月 21, 2024 1:48:33 午後 org.apache.fontbox.ttf.CmapSubtable processSubtype14\n",
      "警告: Format 14 cmap table is not supported and will be ignored\n",
      "\n"
     ]
    },
    {
     "name": "stdout",
     "output_type": "stream",
     "text": [
      "ページ 51 を処理中\n"
     ]
    },
    {
     "name": "stderr",
     "output_type": "stream",
     "text": [
      "Got stderr: 11月 21, 2024 1:48:34 午後 org.apache.fontbox.ttf.CmapSubtable processSubtype14\n",
      "警告: Format 14 cmap table is not supported and will be ignored\n",
      "\n"
     ]
    },
    {
     "name": "stdout",
     "output_type": "stream",
     "text": [
      "ページ 52 を処理中\n"
     ]
    },
    {
     "name": "stderr",
     "output_type": "stream",
     "text": [
      "Got stderr: 11月 21, 2024 1:48:34 午後 org.apache.fontbox.ttf.CmapSubtable processSubtype14\n",
      "警告: Format 14 cmap table is not supported and will be ignored\n",
      "\n"
     ]
    },
    {
     "name": "stdout",
     "output_type": "stream",
     "text": [
      "ページ 53 を処理中\n"
     ]
    },
    {
     "name": "stderr",
     "output_type": "stream",
     "text": [
      "Got stderr: 11月 21, 2024 1:48:35 午後 org.apache.fontbox.ttf.CmapSubtable processSubtype14\n",
      "警告: Format 14 cmap table is not supported and will be ignored\n",
      "\n"
     ]
    },
    {
     "name": "stdout",
     "output_type": "stream",
     "text": [
      "ページ 54 を処理中\n"
     ]
    },
    {
     "name": "stderr",
     "output_type": "stream",
     "text": [
      "Got stderr: 11月 21, 2024 1:48:35 午後 org.apache.fontbox.ttf.CmapSubtable processSubtype14\n",
      "警告: Format 14 cmap table is not supported and will be ignored\n",
      "\n"
     ]
    },
    {
     "name": "stdout",
     "output_type": "stream",
     "text": [
      "ページ 55 を処理中\n"
     ]
    },
    {
     "name": "stderr",
     "output_type": "stream",
     "text": [
      "Got stderr: 11月 21, 2024 1:48:35 午後 org.apache.fontbox.ttf.CmapSubtable processSubtype14\n",
      "警告: Format 14 cmap table is not supported and will be ignored\n",
      "\n"
     ]
    },
    {
     "name": "stdout",
     "output_type": "stream",
     "text": [
      "ページ 56 を処理中\n"
     ]
    },
    {
     "name": "stderr",
     "output_type": "stream",
     "text": [
      "Got stderr: 11月 21, 2024 1:48:36 午後 org.apache.fontbox.ttf.CmapSubtable processSubtype14\n",
      "警告: Format 14 cmap table is not supported and will be ignored\n",
      "\n"
     ]
    },
    {
     "name": "stdout",
     "output_type": "stream",
     "text": [
      "ページ 57 を処理中\n"
     ]
    },
    {
     "name": "stderr",
     "output_type": "stream",
     "text": [
      "Got stderr: 11月 21, 2024 1:48:36 午後 org.apache.fontbox.ttf.CmapSubtable processSubtype14\n",
      "警告: Format 14 cmap table is not supported and will be ignored\n",
      "\n"
     ]
    },
    {
     "name": "stdout",
     "output_type": "stream",
     "text": [
      "ページ 58 を処理中\n"
     ]
    },
    {
     "name": "stderr",
     "output_type": "stream",
     "text": [
      "Got stderr: 11月 21, 2024 1:48:37 午後 org.apache.fontbox.ttf.CmapSubtable processSubtype14\n",
      "警告: Format 14 cmap table is not supported and will be ignored\n",
      "\n"
     ]
    },
    {
     "name": "stdout",
     "output_type": "stream",
     "text": [
      "ページ 59 を処理中\n"
     ]
    },
    {
     "name": "stderr",
     "output_type": "stream",
     "text": [
      "Got stderr: 11月 21, 2024 1:48:37 午後 org.apache.fontbox.ttf.CmapSubtable processSubtype14\n",
      "警告: Format 14 cmap table is not supported and will be ignored\n",
      "\n"
     ]
    },
    {
     "name": "stdout",
     "output_type": "stream",
     "text": [
      "ページ 60 を処理中\n"
     ]
    },
    {
     "name": "stderr",
     "output_type": "stream",
     "text": [
      "Got stderr: 11月 21, 2024 1:48:38 午後 org.apache.fontbox.ttf.CmapSubtable processSubtype14\n",
      "警告: Format 14 cmap table is not supported and will be ignored\n",
      "\n"
     ]
    },
    {
     "name": "stdout",
     "output_type": "stream",
     "text": [
      "ページ 61 を処理中\n"
     ]
    },
    {
     "name": "stderr",
     "output_type": "stream",
     "text": [
      "Got stderr: 11月 21, 2024 1:48:38 午後 org.apache.fontbox.ttf.CmapSubtable processSubtype14\n",
      "警告: Format 14 cmap table is not supported and will be ignored\n",
      "\n"
     ]
    },
    {
     "name": "stdout",
     "output_type": "stream",
     "text": [
      "ページ 62 を処理中\n"
     ]
    },
    {
     "name": "stderr",
     "output_type": "stream",
     "text": [
      "Got stderr: 11月 21, 2024 1:48:39 午後 org.apache.fontbox.ttf.CmapSubtable processSubtype14\n",
      "警告: Format 14 cmap table is not supported and will be ignored\n",
      "\n"
     ]
    },
    {
     "name": "stdout",
     "output_type": "stream",
     "text": [
      "ページ 63 を処理中\n"
     ]
    },
    {
     "name": "stderr",
     "output_type": "stream",
     "text": [
      "Got stderr: 11月 21, 2024 1:48:39 午後 org.apache.fontbox.ttf.CmapSubtable processSubtype14\n",
      "警告: Format 14 cmap table is not supported and will be ignored\n",
      "\n"
     ]
    },
    {
     "name": "stdout",
     "output_type": "stream",
     "text": [
      "ページ 64 を処理中\n"
     ]
    },
    {
     "name": "stderr",
     "output_type": "stream",
     "text": [
      "Got stderr: 11月 21, 2024 1:48:40 午後 org.apache.fontbox.ttf.CmapSubtable processSubtype14\n",
      "警告: Format 14 cmap table is not supported and will be ignored\n",
      "\n"
     ]
    },
    {
     "name": "stdout",
     "output_type": "stream",
     "text": [
      "ページ 65 を処理中\n"
     ]
    },
    {
     "name": "stderr",
     "output_type": "stream",
     "text": [
      "Got stderr: 11月 21, 2024 1:48:40 午後 org.apache.fontbox.ttf.CmapSubtable processSubtype14\n",
      "警告: Format 14 cmap table is not supported and will be ignored\n",
      "\n"
     ]
    },
    {
     "name": "stdout",
     "output_type": "stream",
     "text": [
      "ページ 66 を処理中\n"
     ]
    },
    {
     "name": "stderr",
     "output_type": "stream",
     "text": [
      "Got stderr: 11月 21, 2024 1:48:40 午後 org.apache.fontbox.ttf.CmapSubtable processSubtype14\n",
      "警告: Format 14 cmap table is not supported and will be ignored\n",
      "\n"
     ]
    },
    {
     "name": "stdout",
     "output_type": "stream",
     "text": [
      "ページ 67 を処理中\n"
     ]
    },
    {
     "name": "stderr",
     "output_type": "stream",
     "text": [
      "Got stderr: 11月 21, 2024 1:48:41 午後 org.apache.fontbox.ttf.CmapSubtable processSubtype14\n",
      "警告: Format 14 cmap table is not supported and will be ignored\n",
      "\n"
     ]
    },
    {
     "name": "stdout",
     "output_type": "stream",
     "text": [
      "ページ 68 を処理中\n"
     ]
    },
    {
     "name": "stderr",
     "output_type": "stream",
     "text": [
      "Got stderr: 11月 21, 2024 1:48:41 午後 org.apache.fontbox.ttf.CmapSubtable processSubtype14\n",
      "警告: Format 14 cmap table is not supported and will be ignored\n",
      "\n"
     ]
    },
    {
     "name": "stdout",
     "output_type": "stream",
     "text": [
      "ページ 69 を処理中\n"
     ]
    },
    {
     "name": "stderr",
     "output_type": "stream",
     "text": [
      "Got stderr: 11月 21, 2024 1:48:42 午後 org.apache.fontbox.ttf.CmapSubtable processSubtype14\n",
      "警告: Format 14 cmap table is not supported and will be ignored\n",
      "\n"
     ]
    },
    {
     "name": "stdout",
     "output_type": "stream",
     "text": [
      "ページ 70 を処理中\n"
     ]
    },
    {
     "name": "stderr",
     "output_type": "stream",
     "text": [
      "Got stderr: 11月 21, 2024 1:48:42 午後 org.apache.fontbox.ttf.CmapSubtable processSubtype14\n",
      "警告: Format 14 cmap table is not supported and will be ignored\n",
      "\n"
     ]
    },
    {
     "name": "stdout",
     "output_type": "stream",
     "text": [
      "ページ 71 を処理中\n"
     ]
    },
    {
     "name": "stderr",
     "output_type": "stream",
     "text": [
      "Got stderr: 11月 21, 2024 1:48:43 午後 org.apache.fontbox.ttf.CmapSubtable processSubtype14\n",
      "警告: Format 14 cmap table is not supported and will be ignored\n",
      "\n"
     ]
    },
    {
     "name": "stdout",
     "output_type": "stream",
     "text": [
      "ページ 72 を処理中\n"
     ]
    },
    {
     "name": "stderr",
     "output_type": "stream",
     "text": [
      "Got stderr: 11月 21, 2024 1:48:43 午後 org.apache.fontbox.ttf.CmapSubtable processSubtype14\n",
      "警告: Format 14 cmap table is not supported and will be ignored\n",
      "\n"
     ]
    },
    {
     "name": "stdout",
     "output_type": "stream",
     "text": [
      "ページ 73 を処理中\n"
     ]
    },
    {
     "name": "stderr",
     "output_type": "stream",
     "text": [
      "Got stderr: 11月 21, 2024 1:48:44 午後 org.apache.fontbox.ttf.CmapSubtable processSubtype14\n",
      "警告: Format 14 cmap table is not supported and will be ignored\n",
      "\n"
     ]
    },
    {
     "name": "stdout",
     "output_type": "stream",
     "text": [
      "ページ 74 を処理中\n"
     ]
    },
    {
     "name": "stderr",
     "output_type": "stream",
     "text": [
      "Got stderr: 11月 21, 2024 1:48:44 午後 org.apache.fontbox.ttf.CmapSubtable processSubtype14\n",
      "警告: Format 14 cmap table is not supported and will be ignored\n",
      "\n"
     ]
    },
    {
     "name": "stdout",
     "output_type": "stream",
     "text": [
      "ページ 75 を処理中\n"
     ]
    },
    {
     "name": "stderr",
     "output_type": "stream",
     "text": [
      "Got stderr: 11月 21, 2024 1:48:45 午後 org.apache.fontbox.ttf.CmapSubtable processSubtype14\n",
      "警告: Format 14 cmap table is not supported and will be ignored\n",
      "\n"
     ]
    },
    {
     "name": "stdout",
     "output_type": "stream",
     "text": [
      "ページ 76 を処理中\n"
     ]
    },
    {
     "name": "stderr",
     "output_type": "stream",
     "text": [
      "Got stderr: 11月 21, 2024 1:48:45 午後 org.apache.fontbox.ttf.CmapSubtable processSubtype14\n",
      "警告: Format 14 cmap table is not supported and will be ignored\n",
      "\n"
     ]
    },
    {
     "name": "stdout",
     "output_type": "stream",
     "text": [
      "ページ 77 を処理中\n"
     ]
    },
    {
     "name": "stderr",
     "output_type": "stream",
     "text": [
      "Got stderr: 11月 21, 2024 1:48:45 午後 org.apache.fontbox.ttf.CmapSubtable processSubtype14\n",
      "警告: Format 14 cmap table is not supported and will be ignored\n",
      "\n"
     ]
    },
    {
     "name": "stdout",
     "output_type": "stream",
     "text": [
      "ページ 78 を処理中\n"
     ]
    },
    {
     "name": "stderr",
     "output_type": "stream",
     "text": [
      "Got stderr: 11月 21, 2024 1:48:46 午後 org.apache.fontbox.ttf.CmapSubtable processSubtype14\n",
      "警告: Format 14 cmap table is not supported and will be ignored\n",
      "\n"
     ]
    },
    {
     "name": "stdout",
     "output_type": "stream",
     "text": [
      "ページ 79 を処理中\n"
     ]
    },
    {
     "name": "stderr",
     "output_type": "stream",
     "text": [
      "Got stderr: 11月 21, 2024 1:48:46 午後 org.apache.fontbox.ttf.CmapSubtable processSubtype14\n",
      "警告: Format 14 cmap table is not supported and will be ignored\n",
      "\n"
     ]
    },
    {
     "name": "stdout",
     "output_type": "stream",
     "text": [
      "ページ 80 を処理中\n"
     ]
    },
    {
     "name": "stderr",
     "output_type": "stream",
     "text": [
      "Got stderr: 11月 21, 2024 1:48:47 午後 org.apache.fontbox.ttf.CmapSubtable processSubtype14\n",
      "警告: Format 14 cmap table is not supported and will be ignored\n",
      "\n"
     ]
    },
    {
     "name": "stdout",
     "output_type": "stream",
     "text": [
      "ページ 81 を処理中\n"
     ]
    },
    {
     "name": "stderr",
     "output_type": "stream",
     "text": [
      "Got stderr: 11月 21, 2024 1:48:47 午後 org.apache.fontbox.ttf.CmapSubtable processSubtype14\n",
      "警告: Format 14 cmap table is not supported and will be ignored\n",
      "\n"
     ]
    },
    {
     "name": "stdout",
     "output_type": "stream",
     "text": [
      "ページ 82 を処理中\n"
     ]
    },
    {
     "name": "stderr",
     "output_type": "stream",
     "text": [
      "Got stderr: 11月 21, 2024 1:48:48 午後 org.apache.fontbox.ttf.CmapSubtable processSubtype14\n",
      "警告: Format 14 cmap table is not supported and will be ignored\n",
      "\n"
     ]
    },
    {
     "name": "stdout",
     "output_type": "stream",
     "text": [
      "ページ 83 を処理中\n"
     ]
    },
    {
     "name": "stderr",
     "output_type": "stream",
     "text": [
      "Got stderr: 11月 21, 2024 1:48:48 午後 org.apache.fontbox.ttf.CmapSubtable processSubtype14\n",
      "警告: Format 14 cmap table is not supported and will be ignored\n",
      "\n"
     ]
    },
    {
     "name": "stdout",
     "output_type": "stream",
     "text": [
      "ページ 84 を処理中\n"
     ]
    },
    {
     "name": "stderr",
     "output_type": "stream",
     "text": [
      "Got stderr: 11月 21, 2024 1:48:49 午後 org.apache.fontbox.ttf.CmapSubtable processSubtype14\n",
      "警告: Format 14 cmap table is not supported and will be ignored\n",
      "\n"
     ]
    },
    {
     "name": "stdout",
     "output_type": "stream",
     "text": [
      "ページ 85 を処理中\n"
     ]
    },
    {
     "name": "stderr",
     "output_type": "stream",
     "text": [
      "Got stderr: 11月 21, 2024 1:48:49 午後 org.apache.fontbox.ttf.CmapSubtable processSubtype14\n",
      "警告: Format 14 cmap table is not supported and will be ignored\n",
      "\n"
     ]
    },
    {
     "name": "stdout",
     "output_type": "stream",
     "text": [
      "ページ 86 を処理中\n"
     ]
    },
    {
     "name": "stderr",
     "output_type": "stream",
     "text": [
      "Got stderr: 11月 21, 2024 1:48:50 午後 org.apache.fontbox.ttf.CmapSubtable processSubtype14\n",
      "警告: Format 14 cmap table is not supported and will be ignored\n",
      "\n"
     ]
    },
    {
     "name": "stdout",
     "output_type": "stream",
     "text": [
      "ページ 87 を処理中\n"
     ]
    },
    {
     "name": "stderr",
     "output_type": "stream",
     "text": [
      "Got stderr: 11月 21, 2024 1:48:50 午後 org.apache.fontbox.ttf.CmapSubtable processSubtype14\n",
      "警告: Format 14 cmap table is not supported and will be ignored\n",
      "\n"
     ]
    },
    {
     "name": "stdout",
     "output_type": "stream",
     "text": [
      "ページ 88 を処理中\n"
     ]
    },
    {
     "name": "stderr",
     "output_type": "stream",
     "text": [
      "Got stderr: 11月 21, 2024 1:48:50 午後 org.apache.fontbox.ttf.CmapSubtable processSubtype14\n",
      "警告: Format 14 cmap table is not supported and will be ignored\n",
      "\n"
     ]
    },
    {
     "name": "stdout",
     "output_type": "stream",
     "text": [
      "ページ 89 を処理中\n"
     ]
    },
    {
     "name": "stderr",
     "output_type": "stream",
     "text": [
      "Got stderr: 11月 21, 2024 1:48:51 午後 org.apache.fontbox.ttf.CmapSubtable processSubtype14\n",
      "警告: Format 14 cmap table is not supported and will be ignored\n",
      "\n"
     ]
    },
    {
     "name": "stdout",
     "output_type": "stream",
     "text": [
      "ページ 90 を処理中\n"
     ]
    },
    {
     "name": "stderr",
     "output_type": "stream",
     "text": [
      "Got stderr: 11月 21, 2024 1:48:52 午後 org.apache.fontbox.ttf.CmapSubtable processSubtype14\n",
      "警告: Format 14 cmap table is not supported and will be ignored\n",
      "\n"
     ]
    },
    {
     "name": "stdout",
     "output_type": "stream",
     "text": [
      "ページ 91 を処理中\n"
     ]
    },
    {
     "name": "stderr",
     "output_type": "stream",
     "text": [
      "Got stderr: 11月 21, 2024 1:48:52 午後 org.apache.fontbox.ttf.CmapSubtable processSubtype14\n",
      "警告: Format 14 cmap table is not supported and will be ignored\n",
      "\n"
     ]
    },
    {
     "name": "stdout",
     "output_type": "stream",
     "text": [
      "ページ 92 を処理中\n"
     ]
    },
    {
     "name": "stderr",
     "output_type": "stream",
     "text": [
      "Got stderr: 11月 21, 2024 1:48:53 午後 org.apache.fontbox.ttf.CmapSubtable processSubtype14\n",
      "警告: Format 14 cmap table is not supported and will be ignored\n",
      "\n"
     ]
    },
    {
     "name": "stdout",
     "output_type": "stream",
     "text": [
      "ページ 93 を処理中\n"
     ]
    },
    {
     "name": "stderr",
     "output_type": "stream",
     "text": [
      "Got stderr: 11月 21, 2024 1:48:53 午後 org.apache.fontbox.ttf.CmapSubtable processSubtype14\n",
      "警告: Format 14 cmap table is not supported and will be ignored\n",
      "\n"
     ]
    },
    {
     "name": "stdout",
     "output_type": "stream",
     "text": [
      "ページ 94 を処理中\n"
     ]
    },
    {
     "name": "stderr",
     "output_type": "stream",
     "text": [
      "Got stderr: 11月 21, 2024 1:48:53 午後 org.apache.fontbox.ttf.CmapSubtable processSubtype14\n",
      "警告: Format 14 cmap table is not supported and will be ignored\n",
      "\n"
     ]
    },
    {
     "name": "stdout",
     "output_type": "stream",
     "text": [
      "ページ 95 を処理中\n"
     ]
    },
    {
     "name": "stderr",
     "output_type": "stream",
     "text": [
      "Got stderr: 11月 21, 2024 1:48:54 午後 org.apache.fontbox.ttf.CmapSubtable processSubtype14\n",
      "警告: Format 14 cmap table is not supported and will be ignored\n",
      "\n"
     ]
    },
    {
     "name": "stdout",
     "output_type": "stream",
     "text": [
      "ページ 96 を処理中\n"
     ]
    },
    {
     "name": "stderr",
     "output_type": "stream",
     "text": [
      "Got stderr: 11月 21, 2024 1:48:54 午後 org.apache.fontbox.ttf.CmapSubtable processSubtype14\n",
      "警告: Format 14 cmap table is not supported and will be ignored\n",
      "\n"
     ]
    },
    {
     "name": "stdout",
     "output_type": "stream",
     "text": [
      "ページ 97 を処理中\n"
     ]
    },
    {
     "name": "stderr",
     "output_type": "stream",
     "text": [
      "Got stderr: 11月 21, 2024 1:48:55 午後 org.apache.fontbox.ttf.CmapSubtable processSubtype14\n",
      "警告: Format 14 cmap table is not supported and will be ignored\n",
      "\n"
     ]
    },
    {
     "name": "stdout",
     "output_type": "stream",
     "text": [
      "ページ 98 を処理中\n"
     ]
    },
    {
     "name": "stderr",
     "output_type": "stream",
     "text": [
      "Got stderr: 11月 21, 2024 1:48:55 午後 org.apache.fontbox.ttf.CmapSubtable processSubtype14\n",
      "警告: Format 14 cmap table is not supported and will be ignored\n",
      "\n"
     ]
    },
    {
     "name": "stdout",
     "output_type": "stream",
     "text": [
      "ページ 99 を処理中\n"
     ]
    },
    {
     "name": "stderr",
     "output_type": "stream",
     "text": [
      "Got stderr: 11月 21, 2024 1:48:56 午後 org.apache.fontbox.ttf.CmapSubtable processSubtype14\n",
      "警告: Format 14 cmap table is not supported and will be ignored\n",
      "\n"
     ]
    },
    {
     "name": "stdout",
     "output_type": "stream",
     "text": [
      "ページ 100 を処理中\n"
     ]
    },
    {
     "name": "stderr",
     "output_type": "stream",
     "text": [
      "Got stderr: 11月 21, 2024 1:48:56 午後 org.apache.fontbox.ttf.CmapSubtable processSubtype14\n",
      "警告: Format 14 cmap table is not supported and will be ignored\n",
      "\n"
     ]
    },
    {
     "name": "stdout",
     "output_type": "stream",
     "text": [
      "ページ 101 を処理中\n"
     ]
    },
    {
     "name": "stderr",
     "output_type": "stream",
     "text": [
      "Got stderr: 11月 21, 2024 1:48:57 午後 org.apache.fontbox.ttf.CmapSubtable processSubtype14\n",
      "警告: Format 14 cmap table is not supported and will be ignored\n",
      "\n"
     ]
    },
    {
     "name": "stdout",
     "output_type": "stream",
     "text": [
      "ページ 102 を処理中\n"
     ]
    },
    {
     "name": "stderr",
     "output_type": "stream",
     "text": [
      "Got stderr: 11月 21, 2024 1:48:57 午後 org.apache.fontbox.ttf.CmapSubtable processSubtype14\n",
      "警告: Format 14 cmap table is not supported and will be ignored\n",
      "\n"
     ]
    },
    {
     "name": "stdout",
     "output_type": "stream",
     "text": [
      "ページ 103 を処理中\n"
     ]
    },
    {
     "name": "stderr",
     "output_type": "stream",
     "text": [
      "Got stderr: 11月 21, 2024 1:48:58 午後 org.apache.fontbox.ttf.CmapSubtable processSubtype14\n",
      "警告: Format 14 cmap table is not supported and will be ignored\n",
      "\n"
     ]
    },
    {
     "name": "stdout",
     "output_type": "stream",
     "text": [
      "ページ 104 を処理中\n"
     ]
    },
    {
     "name": "stderr",
     "output_type": "stream",
     "text": [
      "Got stderr: 11月 21, 2024 1:48:58 午後 org.apache.fontbox.ttf.CmapSubtable processSubtype14\n",
      "警告: Format 14 cmap table is not supported and will be ignored\n",
      "\n"
     ]
    },
    {
     "name": "stdout",
     "output_type": "stream",
     "text": [
      "ページ 105 を処理中\n"
     ]
    },
    {
     "name": "stderr",
     "output_type": "stream",
     "text": [
      "Got stderr: 11月 21, 2024 1:48:59 午後 org.apache.fontbox.ttf.CmapSubtable processSubtype14\n",
      "警告: Format 14 cmap table is not supported and will be ignored\n",
      "\n"
     ]
    },
    {
     "name": "stdout",
     "output_type": "stream",
     "text": [
      "ページ 106 を処理中\n"
     ]
    },
    {
     "name": "stderr",
     "output_type": "stream",
     "text": [
      "Got stderr: 11月 21, 2024 1:48:59 午後 org.apache.fontbox.ttf.CmapSubtable processSubtype14\n",
      "警告: Format 14 cmap table is not supported and will be ignored\n",
      "\n"
     ]
    },
    {
     "name": "stdout",
     "output_type": "stream",
     "text": [
      "ページ 107 を処理中\n"
     ]
    },
    {
     "name": "stderr",
     "output_type": "stream",
     "text": [
      "Got stderr: 11月 21, 2024 1:49:00 午後 org.apache.fontbox.ttf.CmapSubtable processSubtype14\n",
      "警告: Format 14 cmap table is not supported and will be ignored\n",
      "\n"
     ]
    },
    {
     "name": "stdout",
     "output_type": "stream",
     "text": [
      "ページ 108 を処理中\n"
     ]
    },
    {
     "name": "stderr",
     "output_type": "stream",
     "text": [
      "Got stderr: 11月 21, 2024 1:49:00 午後 org.apache.fontbox.ttf.CmapSubtable processSubtype14\n",
      "警告: Format 14 cmap table is not supported and will be ignored\n",
      "\n"
     ]
    },
    {
     "name": "stdout",
     "output_type": "stream",
     "text": [
      "ページ 109 を処理中\n"
     ]
    },
    {
     "name": "stderr",
     "output_type": "stream",
     "text": [
      "Got stderr: 11月 21, 2024 1:49:01 午後 org.apache.fontbox.ttf.CmapSubtable processSubtype14\n",
      "警告: Format 14 cmap table is not supported and will be ignored\n",
      "\n"
     ]
    },
    {
     "name": "stdout",
     "output_type": "stream",
     "text": [
      "ページ 110 を処理中\n"
     ]
    },
    {
     "name": "stderr",
     "output_type": "stream",
     "text": [
      "Got stderr: 11月 21, 2024 1:49:01 午後 org.apache.fontbox.ttf.CmapSubtable processSubtype14\n",
      "警告: Format 14 cmap table is not supported and will be ignored\n",
      "\n"
     ]
    },
    {
     "name": "stdout",
     "output_type": "stream",
     "text": [
      "ページ 111 を処理中\n"
     ]
    },
    {
     "name": "stderr",
     "output_type": "stream",
     "text": [
      "Got stderr: 11月 21, 2024 1:49:02 午後 org.apache.fontbox.ttf.CmapSubtable processSubtype14\n",
      "警告: Format 14 cmap table is not supported and will be ignored\n",
      "\n"
     ]
    },
    {
     "name": "stdout",
     "output_type": "stream",
     "text": [
      "ページ 112 を処理中\n"
     ]
    },
    {
     "name": "stderr",
     "output_type": "stream",
     "text": [
      "Got stderr: 11月 21, 2024 1:49:02 午後 org.apache.fontbox.ttf.CmapSubtable processSubtype14\n",
      "警告: Format 14 cmap table is not supported and will be ignored\n",
      "\n"
     ]
    },
    {
     "name": "stdout",
     "output_type": "stream",
     "text": [
      "ページ 113 を処理中\n"
     ]
    },
    {
     "name": "stderr",
     "output_type": "stream",
     "text": [
      "Got stderr: 11月 21, 2024 1:49:02 午後 org.apache.fontbox.ttf.CmapSubtable processSubtype14\n",
      "警告: Format 14 cmap table is not supported and will be ignored\n",
      "\n"
     ]
    },
    {
     "name": "stdout",
     "output_type": "stream",
     "text": [
      "ページ 114 を処理中\n"
     ]
    },
    {
     "name": "stderr",
     "output_type": "stream",
     "text": [
      "Got stderr: 11月 21, 2024 1:49:03 午後 org.apache.fontbox.ttf.CmapSubtable processSubtype14\n",
      "警告: Format 14 cmap table is not supported and will be ignored\n",
      "\n"
     ]
    },
    {
     "name": "stdout",
     "output_type": "stream",
     "text": [
      "ページ 115 を処理中\n"
     ]
    },
    {
     "name": "stderr",
     "output_type": "stream",
     "text": [
      "Got stderr: 11月 21, 2024 1:49:03 午後 org.apache.fontbox.ttf.CmapSubtable processSubtype14\n",
      "警告: Format 14 cmap table is not supported and will be ignored\n",
      "\n"
     ]
    },
    {
     "name": "stdout",
     "output_type": "stream",
     "text": [
      "ページ 116 を処理中\n"
     ]
    },
    {
     "name": "stderr",
     "output_type": "stream",
     "text": [
      "Got stderr: 11月 21, 2024 1:49:04 午後 org.apache.fontbox.ttf.CmapSubtable processSubtype14\n",
      "警告: Format 14 cmap table is not supported and will be ignored\n",
      "\n"
     ]
    },
    {
     "name": "stdout",
     "output_type": "stream",
     "text": [
      "ページ 117 を処理中\n"
     ]
    },
    {
     "name": "stderr",
     "output_type": "stream",
     "text": [
      "Got stderr: 11月 21, 2024 1:49:04 午後 org.apache.fontbox.ttf.CmapSubtable processSubtype14\n",
      "警告: Format 14 cmap table is not supported and will be ignored\n",
      "\n"
     ]
    },
    {
     "name": "stdout",
     "output_type": "stream",
     "text": [
      "ページ 118 を処理中\n"
     ]
    },
    {
     "name": "stderr",
     "output_type": "stream",
     "text": [
      "Got stderr: 11月 21, 2024 1:49:05 午後 org.apache.fontbox.ttf.CmapSubtable processSubtype14\n",
      "警告: Format 14 cmap table is not supported and will be ignored\n",
      "\n"
     ]
    },
    {
     "name": "stdout",
     "output_type": "stream",
     "text": [
      "ページ 119 を処理中\n"
     ]
    },
    {
     "name": "stderr",
     "output_type": "stream",
     "text": [
      "Got stderr: 11月 21, 2024 1:49:05 午後 org.apache.fontbox.ttf.CmapSubtable processSubtype14\n",
      "警告: Format 14 cmap table is not supported and will be ignored\n",
      "\n"
     ]
    },
    {
     "name": "stdout",
     "output_type": "stream",
     "text": [
      "ページ 120 を処理中\n"
     ]
    },
    {
     "name": "stderr",
     "output_type": "stream",
     "text": [
      "Got stderr: 11月 21, 2024 1:49:06 午後 org.apache.fontbox.ttf.CmapSubtable processSubtype14\n",
      "警告: Format 14 cmap table is not supported and will be ignored\n",
      "\n"
     ]
    },
    {
     "name": "stdout",
     "output_type": "stream",
     "text": [
      "ページ 121 を処理中\n"
     ]
    },
    {
     "name": "stderr",
     "output_type": "stream",
     "text": [
      "Got stderr: 11月 21, 2024 1:49:06 午後 org.apache.fontbox.ttf.CmapSubtable processSubtype14\n",
      "警告: Format 14 cmap table is not supported and will be ignored\n",
      "\n"
     ]
    },
    {
     "name": "stdout",
     "output_type": "stream",
     "text": [
      "ページ 122 を処理中\n"
     ]
    },
    {
     "name": "stderr",
     "output_type": "stream",
     "text": [
      "Got stderr: 11月 21, 2024 1:49:07 午後 org.apache.fontbox.ttf.CmapSubtable processSubtype14\n",
      "警告: Format 14 cmap table is not supported and will be ignored\n",
      "\n"
     ]
    },
    {
     "name": "stdout",
     "output_type": "stream",
     "text": [
      "ページ 123 を処理中\n"
     ]
    },
    {
     "name": "stderr",
     "output_type": "stream",
     "text": [
      "Got stderr: 11月 21, 2024 1:49:07 午後 org.apache.fontbox.ttf.CmapSubtable processSubtype14\n",
      "警告: Format 14 cmap table is not supported and will be ignored\n",
      "\n"
     ]
    },
    {
     "name": "stdout",
     "output_type": "stream",
     "text": [
      "ページ 124 を処理中\n"
     ]
    },
    {
     "name": "stderr",
     "output_type": "stream",
     "text": [
      "Got stderr: 11月 21, 2024 1:49:08 午後 org.apache.fontbox.ttf.CmapSubtable processSubtype14\n",
      "警告: Format 14 cmap table is not supported and will be ignored\n",
      "\n"
     ]
    },
    {
     "name": "stdout",
     "output_type": "stream",
     "text": [
      "ページ 125 を処理中\n"
     ]
    },
    {
     "name": "stderr",
     "output_type": "stream",
     "text": [
      "Got stderr: 11月 21, 2024 1:49:08 午後 org.apache.fontbox.ttf.CmapSubtable processSubtype14\n",
      "警告: Format 14 cmap table is not supported and will be ignored\n",
      "\n"
     ]
    },
    {
     "name": "stdout",
     "output_type": "stream",
     "text": [
      "ページ 126 を処理中\n"
     ]
    },
    {
     "name": "stderr",
     "output_type": "stream",
     "text": [
      "Got stderr: 11月 21, 2024 1:49:09 午後 org.apache.fontbox.ttf.CmapSubtable processSubtype14\n",
      "警告: Format 14 cmap table is not supported and will be ignored\n",
      "\n"
     ]
    },
    {
     "name": "stdout",
     "output_type": "stream",
     "text": [
      "ページ 127 を処理中\n"
     ]
    },
    {
     "name": "stderr",
     "output_type": "stream",
     "text": [
      "Got stderr: 11月 21, 2024 1:49:09 午後 org.apache.fontbox.ttf.CmapSubtable processSubtype14\n",
      "警告: Format 14 cmap table is not supported and will be ignored\n",
      "\n"
     ]
    },
    {
     "name": "stdout",
     "output_type": "stream",
     "text": [
      "ページ 128 を処理中\n"
     ]
    },
    {
     "name": "stderr",
     "output_type": "stream",
     "text": [
      "Got stderr: 11月 21, 2024 1:49:10 午後 org.apache.fontbox.ttf.CmapSubtable processSubtype14\n",
      "警告: Format 14 cmap table is not supported and will be ignored\n",
      "\n"
     ]
    },
    {
     "name": "stdout",
     "output_type": "stream",
     "text": [
      "ページ 129 を処理中\n"
     ]
    },
    {
     "name": "stderr",
     "output_type": "stream",
     "text": [
      "Got stderr: 11月 21, 2024 1:49:10 午後 org.apache.fontbox.ttf.CmapSubtable processSubtype14\n",
      "警告: Format 14 cmap table is not supported and will be ignored\n",
      "\n"
     ]
    },
    {
     "name": "stdout",
     "output_type": "stream",
     "text": [
      "ページ 130 を処理中\n"
     ]
    },
    {
     "name": "stderr",
     "output_type": "stream",
     "text": [
      "Got stderr: 11月 21, 2024 1:49:11 午後 org.apache.fontbox.ttf.CmapSubtable processSubtype14\n",
      "警告: Format 14 cmap table is not supported and will be ignored\n",
      "\n"
     ]
    },
    {
     "name": "stdout",
     "output_type": "stream",
     "text": [
      "ページ 131 を処理中\n"
     ]
    },
    {
     "name": "stderr",
     "output_type": "stream",
     "text": [
      "Got stderr: 11月 21, 2024 1:49:11 午後 org.apache.fontbox.ttf.CmapSubtable processSubtype14\n",
      "警告: Format 14 cmap table is not supported and will be ignored\n",
      "\n"
     ]
    },
    {
     "name": "stdout",
     "output_type": "stream",
     "text": [
      "ページ 132 を処理中\n"
     ]
    },
    {
     "name": "stderr",
     "output_type": "stream",
     "text": [
      "Got stderr: 11月 21, 2024 1:49:11 午後 org.apache.fontbox.ttf.CmapSubtable processSubtype14\n",
      "警告: Format 14 cmap table is not supported and will be ignored\n",
      "\n"
     ]
    },
    {
     "name": "stdout",
     "output_type": "stream",
     "text": [
      "ページ 133 を処理中\n"
     ]
    },
    {
     "name": "stderr",
     "output_type": "stream",
     "text": [
      "Got stderr: 11月 21, 2024 1:49:12 午後 org.apache.fontbox.ttf.CmapSubtable processSubtype14\n",
      "警告: Format 14 cmap table is not supported and will be ignored\n",
      "\n"
     ]
    },
    {
     "name": "stdout",
     "output_type": "stream",
     "text": [
      "ページ 134 を処理中\n"
     ]
    },
    {
     "name": "stderr",
     "output_type": "stream",
     "text": [
      "Got stderr: 11月 21, 2024 1:49:12 午後 org.apache.fontbox.ttf.CmapSubtable processSubtype14\n",
      "警告: Format 14 cmap table is not supported and will be ignored\n",
      "\n"
     ]
    },
    {
     "name": "stdout",
     "output_type": "stream",
     "text": [
      "ページ 135 を処理中\n"
     ]
    },
    {
     "name": "stderr",
     "output_type": "stream",
     "text": [
      "Got stderr: 11月 21, 2024 1:49:13 午後 org.apache.fontbox.ttf.CmapSubtable processSubtype14\n",
      "警告: Format 14 cmap table is not supported and will be ignored\n",
      "\n"
     ]
    },
    {
     "name": "stdout",
     "output_type": "stream",
     "text": [
      "ページ 136 を処理中\n"
     ]
    },
    {
     "name": "stderr",
     "output_type": "stream",
     "text": [
      "Got stderr: 11月 21, 2024 1:49:13 午後 org.apache.fontbox.ttf.CmapSubtable processSubtype14\n",
      "警告: Format 14 cmap table is not supported and will be ignored\n",
      "\n"
     ]
    },
    {
     "name": "stdout",
     "output_type": "stream",
     "text": [
      "ページ 137 を処理中\n"
     ]
    },
    {
     "name": "stderr",
     "output_type": "stream",
     "text": [
      "Got stderr: 11月 21, 2024 1:49:14 午後 org.apache.fontbox.ttf.CmapSubtable processSubtype14\n",
      "警告: Format 14 cmap table is not supported and will be ignored\n",
      "\n"
     ]
    },
    {
     "name": "stdout",
     "output_type": "stream",
     "text": [
      "ページ 138 を処理中\n"
     ]
    },
    {
     "name": "stderr",
     "output_type": "stream",
     "text": [
      "Got stderr: 11月 21, 2024 1:49:14 午後 org.apache.fontbox.ttf.CmapSubtable processSubtype14\n",
      "警告: Format 14 cmap table is not supported and will be ignored\n",
      "\n"
     ]
    },
    {
     "name": "stdout",
     "output_type": "stream",
     "text": [
      "ページ 139 を処理中\n"
     ]
    },
    {
     "name": "stderr",
     "output_type": "stream",
     "text": [
      "Got stderr: 11月 21, 2024 1:49:15 午後 org.apache.fontbox.ttf.CmapSubtable processSubtype14\n",
      "警告: Format 14 cmap table is not supported and will be ignored\n",
      "\n"
     ]
    },
    {
     "name": "stdout",
     "output_type": "stream",
     "text": [
      "ページ 140 を処理中\n"
     ]
    },
    {
     "name": "stderr",
     "output_type": "stream",
     "text": [
      "Got stderr: 11月 21, 2024 1:49:15 午後 org.apache.fontbox.ttf.CmapSubtable processSubtype14\n",
      "警告: Format 14 cmap table is not supported and will be ignored\n",
      "\n"
     ]
    },
    {
     "name": "stdout",
     "output_type": "stream",
     "text": [
      "ページ 141 を処理中\n"
     ]
    },
    {
     "name": "stderr",
     "output_type": "stream",
     "text": [
      "Got stderr: 11月 21, 2024 1:49:16 午後 org.apache.fontbox.ttf.CmapSubtable processSubtype14\n",
      "警告: Format 14 cmap table is not supported and will be ignored\n",
      "\n"
     ]
    },
    {
     "name": "stdout",
     "output_type": "stream",
     "text": [
      "ページ 142 を処理中\n"
     ]
    },
    {
     "name": "stderr",
     "output_type": "stream",
     "text": [
      "Got stderr: 11月 21, 2024 1:49:16 午後 org.apache.fontbox.ttf.CmapSubtable processSubtype14\n",
      "警告: Format 14 cmap table is not supported and will be ignored\n",
      "\n"
     ]
    },
    {
     "name": "stdout",
     "output_type": "stream",
     "text": [
      "ページ 143 を処理中\n"
     ]
    },
    {
     "name": "stderr",
     "output_type": "stream",
     "text": [
      "Got stderr: 11月 21, 2024 1:49:17 午後 org.apache.fontbox.ttf.CmapSubtable processSubtype14\n",
      "警告: Format 14 cmap table is not supported and will be ignored\n",
      "\n"
     ]
    },
    {
     "name": "stdout",
     "output_type": "stream",
     "text": [
      "ページ 144 を処理中\n"
     ]
    },
    {
     "name": "stderr",
     "output_type": "stream",
     "text": [
      "Got stderr: 11月 21, 2024 1:49:17 午後 org.apache.fontbox.ttf.CmapSubtable processSubtype14\n",
      "警告: Format 14 cmap table is not supported and will be ignored\n",
      "\n"
     ]
    },
    {
     "name": "stdout",
     "output_type": "stream",
     "text": [
      "ページ 145 を処理中\n"
     ]
    },
    {
     "name": "stderr",
     "output_type": "stream",
     "text": [
      "Got stderr: 11月 21, 2024 1:49:17 午後 org.apache.fontbox.ttf.CmapSubtable processSubtype14\n",
      "警告: Format 14 cmap table is not supported and will be ignored\n",
      "\n"
     ]
    },
    {
     "name": "stdout",
     "output_type": "stream",
     "text": [
      "ページ 146 を処理中\n"
     ]
    },
    {
     "name": "stderr",
     "output_type": "stream",
     "text": [
      "Got stderr: 11月 21, 2024 1:49:18 午後 org.apache.fontbox.ttf.CmapSubtable processSubtype14\n",
      "警告: Format 14 cmap table is not supported and will be ignored\n",
      "\n"
     ]
    },
    {
     "name": "stdout",
     "output_type": "stream",
     "text": [
      "ページ 147 を処理中\n"
     ]
    },
    {
     "name": "stderr",
     "output_type": "stream",
     "text": [
      "Got stderr: 11月 21, 2024 1:49:18 午後 org.apache.fontbox.ttf.CmapSubtable processSubtype14\n",
      "警告: Format 14 cmap table is not supported and will be ignored\n",
      "\n"
     ]
    },
    {
     "name": "stdout",
     "output_type": "stream",
     "text": [
      "ページ 148 を処理中\n"
     ]
    },
    {
     "name": "stderr",
     "output_type": "stream",
     "text": [
      "Got stderr: 11月 21, 2024 1:49:19 午後 org.apache.fontbox.ttf.CmapSubtable processSubtype14\n",
      "警告: Format 14 cmap table is not supported and will be ignored\n",
      "\n"
     ]
    },
    {
     "name": "stdout",
     "output_type": "stream",
     "text": [
      "ページ 149 を処理中\n"
     ]
    },
    {
     "name": "stderr",
     "output_type": "stream",
     "text": [
      "Got stderr: 11月 21, 2024 1:49:19 午後 org.apache.fontbox.ttf.CmapSubtable processSubtype14\n",
      "警告: Format 14 cmap table is not supported and will be ignored\n",
      "\n"
     ]
    },
    {
     "name": "stdout",
     "output_type": "stream",
     "text": [
      "ページ 150 を処理中\n"
     ]
    },
    {
     "name": "stderr",
     "output_type": "stream",
     "text": [
      "Got stderr: 11月 21, 2024 1:49:20 午後 org.apache.fontbox.ttf.CmapSubtable processSubtype14\n",
      "警告: Format 14 cmap table is not supported and will be ignored\n",
      "\n"
     ]
    },
    {
     "name": "stdout",
     "output_type": "stream",
     "text": [
      "ページ 151 を処理中\n"
     ]
    },
    {
     "name": "stderr",
     "output_type": "stream",
     "text": [
      "Got stderr: 11月 21, 2024 1:49:20 午後 org.apache.fontbox.ttf.CmapSubtable processSubtype14\n",
      "警告: Format 14 cmap table is not supported and will be ignored\n",
      "\n"
     ]
    },
    {
     "name": "stdout",
     "output_type": "stream",
     "text": [
      "ページ 152 を処理中\n"
     ]
    },
    {
     "name": "stderr",
     "output_type": "stream",
     "text": [
      "Got stderr: 11月 21, 2024 1:49:21 午後 org.apache.fontbox.ttf.CmapSubtable processSubtype14\n",
      "警告: Format 14 cmap table is not supported and will be ignored\n",
      "\n"
     ]
    },
    {
     "name": "stdout",
     "output_type": "stream",
     "text": [
      "ページ 153 を処理中\n"
     ]
    },
    {
     "name": "stderr",
     "output_type": "stream",
     "text": [
      "Got stderr: 11月 21, 2024 1:49:21 午後 org.apache.fontbox.ttf.CmapSubtable processSubtype14\n",
      "警告: Format 14 cmap table is not supported and will be ignored\n",
      "\n"
     ]
    },
    {
     "name": "stdout",
     "output_type": "stream",
     "text": [
      "ページ 154 を処理中\n"
     ]
    },
    {
     "name": "stderr",
     "output_type": "stream",
     "text": [
      "Got stderr: 11月 21, 2024 1:49:22 午後 org.apache.fontbox.ttf.CmapSubtable processSubtype14\n",
      "警告: Format 14 cmap table is not supported and will be ignored\n",
      "\n"
     ]
    },
    {
     "name": "stdout",
     "output_type": "stream",
     "text": [
      "ページ 155 を処理中\n"
     ]
    },
    {
     "name": "stderr",
     "output_type": "stream",
     "text": [
      "Got stderr: 11月 21, 2024 1:49:22 午後 org.apache.fontbox.ttf.CmapSubtable processSubtype14\n",
      "警告: Format 14 cmap table is not supported and will be ignored\n",
      "\n"
     ]
    },
    {
     "name": "stdout",
     "output_type": "stream",
     "text": [
      "ページ 156 を処理中\n"
     ]
    },
    {
     "name": "stderr",
     "output_type": "stream",
     "text": [
      "Got stderr: 11月 21, 2024 1:49:23 午後 org.apache.fontbox.ttf.CmapSubtable processSubtype14\n",
      "警告: Format 14 cmap table is not supported and will be ignored\n",
      "\n"
     ]
    },
    {
     "name": "stdout",
     "output_type": "stream",
     "text": [
      "ページ 157 を処理中\n"
     ]
    },
    {
     "name": "stderr",
     "output_type": "stream",
     "text": [
      "Got stderr: 11月 21, 2024 1:49:23 午後 org.apache.fontbox.ttf.CmapSubtable processSubtype14\n",
      "警告: Format 14 cmap table is not supported and will be ignored\n",
      "\n"
     ]
    },
    {
     "name": "stdout",
     "output_type": "stream",
     "text": [
      "ページ 158 を処理中\n"
     ]
    },
    {
     "name": "stderr",
     "output_type": "stream",
     "text": [
      "Got stderr: 11月 21, 2024 1:49:24 午後 org.apache.fontbox.ttf.CmapSubtable processSubtype14\n",
      "警告: Format 14 cmap table is not supported and will be ignored\n",
      "\n"
     ]
    },
    {
     "name": "stdout",
     "output_type": "stream",
     "text": [
      "ページ 159 を処理中\n"
     ]
    },
    {
     "name": "stderr",
     "output_type": "stream",
     "text": [
      "Got stderr: 11月 21, 2024 1:49:24 午後 org.apache.fontbox.ttf.CmapSubtable processSubtype14\n",
      "警告: Format 14 cmap table is not supported and will be ignored\n",
      "\n"
     ]
    },
    {
     "name": "stdout",
     "output_type": "stream",
     "text": [
      "ページ 160 を処理中\n"
     ]
    },
    {
     "name": "stderr",
     "output_type": "stream",
     "text": [
      "Got stderr: 11月 21, 2024 1:49:25 午後 org.apache.fontbox.ttf.CmapSubtable processSubtype14\n",
      "警告: Format 14 cmap table is not supported and will be ignored\n",
      "\n"
     ]
    },
    {
     "name": "stdout",
     "output_type": "stream",
     "text": [
      "ページ 161 を処理中\n"
     ]
    },
    {
     "name": "stderr",
     "output_type": "stream",
     "text": [
      "Got stderr: 11月 21, 2024 1:49:25 午後 org.apache.fontbox.ttf.CmapSubtable processSubtype14\n",
      "警告: Format 14 cmap table is not supported and will be ignored\n",
      "\n"
     ]
    },
    {
     "name": "stdout",
     "output_type": "stream",
     "text": [
      "ページ 162 を処理中\n"
     ]
    },
    {
     "name": "stderr",
     "output_type": "stream",
     "text": [
      "Got stderr: 11月 21, 2024 1:49:26 午後 org.apache.fontbox.ttf.CmapSubtable processSubtype14\n",
      "警告: Format 14 cmap table is not supported and will be ignored\n",
      "\n"
     ]
    },
    {
     "name": "stdout",
     "output_type": "stream",
     "text": [
      "ページ 163 を処理中\n"
     ]
    },
    {
     "name": "stderr",
     "output_type": "stream",
     "text": [
      "Got stderr: 11月 21, 2024 1:49:26 午後 org.apache.fontbox.ttf.CmapSubtable processSubtype14\n",
      "警告: Format 14 cmap table is not supported and will be ignored\n",
      "\n"
     ]
    },
    {
     "name": "stdout",
     "output_type": "stream",
     "text": [
      "ページ 164 を処理中\n"
     ]
    },
    {
     "name": "stderr",
     "output_type": "stream",
     "text": [
      "Got stderr: 11月 21, 2024 1:49:26 午後 org.apache.fontbox.ttf.CmapSubtable processSubtype14\n",
      "警告: Format 14 cmap table is not supported and will be ignored\n",
      "\n"
     ]
    },
    {
     "name": "stdout",
     "output_type": "stream",
     "text": [
      "ページ 165 を処理中\n"
     ]
    },
    {
     "name": "stderr",
     "output_type": "stream",
     "text": [
      "Got stderr: 11月 21, 2024 1:49:27 午後 org.apache.fontbox.ttf.CmapSubtable processSubtype14\n",
      "警告: Format 14 cmap table is not supported and will be ignored\n",
      "\n"
     ]
    },
    {
     "name": "stdout",
     "output_type": "stream",
     "text": [
      "ページ 166 を処理中\n"
     ]
    },
    {
     "name": "stderr",
     "output_type": "stream",
     "text": [
      "Got stderr: 11月 21, 2024 1:49:27 午後 org.apache.fontbox.ttf.CmapSubtable processSubtype14\n",
      "警告: Format 14 cmap table is not supported and will be ignored\n",
      "\n"
     ]
    },
    {
     "name": "stdout",
     "output_type": "stream",
     "text": [
      "ページ 167 を処理中\n"
     ]
    },
    {
     "name": "stderr",
     "output_type": "stream",
     "text": [
      "Got stderr: 11月 21, 2024 1:49:28 午後 org.apache.fontbox.ttf.CmapSubtable processSubtype14\n",
      "警告: Format 14 cmap table is not supported and will be ignored\n",
      "\n"
     ]
    },
    {
     "name": "stdout",
     "output_type": "stream",
     "text": [
      "ページ 168 を処理中\n"
     ]
    },
    {
     "name": "stderr",
     "output_type": "stream",
     "text": [
      "Got stderr: 11月 21, 2024 1:49:28 午後 org.apache.fontbox.ttf.CmapSubtable processSubtype14\n",
      "警告: Format 14 cmap table is not supported and will be ignored\n",
      "\n"
     ]
    },
    {
     "name": "stdout",
     "output_type": "stream",
     "text": [
      "ページ 169 を処理中\n"
     ]
    },
    {
     "name": "stderr",
     "output_type": "stream",
     "text": [
      "Got stderr: 11月 21, 2024 1:49:29 午後 org.apache.fontbox.ttf.CmapSubtable processSubtype14\n",
      "警告: Format 14 cmap table is not supported and will be ignored\n",
      "\n"
     ]
    },
    {
     "name": "stdout",
     "output_type": "stream",
     "text": [
      "ページ 170 を処理中\n"
     ]
    },
    {
     "name": "stderr",
     "output_type": "stream",
     "text": [
      "Got stderr: 11月 21, 2024 1:49:29 午後 org.apache.fontbox.ttf.CmapSubtable processSubtype14\n",
      "警告: Format 14 cmap table is not supported and will be ignored\n",
      "\n"
     ]
    },
    {
     "name": "stdout",
     "output_type": "stream",
     "text": [
      "ページ 171 を処理中\n"
     ]
    },
    {
     "name": "stderr",
     "output_type": "stream",
     "text": [
      "Got stderr: 11月 21, 2024 1:49:30 午後 org.apache.fontbox.ttf.CmapSubtable processSubtype14\n",
      "警告: Format 14 cmap table is not supported and will be ignored\n",
      "\n"
     ]
    },
    {
     "name": "stdout",
     "output_type": "stream",
     "text": [
      "ページ 172 を処理中\n"
     ]
    },
    {
     "name": "stderr",
     "output_type": "stream",
     "text": [
      "Got stderr: 11月 21, 2024 1:49:30 午後 org.apache.fontbox.ttf.CmapSubtable processSubtype14\n",
      "警告: Format 14 cmap table is not supported and will be ignored\n",
      "\n"
     ]
    },
    {
     "name": "stdout",
     "output_type": "stream",
     "text": [
      "ページ 173 を処理中\n"
     ]
    },
    {
     "name": "stderr",
     "output_type": "stream",
     "text": [
      "Got stderr: 11月 21, 2024 1:49:31 午後 org.apache.fontbox.ttf.CmapSubtable processSubtype14\n",
      "警告: Format 14 cmap table is not supported and will be ignored\n",
      "\n"
     ]
    },
    {
     "name": "stdout",
     "output_type": "stream",
     "text": [
      "ページ 174 を処理中\n"
     ]
    },
    {
     "name": "stderr",
     "output_type": "stream",
     "text": [
      "Got stderr: 11月 21, 2024 1:49:31 午後 org.apache.fontbox.ttf.CmapSubtable processSubtype14\n",
      "警告: Format 14 cmap table is not supported and will be ignored\n",
      "\n"
     ]
    },
    {
     "name": "stdout",
     "output_type": "stream",
     "text": [
      "ページ 175 を処理中\n"
     ]
    },
    {
     "name": "stderr",
     "output_type": "stream",
     "text": [
      "Got stderr: 11月 21, 2024 1:49:32 午後 org.apache.fontbox.ttf.CmapSubtable processSubtype14\n",
      "警告: Format 14 cmap table is not supported and will be ignored\n",
      "\n"
     ]
    },
    {
     "name": "stdout",
     "output_type": "stream",
     "text": [
      "ページ 176 を処理中\n"
     ]
    },
    {
     "name": "stderr",
     "output_type": "stream",
     "text": [
      "Got stderr: 11月 21, 2024 1:49:32 午後 org.apache.fontbox.ttf.CmapSubtable processSubtype14\n",
      "警告: Format 14 cmap table is not supported and will be ignored\n",
      "\n"
     ]
    },
    {
     "name": "stdout",
     "output_type": "stream",
     "text": [
      "ページ 177 を処理中\n"
     ]
    },
    {
     "name": "stderr",
     "output_type": "stream",
     "text": [
      "Got stderr: 11月 21, 2024 1:49:33 午後 org.apache.fontbox.ttf.CmapSubtable processSubtype14\n",
      "警告: Format 14 cmap table is not supported and will be ignored\n",
      "\n"
     ]
    },
    {
     "name": "stdout",
     "output_type": "stream",
     "text": [
      "ページ 178 を処理中\n"
     ]
    },
    {
     "name": "stderr",
     "output_type": "stream",
     "text": [
      "Got stderr: 11月 21, 2024 1:49:33 午後 org.apache.fontbox.ttf.CmapSubtable processSubtype14\n",
      "警告: Format 14 cmap table is not supported and will be ignored\n",
      "\n"
     ]
    },
    {
     "name": "stdout",
     "output_type": "stream",
     "text": [
      "ページ 179 を処理中\n"
     ]
    },
    {
     "name": "stderr",
     "output_type": "stream",
     "text": [
      "Got stderr: 11月 21, 2024 1:49:34 午後 org.apache.fontbox.ttf.CmapSubtable processSubtype14\n",
      "警告: Format 14 cmap table is not supported and will be ignored\n",
      "\n"
     ]
    },
    {
     "name": "stdout",
     "output_type": "stream",
     "text": [
      "ページ 180 を処理中\n"
     ]
    },
    {
     "name": "stderr",
     "output_type": "stream",
     "text": [
      "Got stderr: 11月 21, 2024 1:49:34 午後 org.apache.fontbox.ttf.CmapSubtable processSubtype14\n",
      "警告: Format 14 cmap table is not supported and will be ignored\n",
      "\n"
     ]
    },
    {
     "name": "stdout",
     "output_type": "stream",
     "text": [
      "ページ 181 を処理中\n"
     ]
    },
    {
     "name": "stderr",
     "output_type": "stream",
     "text": [
      "Got stderr: 11月 21, 2024 1:49:35 午後 org.apache.fontbox.ttf.CmapSubtable processSubtype14\n",
      "警告: Format 14 cmap table is not supported and will be ignored\n",
      "\n"
     ]
    },
    {
     "name": "stdout",
     "output_type": "stream",
     "text": [
      "ページ 182 を処理中\n"
     ]
    },
    {
     "name": "stderr",
     "output_type": "stream",
     "text": [
      "Got stderr: 11月 21, 2024 1:49:35 午後 org.apache.fontbox.ttf.CmapSubtable processSubtype14\n",
      "警告: Format 14 cmap table is not supported and will be ignored\n",
      "\n"
     ]
    },
    {
     "name": "stdout",
     "output_type": "stream",
     "text": [
      "ページ 183 を処理中\n"
     ]
    },
    {
     "name": "stderr",
     "output_type": "stream",
     "text": [
      "Got stderr: 11月 21, 2024 1:49:36 午後 org.apache.fontbox.ttf.CmapSubtable processSubtype14\n",
      "警告: Format 14 cmap table is not supported and will be ignored\n",
      "\n"
     ]
    },
    {
     "name": "stdout",
     "output_type": "stream",
     "text": [
      "ページ 184 を処理中\n"
     ]
    },
    {
     "name": "stderr",
     "output_type": "stream",
     "text": [
      "Got stderr: 11月 21, 2024 1:49:36 午後 org.apache.fontbox.ttf.CmapSubtable processSubtype14\n",
      "警告: Format 14 cmap table is not supported and will be ignored\n",
      "\n"
     ]
    },
    {
     "name": "stdout",
     "output_type": "stream",
     "text": [
      "ページ 185 を処理中\n"
     ]
    },
    {
     "name": "stderr",
     "output_type": "stream",
     "text": [
      "Got stderr: 11月 21, 2024 1:49:36 午後 org.apache.fontbox.ttf.CmapSubtable processSubtype14\n",
      "警告: Format 14 cmap table is not supported and will be ignored\n",
      "\n"
     ]
    },
    {
     "name": "stdout",
     "output_type": "stream",
     "text": [
      "ページ 186 を処理中\n"
     ]
    },
    {
     "name": "stderr",
     "output_type": "stream",
     "text": [
      "Got stderr: 11月 21, 2024 1:49:37 午後 org.apache.fontbox.ttf.CmapSubtable processSubtype14\n",
      "警告: Format 14 cmap table is not supported and will be ignored\n",
      "\n"
     ]
    },
    {
     "name": "stdout",
     "output_type": "stream",
     "text": [
      "ページ 187 を処理中\n"
     ]
    },
    {
     "name": "stderr",
     "output_type": "stream",
     "text": [
      "Got stderr: 11月 21, 2024 1:49:37 午後 org.apache.fontbox.ttf.CmapSubtable processSubtype14\n",
      "警告: Format 14 cmap table is not supported and will be ignored\n",
      "\n"
     ]
    },
    {
     "name": "stdout",
     "output_type": "stream",
     "text": [
      "ページ 188 を処理中\n"
     ]
    },
    {
     "name": "stderr",
     "output_type": "stream",
     "text": [
      "Got stderr: 11月 21, 2024 1:49:38 午後 org.apache.fontbox.ttf.CmapSubtable processSubtype14\n",
      "警告: Format 14 cmap table is not supported and will be ignored\n",
      "\n"
     ]
    },
    {
     "name": "stdout",
     "output_type": "stream",
     "text": [
      "ページ 189 を処理中\n"
     ]
    },
    {
     "name": "stderr",
     "output_type": "stream",
     "text": [
      "Got stderr: 11月 21, 2024 1:49:38 午後 org.apache.fontbox.ttf.CmapSubtable processSubtype14\n",
      "警告: Format 14 cmap table is not supported and will be ignored\n",
      "\n"
     ]
    },
    {
     "name": "stdout",
     "output_type": "stream",
     "text": [
      "ページ 190 を処理中\n"
     ]
    },
    {
     "name": "stderr",
     "output_type": "stream",
     "text": [
      "Got stderr: 11月 21, 2024 1:49:39 午後 org.apache.fontbox.ttf.CmapSubtable processSubtype14\n",
      "警告: Format 14 cmap table is not supported and will be ignored\n",
      "\n"
     ]
    },
    {
     "name": "stdout",
     "output_type": "stream",
     "text": [
      "ページ 191 を処理中\n"
     ]
    },
    {
     "name": "stderr",
     "output_type": "stream",
     "text": [
      "Got stderr: 11月 21, 2024 1:49:39 午後 org.apache.fontbox.ttf.CmapSubtable processSubtype14\n",
      "警告: Format 14 cmap table is not supported and will be ignored\n",
      "\n"
     ]
    },
    {
     "name": "stdout",
     "output_type": "stream",
     "text": [
      "ページ 192 を処理中\n"
     ]
    },
    {
     "name": "stderr",
     "output_type": "stream",
     "text": [
      "Got stderr: 11月 21, 2024 1:49:40 午後 org.apache.fontbox.ttf.CmapSubtable processSubtype14\n",
      "警告: Format 14 cmap table is not supported and will be ignored\n",
      "\n"
     ]
    },
    {
     "name": "stdout",
     "output_type": "stream",
     "text": [
      "ページ 193 を処理中\n"
     ]
    },
    {
     "name": "stderr",
     "output_type": "stream",
     "text": [
      "Got stderr: 11月 21, 2024 1:49:40 午後 org.apache.fontbox.ttf.CmapSubtable processSubtype14\n",
      "警告: Format 14 cmap table is not supported and will be ignored\n",
      "\n"
     ]
    },
    {
     "name": "stdout",
     "output_type": "stream",
     "text": [
      "ページ 194 を処理中\n"
     ]
    },
    {
     "name": "stderr",
     "output_type": "stream",
     "text": [
      "Got stderr: 11月 21, 2024 1:49:41 午後 org.apache.fontbox.ttf.CmapSubtable processSubtype14\n",
      "警告: Format 14 cmap table is not supported and will be ignored\n",
      "\n"
     ]
    },
    {
     "name": "stdout",
     "output_type": "stream",
     "text": [
      "ページ 195 を処理中\n"
     ]
    },
    {
     "name": "stderr",
     "output_type": "stream",
     "text": [
      "Got stderr: 11月 21, 2024 1:49:41 午後 org.apache.fontbox.ttf.CmapSubtable processSubtype14\n",
      "警告: Format 14 cmap table is not supported and will be ignored\n",
      "\n"
     ]
    },
    {
     "name": "stdout",
     "output_type": "stream",
     "text": [
      "ページ 196 を処理中\n"
     ]
    },
    {
     "name": "stderr",
     "output_type": "stream",
     "text": [
      "Got stderr: 11月 21, 2024 1:49:42 午後 org.apache.fontbox.ttf.CmapSubtable processSubtype14\n",
      "警告: Format 14 cmap table is not supported and will be ignored\n",
      "\n"
     ]
    },
    {
     "name": "stdout",
     "output_type": "stream",
     "text": [
      "ページ 197 を処理中\n"
     ]
    },
    {
     "name": "stderr",
     "output_type": "stream",
     "text": [
      "Got stderr: 11月 21, 2024 1:49:42 午後 org.apache.fontbox.ttf.CmapSubtable processSubtype14\n",
      "警告: Format 14 cmap table is not supported and will be ignored\n",
      "\n"
     ]
    },
    {
     "name": "stdout",
     "output_type": "stream",
     "text": [
      "ページ 198 を処理中\n"
     ]
    },
    {
     "name": "stderr",
     "output_type": "stream",
     "text": [
      "Got stderr: 11月 21, 2024 1:49:43 午後 org.apache.fontbox.ttf.CmapSubtable processSubtype14\n",
      "警告: Format 14 cmap table is not supported and will be ignored\n",
      "\n"
     ]
    },
    {
     "name": "stdout",
     "output_type": "stream",
     "text": [
      "ページ 199 を処理中\n"
     ]
    },
    {
     "name": "stderr",
     "output_type": "stream",
     "text": [
      "Got stderr: 11月 21, 2024 1:49:43 午後 org.apache.fontbox.ttf.CmapSubtable processSubtype14\n",
      "警告: Format 14 cmap table is not supported and will be ignored\n",
      "\n"
     ]
    },
    {
     "name": "stdout",
     "output_type": "stream",
     "text": [
      "ページ 200 を処理中\n"
     ]
    },
    {
     "name": "stderr",
     "output_type": "stream",
     "text": [
      "Got stderr: 11月 21, 2024 1:49:44 午後 org.apache.fontbox.ttf.CmapSubtable processSubtype14\n",
      "警告: Format 14 cmap table is not supported and will be ignored\n",
      "\n"
     ]
    },
    {
     "name": "stdout",
     "output_type": "stream",
     "text": [
      "ページ 201 を処理中\n"
     ]
    },
    {
     "name": "stderr",
     "output_type": "stream",
     "text": [
      "Got stderr: 11月 21, 2024 1:49:44 午後 org.apache.fontbox.ttf.CmapSubtable processSubtype14\n",
      "警告: Format 14 cmap table is not supported and will be ignored\n",
      "\n"
     ]
    },
    {
     "name": "stdout",
     "output_type": "stream",
     "text": [
      "ページ 202 を処理中\n"
     ]
    },
    {
     "name": "stderr",
     "output_type": "stream",
     "text": [
      "Got stderr: 11月 21, 2024 1:49:45 午後 org.apache.fontbox.ttf.CmapSubtable processSubtype14\n",
      "警告: Format 14 cmap table is not supported and will be ignored\n",
      "\n"
     ]
    },
    {
     "name": "stdout",
     "output_type": "stream",
     "text": [
      "ページ 203 を処理中\n"
     ]
    },
    {
     "name": "stderr",
     "output_type": "stream",
     "text": [
      "Got stderr: 11月 21, 2024 1:49:45 午後 org.apache.fontbox.ttf.CmapSubtable processSubtype14\n",
      "警告: Format 14 cmap table is not supported and will be ignored\n",
      "\n"
     ]
    },
    {
     "name": "stdout",
     "output_type": "stream",
     "text": [
      "ページ 204 を処理中\n"
     ]
    },
    {
     "name": "stderr",
     "output_type": "stream",
     "text": [
      "Got stderr: 11月 21, 2024 1:49:46 午後 org.apache.fontbox.ttf.CmapSubtable processSubtype14\n",
      "警告: Format 14 cmap table is not supported and will be ignored\n",
      "\n"
     ]
    },
    {
     "name": "stdout",
     "output_type": "stream",
     "text": [
      "ページ 205 を処理中\n"
     ]
    },
    {
     "name": "stderr",
     "output_type": "stream",
     "text": [
      "Got stderr: 11月 21, 2024 1:49:46 午後 org.apache.fontbox.ttf.CmapSubtable processSubtype14\n",
      "警告: Format 14 cmap table is not supported and will be ignored\n",
      "\n"
     ]
    },
    {
     "name": "stdout",
     "output_type": "stream",
     "text": [
      "ページ 206 を処理中\n"
     ]
    },
    {
     "name": "stderr",
     "output_type": "stream",
     "text": [
      "Got stderr: 11月 21, 2024 1:49:46 午後 org.apache.fontbox.ttf.CmapSubtable processSubtype14\n",
      "警告: Format 14 cmap table is not supported and will be ignored\n",
      "\n"
     ]
    },
    {
     "name": "stdout",
     "output_type": "stream",
     "text": [
      "ページ 207 を処理中\n"
     ]
    },
    {
     "name": "stderr",
     "output_type": "stream",
     "text": [
      "Got stderr: 11月 21, 2024 1:49:47 午後 org.apache.fontbox.ttf.CmapSubtable processSubtype14\n",
      "警告: Format 14 cmap table is not supported and will be ignored\n",
      "\n"
     ]
    },
    {
     "name": "stdout",
     "output_type": "stream",
     "text": [
      "ページ 208 を処理中\n"
     ]
    },
    {
     "name": "stderr",
     "output_type": "stream",
     "text": [
      "Got stderr: 11月 21, 2024 1:49:47 午後 org.apache.fontbox.ttf.CmapSubtable processSubtype14\n",
      "警告: Format 14 cmap table is not supported and will be ignored\n",
      "\n"
     ]
    },
    {
     "name": "stdout",
     "output_type": "stream",
     "text": [
      "ページ 209 を処理中\n"
     ]
    },
    {
     "name": "stderr",
     "output_type": "stream",
     "text": [
      "Got stderr: 11月 21, 2024 1:49:48 午後 org.apache.fontbox.ttf.CmapSubtable processSubtype14\n",
      "警告: Format 14 cmap table is not supported and will be ignored\n",
      "\n"
     ]
    },
    {
     "name": "stdout",
     "output_type": "stream",
     "text": [
      "ページ 210 を処理中\n"
     ]
    },
    {
     "name": "stderr",
     "output_type": "stream",
     "text": [
      "Got stderr: 11月 21, 2024 1:49:48 午後 org.apache.fontbox.ttf.CmapSubtable processSubtype14\n",
      "警告: Format 14 cmap table is not supported and will be ignored\n",
      "\n"
     ]
    },
    {
     "name": "stdout",
     "output_type": "stream",
     "text": [
      "ページ 211 を処理中\n"
     ]
    },
    {
     "name": "stderr",
     "output_type": "stream",
     "text": [
      "Got stderr: 11月 21, 2024 1:49:49 午後 org.apache.fontbox.ttf.CmapSubtable processSubtype14\n",
      "警告: Format 14 cmap table is not supported and will be ignored\n",
      "\n"
     ]
    },
    {
     "name": "stdout",
     "output_type": "stream",
     "text": [
      "ページ 212 を処理中\n"
     ]
    },
    {
     "name": "stderr",
     "output_type": "stream",
     "text": [
      "Got stderr: 11月 21, 2024 1:49:49 午後 org.apache.fontbox.ttf.CmapSubtable processSubtype14\n",
      "警告: Format 14 cmap table is not supported and will be ignored\n",
      "\n"
     ]
    },
    {
     "name": "stdout",
     "output_type": "stream",
     "text": [
      "ページ 213 を処理中\n"
     ]
    },
    {
     "name": "stderr",
     "output_type": "stream",
     "text": [
      "Got stderr: 11月 21, 2024 1:49:50 午後 org.apache.fontbox.ttf.CmapSubtable processSubtype14\n",
      "警告: Format 14 cmap table is not supported and will be ignored\n",
      "\n"
     ]
    },
    {
     "name": "stdout",
     "output_type": "stream",
     "text": [
      "ページ 214 を処理中\n"
     ]
    },
    {
     "name": "stderr",
     "output_type": "stream",
     "text": [
      "Got stderr: 11月 21, 2024 1:49:50 午後 org.apache.fontbox.ttf.CmapSubtable processSubtype14\n",
      "警告: Format 14 cmap table is not supported and will be ignored\n",
      "\n"
     ]
    },
    {
     "name": "stdout",
     "output_type": "stream",
     "text": [
      "ページ 215 を処理中\n"
     ]
    },
    {
     "name": "stderr",
     "output_type": "stream",
     "text": [
      "Got stderr: 11月 21, 2024 1:49:51 午後 org.apache.fontbox.ttf.CmapSubtable processSubtype14\n",
      "警告: Format 14 cmap table is not supported and will be ignored\n",
      "\n"
     ]
    },
    {
     "name": "stdout",
     "output_type": "stream",
     "text": [
      "ページ 216 を処理中\n"
     ]
    },
    {
     "name": "stderr",
     "output_type": "stream",
     "text": [
      "Got stderr: 11月 21, 2024 1:49:51 午後 org.apache.fontbox.ttf.CmapSubtable processSubtype14\n",
      "警告: Format 14 cmap table is not supported and will be ignored\n",
      "\n"
     ]
    },
    {
     "name": "stdout",
     "output_type": "stream",
     "text": [
      "ページ 217 を処理中\n"
     ]
    },
    {
     "name": "stderr",
     "output_type": "stream",
     "text": [
      "Got stderr: 11月 21, 2024 1:49:52 午後 org.apache.fontbox.ttf.CmapSubtable processSubtype14\n",
      "警告: Format 14 cmap table is not supported and will be ignored\n",
      "\n"
     ]
    },
    {
     "name": "stdout",
     "output_type": "stream",
     "text": [
      "ページ 218 を処理中\n"
     ]
    },
    {
     "name": "stderr",
     "output_type": "stream",
     "text": [
      "Got stderr: 11月 21, 2024 1:49:52 午後 org.apache.fontbox.ttf.CmapSubtable processSubtype14\n",
      "警告: Format 14 cmap table is not supported and will be ignored\n",
      "\n"
     ]
    },
    {
     "name": "stdout",
     "output_type": "stream",
     "text": [
      "ページ 219 を処理中\n"
     ]
    },
    {
     "name": "stderr",
     "output_type": "stream",
     "text": [
      "Got stderr: 11月 21, 2024 1:49:53 午後 org.apache.fontbox.ttf.CmapSubtable processSubtype14\n",
      "警告: Format 14 cmap table is not supported and will be ignored\n",
      "\n"
     ]
    },
    {
     "name": "stdout",
     "output_type": "stream",
     "text": [
      "ページ 220 を処理中\n"
     ]
    },
    {
     "name": "stderr",
     "output_type": "stream",
     "text": [
      "Got stderr: 11月 21, 2024 1:49:53 午後 org.apache.fontbox.ttf.CmapSubtable processSubtype14\n",
      "警告: Format 14 cmap table is not supported and will be ignored\n",
      "\n"
     ]
    },
    {
     "name": "stdout",
     "output_type": "stream",
     "text": [
      "ページ 221 を処理中\n"
     ]
    },
    {
     "name": "stderr",
     "output_type": "stream",
     "text": [
      "Got stderr: 11月 21, 2024 1:49:54 午後 org.apache.fontbox.ttf.CmapSubtable processSubtype14\n",
      "警告: Format 14 cmap table is not supported and will be ignored\n",
      "\n"
     ]
    },
    {
     "name": "stdout",
     "output_type": "stream",
     "text": [
      "ページ 222 を処理中\n"
     ]
    },
    {
     "name": "stderr",
     "output_type": "stream",
     "text": [
      "Got stderr: 11月 21, 2024 1:49:54 午後 org.apache.fontbox.ttf.CmapSubtable processSubtype14\n",
      "警告: Format 14 cmap table is not supported and will be ignored\n",
      "\n"
     ]
    },
    {
     "name": "stdout",
     "output_type": "stream",
     "text": [
      "ページ 223 を処理中\n"
     ]
    },
    {
     "name": "stderr",
     "output_type": "stream",
     "text": [
      "Got stderr: 11月 21, 2024 1:49:55 午後 org.apache.fontbox.ttf.CmapSubtable processSubtype14\n",
      "警告: Format 14 cmap table is not supported and will be ignored\n",
      "\n"
     ]
    },
    {
     "name": "stdout",
     "output_type": "stream",
     "text": [
      "ページ 224 を処理中\n"
     ]
    },
    {
     "name": "stderr",
     "output_type": "stream",
     "text": [
      "Got stderr: 11月 21, 2024 1:49:55 午後 org.apache.fontbox.ttf.CmapSubtable processSubtype14\n",
      "警告: Format 14 cmap table is not supported and will be ignored\n",
      "\n"
     ]
    },
    {
     "name": "stdout",
     "output_type": "stream",
     "text": [
      "ページ 225 を処理中\n"
     ]
    },
    {
     "name": "stderr",
     "output_type": "stream",
     "text": [
      "Got stderr: 11月 21, 2024 1:49:56 午後 org.apache.fontbox.ttf.CmapSubtable processSubtype14\n",
      "警告: Format 14 cmap table is not supported and will be ignored\n",
      "\n"
     ]
    },
    {
     "name": "stdout",
     "output_type": "stream",
     "text": [
      "ページ 226 を処理中\n"
     ]
    },
    {
     "name": "stderr",
     "output_type": "stream",
     "text": [
      "Got stderr: 11月 21, 2024 1:49:56 午後 org.apache.fontbox.ttf.CmapSubtable processSubtype14\n",
      "警告: Format 14 cmap table is not supported and will be ignored\n",
      "\n"
     ]
    },
    {
     "name": "stdout",
     "output_type": "stream",
     "text": [
      "ページ 227 を処理中\n"
     ]
    },
    {
     "name": "stderr",
     "output_type": "stream",
     "text": [
      "Got stderr: 11月 21, 2024 1:49:57 午後 org.apache.fontbox.ttf.CmapSubtable processSubtype14\n",
      "警告: Format 14 cmap table is not supported and will be ignored\n",
      "\n"
     ]
    },
    {
     "name": "stdout",
     "output_type": "stream",
     "text": [
      "ページ 228 を処理中\n"
     ]
    },
    {
     "name": "stderr",
     "output_type": "stream",
     "text": [
      "Got stderr: 11月 21, 2024 1:49:57 午後 org.apache.fontbox.ttf.CmapSubtable processSubtype14\n",
      "警告: Format 14 cmap table is not supported and will be ignored\n",
      "\n"
     ]
    },
    {
     "name": "stdout",
     "output_type": "stream",
     "text": [
      "ページ 229 を処理中\n"
     ]
    },
    {
     "name": "stderr",
     "output_type": "stream",
     "text": [
      "Got stderr: 11月 21, 2024 1:49:58 午後 org.apache.fontbox.ttf.CmapSubtable processSubtype14\n",
      "警告: Format 14 cmap table is not supported and will be ignored\n",
      "\n"
     ]
    },
    {
     "name": "stdout",
     "output_type": "stream",
     "text": [
      "ページ 230 を処理中\n"
     ]
    },
    {
     "name": "stderr",
     "output_type": "stream",
     "text": [
      "Got stderr: 11月 21, 2024 1:49:58 午後 org.apache.fontbox.ttf.CmapSubtable processSubtype14\n",
      "警告: Format 14 cmap table is not supported and will be ignored\n",
      "\n"
     ]
    },
    {
     "name": "stdout",
     "output_type": "stream",
     "text": [
      "ページ 231 を処理中\n"
     ]
    },
    {
     "name": "stderr",
     "output_type": "stream",
     "text": [
      "Got stderr: 11月 21, 2024 1:49:59 午後 org.apache.fontbox.ttf.CmapSubtable processSubtype14\n",
      "警告: Format 14 cmap table is not supported and will be ignored\n",
      "\n"
     ]
    },
    {
     "name": "stdout",
     "output_type": "stream",
     "text": [
      "ページ 232 を処理中\n"
     ]
    },
    {
     "name": "stderr",
     "output_type": "stream",
     "text": [
      "Got stderr: 11月 21, 2024 1:49:59 午後 org.apache.fontbox.ttf.CmapSubtable processSubtype14\n",
      "警告: Format 14 cmap table is not supported and will be ignored\n",
      "\n"
     ]
    },
    {
     "name": "stdout",
     "output_type": "stream",
     "text": [
      "ページ 233 を処理中\n"
     ]
    },
    {
     "name": "stderr",
     "output_type": "stream",
     "text": [
      "Got stderr: 11月 21, 2024 1:50:00 午後 org.apache.fontbox.ttf.CmapSubtable processSubtype14\n",
      "警告: Format 14 cmap table is not supported and will be ignored\n",
      "\n"
     ]
    },
    {
     "name": "stdout",
     "output_type": "stream",
     "text": [
      "ページ 234 を処理中\n"
     ]
    },
    {
     "name": "stderr",
     "output_type": "stream",
     "text": [
      "Got stderr: 11月 21, 2024 1:50:00 午後 org.apache.fontbox.ttf.CmapSubtable processSubtype14\n",
      "警告: Format 14 cmap table is not supported and will be ignored\n",
      "\n"
     ]
    },
    {
     "name": "stdout",
     "output_type": "stream",
     "text": [
      "ページ 235 を処理中\n"
     ]
    },
    {
     "name": "stderr",
     "output_type": "stream",
     "text": [
      "Got stderr: 11月 21, 2024 1:50:01 午後 org.apache.fontbox.ttf.CmapSubtable processSubtype14\n",
      "警告: Format 14 cmap table is not supported and will be ignored\n",
      "\n"
     ]
    },
    {
     "name": "stdout",
     "output_type": "stream",
     "text": [
      "ページ 236 を処理中\n"
     ]
    },
    {
     "name": "stderr",
     "output_type": "stream",
     "text": [
      "Got stderr: 11月 21, 2024 1:50:01 午後 org.apache.fontbox.ttf.CmapSubtable processSubtype14\n",
      "警告: Format 14 cmap table is not supported and will be ignored\n",
      "\n"
     ]
    },
    {
     "name": "stdout",
     "output_type": "stream",
     "text": [
      "ページ 237 を処理中\n"
     ]
    },
    {
     "name": "stderr",
     "output_type": "stream",
     "text": [
      "Got stderr: 11月 21, 2024 1:50:01 午後 org.apache.fontbox.ttf.CmapSubtable processSubtype14\n",
      "警告: Format 14 cmap table is not supported and will be ignored\n",
      "\n"
     ]
    },
    {
     "name": "stdout",
     "output_type": "stream",
     "text": [
      "ページ 238 を処理中\n"
     ]
    },
    {
     "name": "stderr",
     "output_type": "stream",
     "text": [
      "Got stderr: 11月 21, 2024 1:50:02 午後 org.apache.fontbox.ttf.CmapSubtable processSubtype14\n",
      "警告: Format 14 cmap table is not supported and will be ignored\n",
      "\n"
     ]
    },
    {
     "name": "stdout",
     "output_type": "stream",
     "text": [
      "ページ 239 を処理中\n"
     ]
    },
    {
     "name": "stderr",
     "output_type": "stream",
     "text": [
      "Got stderr: 11月 21, 2024 1:50:02 午後 org.apache.fontbox.ttf.CmapSubtable processSubtype14\n",
      "警告: Format 14 cmap table is not supported and will be ignored\n",
      "\n"
     ]
    },
    {
     "name": "stdout",
     "output_type": "stream",
     "text": [
      "ページ 240 を処理中\n"
     ]
    },
    {
     "name": "stderr",
     "output_type": "stream",
     "text": [
      "Got stderr: 11月 21, 2024 1:50:03 午後 org.apache.fontbox.ttf.CmapSubtable processSubtype14\n",
      "警告: Format 14 cmap table is not supported and will be ignored\n",
      "\n"
     ]
    },
    {
     "name": "stdout",
     "output_type": "stream",
     "text": [
      "ページ 241 を処理中\n"
     ]
    },
    {
     "name": "stderr",
     "output_type": "stream",
     "text": [
      "Got stderr: 11月 21, 2024 1:50:03 午後 org.apache.fontbox.ttf.CmapSubtable processSubtype14\n",
      "警告: Format 14 cmap table is not supported and will be ignored\n",
      "\n"
     ]
    },
    {
     "name": "stdout",
     "output_type": "stream",
     "text": [
      "ページ 242 を処理中\n"
     ]
    },
    {
     "name": "stderr",
     "output_type": "stream",
     "text": [
      "Got stderr: 11月 21, 2024 1:50:04 午後 org.apache.fontbox.ttf.CmapSubtable processSubtype14\n",
      "警告: Format 14 cmap table is not supported and will be ignored\n",
      "\n"
     ]
    },
    {
     "name": "stdout",
     "output_type": "stream",
     "text": [
      "ページ 243 を処理中\n"
     ]
    },
    {
     "name": "stderr",
     "output_type": "stream",
     "text": [
      "Got stderr: 11月 21, 2024 1:50:04 午後 org.apache.fontbox.ttf.CmapSubtable processSubtype14\n",
      "警告: Format 14 cmap table is not supported and will be ignored\n",
      "\n"
     ]
    },
    {
     "name": "stdout",
     "output_type": "stream",
     "text": [
      "ページ 244 を処理中\n"
     ]
    },
    {
     "name": "stderr",
     "output_type": "stream",
     "text": [
      "Got stderr: 11月 21, 2024 1:50:05 午後 org.apache.fontbox.ttf.CmapSubtable processSubtype14\n",
      "警告: Format 14 cmap table is not supported and will be ignored\n",
      "\n"
     ]
    },
    {
     "name": "stdout",
     "output_type": "stream",
     "text": [
      "ページ 245 を処理中\n"
     ]
    },
    {
     "name": "stderr",
     "output_type": "stream",
     "text": [
      "Got stderr: 11月 21, 2024 1:50:05 午後 org.apache.fontbox.ttf.CmapSubtable processSubtype14\n",
      "警告: Format 14 cmap table is not supported and will be ignored\n",
      "\n"
     ]
    },
    {
     "name": "stdout",
     "output_type": "stream",
     "text": [
      "ページ 246 を処理中\n"
     ]
    },
    {
     "name": "stderr",
     "output_type": "stream",
     "text": [
      "Got stderr: 11月 21, 2024 1:50:06 午後 org.apache.fontbox.ttf.CmapSubtable processSubtype14\n",
      "警告: Format 14 cmap table is not supported and will be ignored\n",
      "\n"
     ]
    },
    {
     "name": "stdout",
     "output_type": "stream",
     "text": [
      "ページ 247 を処理中\n"
     ]
    },
    {
     "name": "stderr",
     "output_type": "stream",
     "text": [
      "Got stderr: 11月 21, 2024 1:50:06 午後 org.apache.fontbox.ttf.CmapSubtable processSubtype14\n",
      "警告: Format 14 cmap table is not supported and will be ignored\n",
      "\n"
     ]
    },
    {
     "name": "stdout",
     "output_type": "stream",
     "text": [
      "ページ 248 を処理中\n"
     ]
    },
    {
     "name": "stderr",
     "output_type": "stream",
     "text": [
      "Got stderr: 11月 21, 2024 1:50:07 午後 org.apache.fontbox.ttf.CmapSubtable processSubtype14\n",
      "警告: Format 14 cmap table is not supported and will be ignored\n",
      "\n"
     ]
    },
    {
     "name": "stdout",
     "output_type": "stream",
     "text": [
      "ページ 249 を処理中\n"
     ]
    },
    {
     "name": "stderr",
     "output_type": "stream",
     "text": [
      "Got stderr: 11月 21, 2024 1:50:07 午後 org.apache.fontbox.ttf.CmapSubtable processSubtype14\n",
      "警告: Format 14 cmap table is not supported and will be ignored\n",
      "\n"
     ]
    },
    {
     "name": "stdout",
     "output_type": "stream",
     "text": [
      "ページ 250 を処理中\n"
     ]
    },
    {
     "name": "stderr",
     "output_type": "stream",
     "text": [
      "Got stderr: 11月 21, 2024 1:50:08 午後 org.apache.fontbox.ttf.CmapSubtable processSubtype14\n",
      "警告: Format 14 cmap table is not supported and will be ignored\n",
      "\n"
     ]
    },
    {
     "name": "stdout",
     "output_type": "stream",
     "text": [
      "ページ 251 を処理中\n"
     ]
    },
    {
     "name": "stderr",
     "output_type": "stream",
     "text": [
      "Got stderr: 11月 21, 2024 1:50:08 午後 org.apache.fontbox.ttf.CmapSubtable processSubtype14\n",
      "警告: Format 14 cmap table is not supported and will be ignored\n",
      "\n"
     ]
    },
    {
     "name": "stdout",
     "output_type": "stream",
     "text": [
      "ページ 252 を処理中\n"
     ]
    },
    {
     "name": "stderr",
     "output_type": "stream",
     "text": [
      "Got stderr: 11月 21, 2024 1:50:09 午後 org.apache.fontbox.ttf.CmapSubtable processSubtype14\n",
      "警告: Format 14 cmap table is not supported and will be ignored\n",
      "\n"
     ]
    },
    {
     "name": "stdout",
     "output_type": "stream",
     "text": [
      "ページ 253 を処理中\n"
     ]
    },
    {
     "name": "stderr",
     "output_type": "stream",
     "text": [
      "Got stderr: 11月 21, 2024 1:50:09 午後 org.apache.fontbox.ttf.CmapSubtable processSubtype14\n",
      "警告: Format 14 cmap table is not supported and will be ignored\n",
      "\n"
     ]
    },
    {
     "name": "stdout",
     "output_type": "stream",
     "text": [
      "ページ 254 を処理中\n"
     ]
    },
    {
     "name": "stderr",
     "output_type": "stream",
     "text": [
      "Got stderr: 11月 21, 2024 1:50:10 午後 org.apache.fontbox.ttf.CmapSubtable processSubtype14\n",
      "警告: Format 14 cmap table is not supported and will be ignored\n",
      "\n"
     ]
    },
    {
     "name": "stdout",
     "output_type": "stream",
     "text": [
      "ページ 255 を処理中\n"
     ]
    },
    {
     "name": "stderr",
     "output_type": "stream",
     "text": [
      "Got stderr: 11月 21, 2024 1:50:10 午後 org.apache.fontbox.ttf.CmapSubtable processSubtype14\n",
      "警告: Format 14 cmap table is not supported and will be ignored\n",
      "\n"
     ]
    },
    {
     "name": "stdout",
     "output_type": "stream",
     "text": [
      "ページ 256 を処理中\n"
     ]
    },
    {
     "name": "stderr",
     "output_type": "stream",
     "text": [
      "Got stderr: 11月 21, 2024 1:50:10 午後 org.apache.fontbox.ttf.CmapSubtable processSubtype14\n",
      "警告: Format 14 cmap table is not supported and will be ignored\n",
      "\n"
     ]
    },
    {
     "name": "stdout",
     "output_type": "stream",
     "text": [
      "ページ 257 を処理中\n"
     ]
    },
    {
     "name": "stderr",
     "output_type": "stream",
     "text": [
      "Got stderr: 11月 21, 2024 1:50:11 午後 org.apache.fontbox.ttf.CmapSubtable processSubtype14\n",
      "警告: Format 14 cmap table is not supported and will be ignored\n",
      "\n"
     ]
    },
    {
     "name": "stdout",
     "output_type": "stream",
     "text": [
      "ページ 258 を処理中\n"
     ]
    },
    {
     "name": "stderr",
     "output_type": "stream",
     "text": [
      "Got stderr: 11月 21, 2024 1:50:11 午後 org.apache.fontbox.ttf.CmapSubtable processSubtype14\n",
      "警告: Format 14 cmap table is not supported and will be ignored\n",
      "\n"
     ]
    },
    {
     "name": "stdout",
     "output_type": "stream",
     "text": [
      "ページ 259 を処理中\n"
     ]
    },
    {
     "name": "stderr",
     "output_type": "stream",
     "text": [
      "Got stderr: 11月 21, 2024 1:50:12 午後 org.apache.fontbox.ttf.CmapSubtable processSubtype14\n",
      "警告: Format 14 cmap table is not supported and will be ignored\n",
      "\n"
     ]
    },
    {
     "name": "stdout",
     "output_type": "stream",
     "text": [
      "ページ 260 を処理中\n"
     ]
    },
    {
     "name": "stderr",
     "output_type": "stream",
     "text": [
      "Got stderr: 11月 21, 2024 1:50:12 午後 org.apache.fontbox.ttf.CmapSubtable processSubtype14\n",
      "警告: Format 14 cmap table is not supported and will be ignored\n",
      "\n"
     ]
    },
    {
     "name": "stdout",
     "output_type": "stream",
     "text": [
      "ページ 261 を処理中\n"
     ]
    },
    {
     "name": "stderr",
     "output_type": "stream",
     "text": [
      "Got stderr: 11月 21, 2024 1:50:13 午後 org.apache.fontbox.ttf.CmapSubtable processSubtype14\n",
      "警告: Format 14 cmap table is not supported and will be ignored\n",
      "\n"
     ]
    },
    {
     "name": "stdout",
     "output_type": "stream",
     "text": [
      "ページ 262 を処理中\n"
     ]
    },
    {
     "name": "stderr",
     "output_type": "stream",
     "text": [
      "Got stderr: 11月 21, 2024 1:50:13 午後 org.apache.fontbox.ttf.CmapSubtable processSubtype14\n",
      "警告: Format 14 cmap table is not supported and will be ignored\n",
      "\n"
     ]
    },
    {
     "name": "stdout",
     "output_type": "stream",
     "text": [
      "ページ 263 を処理中\n"
     ]
    },
    {
     "name": "stderr",
     "output_type": "stream",
     "text": [
      "Got stderr: 11月 21, 2024 1:50:14 午後 org.apache.fontbox.ttf.CmapSubtable processSubtype14\n",
      "警告: Format 14 cmap table is not supported and will be ignored\n",
      "\n"
     ]
    },
    {
     "name": "stdout",
     "output_type": "stream",
     "text": [
      "ページ 264 を処理中\n"
     ]
    },
    {
     "name": "stderr",
     "output_type": "stream",
     "text": [
      "Got stderr: 11月 21, 2024 1:50:14 午後 org.apache.fontbox.ttf.CmapSubtable processSubtype14\n",
      "警告: Format 14 cmap table is not supported and will be ignored\n",
      "\n"
     ]
    },
    {
     "name": "stdout",
     "output_type": "stream",
     "text": [
      "ページ 265 を処理中\n"
     ]
    },
    {
     "name": "stderr",
     "output_type": "stream",
     "text": [
      "Got stderr: 11月 21, 2024 1:50:15 午後 org.apache.fontbox.ttf.CmapSubtable processSubtype14\n",
      "警告: Format 14 cmap table is not supported and will be ignored\n",
      "\n"
     ]
    },
    {
     "name": "stdout",
     "output_type": "stream",
     "text": [
      "ページ 266 を処理中\n"
     ]
    },
    {
     "name": "stderr",
     "output_type": "stream",
     "text": [
      "Got stderr: 11月 21, 2024 1:50:15 午後 org.apache.fontbox.ttf.CmapSubtable processSubtype14\n",
      "警告: Format 14 cmap table is not supported and will be ignored\n",
      "\n"
     ]
    },
    {
     "name": "stdout",
     "output_type": "stream",
     "text": [
      "ページ 267 を処理中\n"
     ]
    },
    {
     "name": "stderr",
     "output_type": "stream",
     "text": [
      "Got stderr: 11月 21, 2024 1:50:16 午後 org.apache.fontbox.ttf.CmapSubtable processSubtype14\n",
      "警告: Format 14 cmap table is not supported and will be ignored\n",
      "\n"
     ]
    },
    {
     "name": "stdout",
     "output_type": "stream",
     "text": [
      "ページ 268 を処理中\n"
     ]
    },
    {
     "name": "stderr",
     "output_type": "stream",
     "text": [
      "Got stderr: 11月 21, 2024 1:50:16 午後 org.apache.fontbox.ttf.CmapSubtable processSubtype14\n",
      "警告: Format 14 cmap table is not supported and will be ignored\n",
      "\n"
     ]
    },
    {
     "name": "stdout",
     "output_type": "stream",
     "text": [
      "ページ 269 を処理中\n"
     ]
    },
    {
     "name": "stderr",
     "output_type": "stream",
     "text": [
      "Got stderr: 11月 21, 2024 1:50:17 午後 org.apache.fontbox.ttf.CmapSubtable processSubtype14\n",
      "警告: Format 14 cmap table is not supported and will be ignored\n",
      "\n"
     ]
    },
    {
     "name": "stdout",
     "output_type": "stream",
     "text": [
      "ページ 270 を処理中\n"
     ]
    },
    {
     "name": "stderr",
     "output_type": "stream",
     "text": [
      "Got stderr: 11月 21, 2024 1:50:17 午後 org.apache.fontbox.ttf.CmapSubtable processSubtype14\n",
      "警告: Format 14 cmap table is not supported and will be ignored\n",
      "\n"
     ]
    },
    {
     "name": "stdout",
     "output_type": "stream",
     "text": [
      "ページ 271 を処理中\n"
     ]
    },
    {
     "name": "stderr",
     "output_type": "stream",
     "text": [
      "Got stderr: 11月 21, 2024 1:50:18 午後 org.apache.fontbox.ttf.CmapSubtable processSubtype14\n",
      "警告: Format 14 cmap table is not supported and will be ignored\n",
      "\n"
     ]
    },
    {
     "name": "stdout",
     "output_type": "stream",
     "text": [
      "ページ 272 を処理中\n"
     ]
    },
    {
     "name": "stderr",
     "output_type": "stream",
     "text": [
      "Got stderr: 11月 21, 2024 1:50:18 午後 org.apache.fontbox.ttf.CmapSubtable processSubtype14\n",
      "警告: Format 14 cmap table is not supported and will be ignored\n",
      "\n"
     ]
    },
    {
     "name": "stdout",
     "output_type": "stream",
     "text": [
      "ページ 273 を処理中\n"
     ]
    },
    {
     "name": "stderr",
     "output_type": "stream",
     "text": [
      "Got stderr: 11月 21, 2024 1:50:19 午後 org.apache.fontbox.ttf.CmapSubtable processSubtype14\n",
      "警告: Format 14 cmap table is not supported and will be ignored\n",
      "\n"
     ]
    },
    {
     "name": "stdout",
     "output_type": "stream",
     "text": [
      "ページ 274 を処理中\n"
     ]
    },
    {
     "name": "stderr",
     "output_type": "stream",
     "text": [
      "Got stderr: 11月 21, 2024 1:50:19 午後 org.apache.fontbox.ttf.CmapSubtable processSubtype14\n",
      "警告: Format 14 cmap table is not supported and will be ignored\n",
      "\n"
     ]
    },
    {
     "name": "stdout",
     "output_type": "stream",
     "text": [
      "ページ 275 を処理中\n"
     ]
    },
    {
     "name": "stderr",
     "output_type": "stream",
     "text": [
      "Got stderr: 11月 21, 2024 1:50:20 午後 org.apache.fontbox.ttf.CmapSubtable processSubtype14\n",
      "警告: Format 14 cmap table is not supported and will be ignored\n",
      "\n"
     ]
    },
    {
     "name": "stdout",
     "output_type": "stream",
     "text": [
      "ページ 276 を処理中\n"
     ]
    },
    {
     "name": "stderr",
     "output_type": "stream",
     "text": [
      "Got stderr: 11月 21, 2024 1:50:20 午後 org.apache.fontbox.ttf.CmapSubtable processSubtype14\n",
      "警告: Format 14 cmap table is not supported and will be ignored\n",
      "\n"
     ]
    },
    {
     "name": "stdout",
     "output_type": "stream",
     "text": [
      "ページ 277 を処理中\n"
     ]
    },
    {
     "name": "stderr",
     "output_type": "stream",
     "text": [
      "Got stderr: 11月 21, 2024 1:50:21 午後 org.apache.fontbox.ttf.CmapSubtable processSubtype14\n",
      "警告: Format 14 cmap table is not supported and will be ignored\n",
      "\n"
     ]
    },
    {
     "name": "stdout",
     "output_type": "stream",
     "text": [
      "ページ 278 を処理中\n"
     ]
    },
    {
     "name": "stderr",
     "output_type": "stream",
     "text": [
      "Got stderr: 11月 21, 2024 1:50:21 午後 org.apache.fontbox.ttf.CmapSubtable processSubtype14\n",
      "警告: Format 14 cmap table is not supported and will be ignored\n",
      "\n"
     ]
    },
    {
     "name": "stdout",
     "output_type": "stream",
     "text": [
      "ページ 279 を処理中\n"
     ]
    },
    {
     "name": "stderr",
     "output_type": "stream",
     "text": [
      "Got stderr: 11月 21, 2024 1:50:22 午後 org.apache.fontbox.ttf.CmapSubtable processSubtype14\n",
      "警告: Format 14 cmap table is not supported and will be ignored\n",
      "\n"
     ]
    },
    {
     "name": "stdout",
     "output_type": "stream",
     "text": [
      "ページ 280 を処理中\n"
     ]
    },
    {
     "name": "stderr",
     "output_type": "stream",
     "text": [
      "Got stderr: 11月 21, 2024 1:50:22 午後 org.apache.fontbox.ttf.CmapSubtable processSubtype14\n",
      "警告: Format 14 cmap table is not supported and will be ignored\n",
      "\n"
     ]
    },
    {
     "name": "stdout",
     "output_type": "stream",
     "text": [
      "ページ 281 を処理中\n"
     ]
    },
    {
     "name": "stderr",
     "output_type": "stream",
     "text": [
      "Got stderr: 11月 21, 2024 1:50:23 午後 org.apache.fontbox.ttf.CmapSubtable processSubtype14\n",
      "警告: Format 14 cmap table is not supported and will be ignored\n",
      "\n"
     ]
    },
    {
     "name": "stdout",
     "output_type": "stream",
     "text": [
      "ページ 282 を処理中\n"
     ]
    },
    {
     "name": "stderr",
     "output_type": "stream",
     "text": [
      "Got stderr: 11月 21, 2024 1:50:23 午後 org.apache.fontbox.ttf.CmapSubtable processSubtype14\n",
      "警告: Format 14 cmap table is not supported and will be ignored\n",
      "\n"
     ]
    },
    {
     "name": "stdout",
     "output_type": "stream",
     "text": [
      "ページ 283 を処理中\n"
     ]
    },
    {
     "name": "stderr",
     "output_type": "stream",
     "text": [
      "Got stderr: 11月 21, 2024 1:50:24 午後 org.apache.fontbox.ttf.CmapSubtable processSubtype14\n",
      "警告: Format 14 cmap table is not supported and will be ignored\n",
      "\n"
     ]
    },
    {
     "name": "stdout",
     "output_type": "stream",
     "text": [
      "ページ 284 を処理中\n"
     ]
    },
    {
     "name": "stderr",
     "output_type": "stream",
     "text": [
      "Got stderr: 11月 21, 2024 1:50:24 午後 org.apache.fontbox.ttf.CmapSubtable processSubtype14\n",
      "警告: Format 14 cmap table is not supported and will be ignored\n",
      "\n"
     ]
    },
    {
     "name": "stdout",
     "output_type": "stream",
     "text": [
      "ページ 285 を処理中\n"
     ]
    },
    {
     "name": "stderr",
     "output_type": "stream",
     "text": [
      "Got stderr: 11月 21, 2024 1:50:25 午後 org.apache.fontbox.ttf.CmapSubtable processSubtype14\n",
      "警告: Format 14 cmap table is not supported and will be ignored\n",
      "\n"
     ]
    },
    {
     "name": "stdout",
     "output_type": "stream",
     "text": [
      "ページ 286 を処理中\n"
     ]
    },
    {
     "name": "stderr",
     "output_type": "stream",
     "text": [
      "Got stderr: 11月 21, 2024 1:50:25 午後 org.apache.fontbox.ttf.CmapSubtable processSubtype14\n",
      "警告: Format 14 cmap table is not supported and will be ignored\n",
      "\n"
     ]
    },
    {
     "name": "stdout",
     "output_type": "stream",
     "text": [
      "ページ 287 を処理中\n"
     ]
    },
    {
     "name": "stderr",
     "output_type": "stream",
     "text": [
      "Got stderr: 11月 21, 2024 1:50:26 午後 org.apache.fontbox.ttf.CmapSubtable processSubtype14\n",
      "警告: Format 14 cmap table is not supported and will be ignored\n",
      "\n"
     ]
    },
    {
     "name": "stdout",
     "output_type": "stream",
     "text": [
      "ページ 288 を処理中\n"
     ]
    },
    {
     "name": "stderr",
     "output_type": "stream",
     "text": [
      "Got stderr: 11月 21, 2024 1:50:26 午後 org.apache.fontbox.ttf.CmapSubtable processSubtype14\n",
      "警告: Format 14 cmap table is not supported and will be ignored\n",
      "\n"
     ]
    },
    {
     "name": "stdout",
     "output_type": "stream",
     "text": [
      "ページ 289 を処理中\n"
     ]
    },
    {
     "name": "stderr",
     "output_type": "stream",
     "text": [
      "Got stderr: 11月 21, 2024 1:50:27 午後 org.apache.fontbox.ttf.CmapSubtable processSubtype14\n",
      "警告: Format 14 cmap table is not supported and will be ignored\n",
      "\n"
     ]
    },
    {
     "name": "stdout",
     "output_type": "stream",
     "text": [
      "ページ 290 を処理中\n"
     ]
    },
    {
     "name": "stderr",
     "output_type": "stream",
     "text": [
      "Got stderr: 11月 21, 2024 1:50:27 午後 org.apache.fontbox.ttf.CmapSubtable processSubtype14\n",
      "警告: Format 14 cmap table is not supported and will be ignored\n",
      "\n"
     ]
    },
    {
     "name": "stdout",
     "output_type": "stream",
     "text": [
      "ページ 291 を処理中\n"
     ]
    },
    {
     "name": "stderr",
     "output_type": "stream",
     "text": [
      "Got stderr: 11月 21, 2024 1:50:28 午後 org.apache.fontbox.ttf.CmapSubtable processSubtype14\n",
      "警告: Format 14 cmap table is not supported and will be ignored\n",
      "\n"
     ]
    },
    {
     "name": "stdout",
     "output_type": "stream",
     "text": [
      "ページ 292 を処理中\n"
     ]
    },
    {
     "name": "stderr",
     "output_type": "stream",
     "text": [
      "Got stderr: 11月 21, 2024 1:50:28 午後 org.apache.fontbox.ttf.CmapSubtable processSubtype14\n",
      "警告: Format 14 cmap table is not supported and will be ignored\n",
      "\n"
     ]
    },
    {
     "name": "stdout",
     "output_type": "stream",
     "text": [
      "ページ 293 を処理中\n"
     ]
    },
    {
     "name": "stderr",
     "output_type": "stream",
     "text": [
      "Got stderr: 11月 21, 2024 1:50:29 午後 org.apache.fontbox.ttf.CmapSubtable processSubtype14\n",
      "警告: Format 14 cmap table is not supported and will be ignored\n",
      "\n"
     ]
    },
    {
     "name": "stdout",
     "output_type": "stream",
     "text": [
      "ページ 294 を処理中\n"
     ]
    },
    {
     "name": "stderr",
     "output_type": "stream",
     "text": [
      "Got stderr: 11月 21, 2024 1:50:29 午後 org.apache.fontbox.ttf.CmapSubtable processSubtype14\n",
      "警告: Format 14 cmap table is not supported and will be ignored\n",
      "\n"
     ]
    },
    {
     "name": "stdout",
     "output_type": "stream",
     "text": [
      "ページ 295 を処理中\n"
     ]
    },
    {
     "name": "stderr",
     "output_type": "stream",
     "text": [
      "Got stderr: 11月 21, 2024 1:50:30 午後 org.apache.fontbox.ttf.CmapSubtable processSubtype14\n",
      "警告: Format 14 cmap table is not supported and will be ignored\n",
      "\n"
     ]
    },
    {
     "name": "stdout",
     "output_type": "stream",
     "text": [
      "ページ 296 を処理中\n"
     ]
    },
    {
     "name": "stderr",
     "output_type": "stream",
     "text": [
      "Got stderr: 11月 21, 2024 1:50:30 午後 org.apache.fontbox.ttf.CmapSubtable processSubtype14\n",
      "警告: Format 14 cmap table is not supported and will be ignored\n",
      "\n"
     ]
    },
    {
     "name": "stdout",
     "output_type": "stream",
     "text": [
      "ページ 297 を処理中\n"
     ]
    },
    {
     "name": "stderr",
     "output_type": "stream",
     "text": [
      "Got stderr: 11月 21, 2024 1:50:31 午後 org.apache.fontbox.ttf.CmapSubtable processSubtype14\n",
      "警告: Format 14 cmap table is not supported and will be ignored\n",
      "\n"
     ]
    },
    {
     "name": "stdout",
     "output_type": "stream",
     "text": [
      "ページ 298 を処理中\n"
     ]
    },
    {
     "name": "stderr",
     "output_type": "stream",
     "text": [
      "Got stderr: 11月 21, 2024 1:50:31 午後 org.apache.fontbox.ttf.CmapSubtable processSubtype14\n",
      "警告: Format 14 cmap table is not supported and will be ignored\n",
      "\n"
     ]
    },
    {
     "name": "stdout",
     "output_type": "stream",
     "text": [
      "ページ 299 を処理中\n"
     ]
    },
    {
     "name": "stderr",
     "output_type": "stream",
     "text": [
      "Got stderr: 11月 21, 2024 1:50:32 午後 org.apache.fontbox.ttf.CmapSubtable processSubtype14\n",
      "警告: Format 14 cmap table is not supported and will be ignored\n",
      "\n"
     ]
    },
    {
     "name": "stdout",
     "output_type": "stream",
     "text": [
      "ページ 300 を処理中\n"
     ]
    },
    {
     "name": "stderr",
     "output_type": "stream",
     "text": [
      "Got stderr: 11月 21, 2024 1:50:32 午後 org.apache.fontbox.ttf.CmapSubtable processSubtype14\n",
      "警告: Format 14 cmap table is not supported and will be ignored\n",
      "\n"
     ]
    },
    {
     "name": "stdout",
     "output_type": "stream",
     "text": [
      "ページ 301 を処理中\n"
     ]
    },
    {
     "name": "stderr",
     "output_type": "stream",
     "text": [
      "Got stderr: 11月 21, 2024 1:50:33 午後 org.apache.fontbox.ttf.CmapSubtable processSubtype14\n",
      "警告: Format 14 cmap table is not supported and will be ignored\n",
      "\n"
     ]
    },
    {
     "name": "stdout",
     "output_type": "stream",
     "text": [
      "ページ 302 を処理中\n"
     ]
    },
    {
     "name": "stderr",
     "output_type": "stream",
     "text": [
      "Got stderr: 11月 21, 2024 1:50:33 午後 org.apache.fontbox.ttf.CmapSubtable processSubtype14\n",
      "警告: Format 14 cmap table is not supported and will be ignored\n",
      "\n"
     ]
    },
    {
     "name": "stdout",
     "output_type": "stream",
     "text": [
      "ページ 303 を処理中\n"
     ]
    },
    {
     "name": "stderr",
     "output_type": "stream",
     "text": [
      "Got stderr: 11月 21, 2024 1:50:34 午後 org.apache.fontbox.ttf.CmapSubtable processSubtype14\n",
      "警告: Format 14 cmap table is not supported and will be ignored\n",
      "\n"
     ]
    },
    {
     "name": "stdout",
     "output_type": "stream",
     "text": [
      "ページ 304 を処理中\n"
     ]
    },
    {
     "name": "stderr",
     "output_type": "stream",
     "text": [
      "Got stderr: 11月 21, 2024 1:50:34 午後 org.apache.fontbox.ttf.CmapSubtable processSubtype14\n",
      "警告: Format 14 cmap table is not supported and will be ignored\n",
      "\n"
     ]
    },
    {
     "name": "stdout",
     "output_type": "stream",
     "text": [
      "ページ 305 を処理中\n"
     ]
    },
    {
     "name": "stderr",
     "output_type": "stream",
     "text": [
      "Got stderr: 11月 21, 2024 1:50:35 午後 org.apache.fontbox.ttf.CmapSubtable processSubtype14\n",
      "警告: Format 14 cmap table is not supported and will be ignored\n",
      "\n"
     ]
    },
    {
     "name": "stdout",
     "output_type": "stream",
     "text": [
      "ページ 306 を処理中\n"
     ]
    },
    {
     "name": "stderr",
     "output_type": "stream",
     "text": [
      "Got stderr: 11月 21, 2024 1:50:35 午後 org.apache.fontbox.ttf.CmapSubtable processSubtype14\n",
      "警告: Format 14 cmap table is not supported and will be ignored\n",
      "\n"
     ]
    },
    {
     "name": "stdout",
     "output_type": "stream",
     "text": [
      "ページ 307 を処理中\n"
     ]
    },
    {
     "name": "stderr",
     "output_type": "stream",
     "text": [
      "Got stderr: 11月 21, 2024 1:50:36 午後 org.apache.fontbox.ttf.CmapSubtable processSubtype14\n",
      "警告: Format 14 cmap table is not supported and will be ignored\n",
      "\n"
     ]
    },
    {
     "name": "stdout",
     "output_type": "stream",
     "text": [
      "ページ 308 を処理中\n"
     ]
    },
    {
     "name": "stderr",
     "output_type": "stream",
     "text": [
      "Got stderr: 11月 21, 2024 1:50:36 午後 org.apache.fontbox.ttf.CmapSubtable processSubtype14\n",
      "警告: Format 14 cmap table is not supported and will be ignored\n",
      "\n"
     ]
    },
    {
     "name": "stdout",
     "output_type": "stream",
     "text": [
      "ページ 309 を処理中\n"
     ]
    },
    {
     "name": "stderr",
     "output_type": "stream",
     "text": [
      "Got stderr: 11月 21, 2024 1:50:37 午後 org.apache.fontbox.ttf.CmapSubtable processSubtype14\n",
      "警告: Format 14 cmap table is not supported and will be ignored\n",
      "\n"
     ]
    },
    {
     "name": "stdout",
     "output_type": "stream",
     "text": [
      "ページ 310 を処理中\n"
     ]
    },
    {
     "name": "stderr",
     "output_type": "stream",
     "text": [
      "Got stderr: 11月 21, 2024 1:50:37 午後 org.apache.fontbox.ttf.CmapSubtable processSubtype14\n",
      "警告: Format 14 cmap table is not supported and will be ignored\n",
      "\n"
     ]
    },
    {
     "name": "stdout",
     "output_type": "stream",
     "text": [
      "ページ 311 を処理中\n"
     ]
    },
    {
     "name": "stderr",
     "output_type": "stream",
     "text": [
      "Got stderr: 11月 21, 2024 1:50:38 午後 org.apache.fontbox.ttf.CmapSubtable processSubtype14\n",
      "警告: Format 14 cmap table is not supported and will be ignored\n",
      "\n"
     ]
    },
    {
     "name": "stdout",
     "output_type": "stream",
     "text": [
      "ページ 312 を処理中\n"
     ]
    },
    {
     "name": "stderr",
     "output_type": "stream",
     "text": [
      "Got stderr: 11月 21, 2024 1:50:38 午後 org.apache.fontbox.ttf.CmapSubtable processSubtype14\n",
      "警告: Format 14 cmap table is not supported and will be ignored\n",
      "\n"
     ]
    },
    {
     "name": "stdout",
     "output_type": "stream",
     "text": [
      "ページ 313 を処理中\n"
     ]
    },
    {
     "name": "stderr",
     "output_type": "stream",
     "text": [
      "Got stderr: 11月 21, 2024 1:50:39 午後 org.apache.fontbox.ttf.CmapSubtable processSubtype14\n",
      "警告: Format 14 cmap table is not supported and will be ignored\n",
      "\n"
     ]
    },
    {
     "name": "stdout",
     "output_type": "stream",
     "text": [
      "ページ 314 を処理中\n"
     ]
    },
    {
     "name": "stderr",
     "output_type": "stream",
     "text": [
      "Got stderr: 11月 21, 2024 1:50:39 午後 org.apache.fontbox.ttf.CmapSubtable processSubtype14\n",
      "警告: Format 14 cmap table is not supported and will be ignored\n",
      "\n"
     ]
    },
    {
     "name": "stdout",
     "output_type": "stream",
     "text": [
      "ページ 315 を処理中\n"
     ]
    },
    {
     "name": "stderr",
     "output_type": "stream",
     "text": [
      "Got stderr: 11月 21, 2024 1:50:40 午後 org.apache.fontbox.ttf.CmapSubtable processSubtype14\n",
      "警告: Format 14 cmap table is not supported and will be ignored\n",
      "\n"
     ]
    },
    {
     "name": "stdout",
     "output_type": "stream",
     "text": [
      "ページ 316 を処理中\n"
     ]
    },
    {
     "name": "stderr",
     "output_type": "stream",
     "text": [
      "Got stderr: 11月 21, 2024 1:50:40 午後 org.apache.fontbox.ttf.CmapSubtable processSubtype14\n",
      "警告: Format 14 cmap table is not supported and will be ignored\n",
      "\n"
     ]
    },
    {
     "name": "stdout",
     "output_type": "stream",
     "text": [
      "ページ 317 を処理中\n"
     ]
    },
    {
     "name": "stderr",
     "output_type": "stream",
     "text": [
      "Got stderr: 11月 21, 2024 1:50:41 午後 org.apache.fontbox.ttf.CmapSubtable processSubtype14\n",
      "警告: Format 14 cmap table is not supported and will be ignored\n",
      "\n"
     ]
    },
    {
     "name": "stdout",
     "output_type": "stream",
     "text": [
      "ページ 318 を処理中\n"
     ]
    },
    {
     "name": "stderr",
     "output_type": "stream",
     "text": [
      "Got stderr: 11月 21, 2024 1:50:41 午後 org.apache.fontbox.ttf.CmapSubtable processSubtype14\n",
      "警告: Format 14 cmap table is not supported and will be ignored\n",
      "\n"
     ]
    },
    {
     "name": "stdout",
     "output_type": "stream",
     "text": [
      "ページ 319 を処理中\n"
     ]
    },
    {
     "name": "stderr",
     "output_type": "stream",
     "text": [
      "Got stderr: 11月 21, 2024 1:50:42 午後 org.apache.fontbox.ttf.CmapSubtable processSubtype14\n",
      "警告: Format 14 cmap table is not supported and will be ignored\n",
      "\n"
     ]
    },
    {
     "name": "stdout",
     "output_type": "stream",
     "text": [
      "ページ 320 を処理中\n"
     ]
    },
    {
     "name": "stderr",
     "output_type": "stream",
     "text": [
      "Got stderr: 11月 21, 2024 1:50:42 午後 org.apache.fontbox.ttf.CmapSubtable processSubtype14\n",
      "警告: Format 14 cmap table is not supported and will be ignored\n",
      "\n"
     ]
    },
    {
     "name": "stdout",
     "output_type": "stream",
     "text": [
      "ページ 321 を処理中\n"
     ]
    },
    {
     "name": "stderr",
     "output_type": "stream",
     "text": [
      "Got stderr: 11月 21, 2024 1:50:43 午後 org.apache.fontbox.ttf.CmapSubtable processSubtype14\n",
      "警告: Format 14 cmap table is not supported and will be ignored\n",
      "\n"
     ]
    },
    {
     "name": "stdout",
     "output_type": "stream",
     "text": [
      "ページ 322 を処理中\n"
     ]
    },
    {
     "name": "stderr",
     "output_type": "stream",
     "text": [
      "Got stderr: 11月 21, 2024 1:50:43 午後 org.apache.fontbox.ttf.CmapSubtable processSubtype14\n",
      "警告: Format 14 cmap table is not supported and will be ignored\n",
      "\n"
     ]
    },
    {
     "name": "stdout",
     "output_type": "stream",
     "text": [
      "ページ 323 を処理中\n"
     ]
    },
    {
     "name": "stderr",
     "output_type": "stream",
     "text": [
      "Got stderr: 11月 21, 2024 1:50:44 午後 org.apache.fontbox.ttf.CmapSubtable processSubtype14\n",
      "警告: Format 14 cmap table is not supported and will be ignored\n",
      "\n"
     ]
    },
    {
     "name": "stdout",
     "output_type": "stream",
     "text": [
      "ページ 324 を処理中\n"
     ]
    },
    {
     "name": "stderr",
     "output_type": "stream",
     "text": [
      "Got stderr: 11月 21, 2024 1:50:44 午後 org.apache.fontbox.ttf.CmapSubtable processSubtype14\n",
      "警告: Format 14 cmap table is not supported and will be ignored\n",
      "\n"
     ]
    },
    {
     "name": "stdout",
     "output_type": "stream",
     "text": [
      "ページ 325 を処理中\n"
     ]
    },
    {
     "name": "stderr",
     "output_type": "stream",
     "text": [
      "Got stderr: 11月 21, 2024 1:50:45 午後 org.apache.fontbox.ttf.CmapSubtable processSubtype14\n",
      "警告: Format 14 cmap table is not supported and will be ignored\n",
      "\n"
     ]
    },
    {
     "name": "stdout",
     "output_type": "stream",
     "text": [
      "ページ 326 を処理中\n"
     ]
    },
    {
     "name": "stderr",
     "output_type": "stream",
     "text": [
      "Got stderr: 11月 21, 2024 1:50:45 午後 org.apache.fontbox.ttf.CmapSubtable processSubtype14\n",
      "警告: Format 14 cmap table is not supported and will be ignored\n",
      "\n"
     ]
    },
    {
     "name": "stdout",
     "output_type": "stream",
     "text": [
      "ページ 327 を処理中\n"
     ]
    },
    {
     "name": "stderr",
     "output_type": "stream",
     "text": [
      "Got stderr: 11月 21, 2024 1:50:46 午後 org.apache.fontbox.ttf.CmapSubtable processSubtype14\n",
      "警告: Format 14 cmap table is not supported and will be ignored\n",
      "\n"
     ]
    },
    {
     "name": "stdout",
     "output_type": "stream",
     "text": [
      "ページ 328 を処理中\n"
     ]
    },
    {
     "name": "stderr",
     "output_type": "stream",
     "text": [
      "Got stderr: 11月 21, 2024 1:50:46 午後 org.apache.fontbox.ttf.CmapSubtable processSubtype14\n",
      "警告: Format 14 cmap table is not supported and will be ignored\n",
      "\n"
     ]
    },
    {
     "name": "stdout",
     "output_type": "stream",
     "text": [
      "ページ 329 を処理中\n"
     ]
    },
    {
     "name": "stderr",
     "output_type": "stream",
     "text": [
      "Got stderr: 11月 21, 2024 1:50:47 午後 org.apache.fontbox.ttf.CmapSubtable processSubtype14\n",
      "警告: Format 14 cmap table is not supported and will be ignored\n",
      "\n"
     ]
    },
    {
     "name": "stdout",
     "output_type": "stream",
     "text": [
      "ページ 330 を処理中\n"
     ]
    },
    {
     "name": "stderr",
     "output_type": "stream",
     "text": [
      "Got stderr: 11月 21, 2024 1:50:47 午後 org.apache.fontbox.ttf.CmapSubtable processSubtype14\n",
      "警告: Format 14 cmap table is not supported and will be ignored\n",
      "\n"
     ]
    },
    {
     "name": "stdout",
     "output_type": "stream",
     "text": [
      "ページ 331 を処理中\n"
     ]
    },
    {
     "name": "stderr",
     "output_type": "stream",
     "text": [
      "Got stderr: 11月 21, 2024 1:50:48 午後 org.apache.fontbox.ttf.CmapSubtable processSubtype14\n",
      "警告: Format 14 cmap table is not supported and will be ignored\n",
      "\n"
     ]
    },
    {
     "name": "stdout",
     "output_type": "stream",
     "text": [
      "ページ 332 を処理中\n"
     ]
    },
    {
     "name": "stderr",
     "output_type": "stream",
     "text": [
      "Got stderr: 11月 21, 2024 1:50:48 午後 org.apache.fontbox.ttf.CmapSubtable processSubtype14\n",
      "警告: Format 14 cmap table is not supported and will be ignored\n",
      "\n"
     ]
    },
    {
     "name": "stdout",
     "output_type": "stream",
     "text": [
      "ページ 333 を処理中\n"
     ]
    },
    {
     "name": "stderr",
     "output_type": "stream",
     "text": [
      "Got stderr: 11月 21, 2024 1:50:48 午後 org.apache.fontbox.ttf.CmapSubtable processSubtype14\n",
      "警告: Format 14 cmap table is not supported and will be ignored\n",
      "\n"
     ]
    },
    {
     "name": "stdout",
     "output_type": "stream",
     "text": [
      "ページ 334 を処理中\n"
     ]
    },
    {
     "name": "stderr",
     "output_type": "stream",
     "text": [
      "Got stderr: 11月 21, 2024 1:50:49 午後 org.apache.fontbox.ttf.CmapSubtable processSubtype14\n",
      "警告: Format 14 cmap table is not supported and will be ignored\n",
      "\n"
     ]
    },
    {
     "name": "stdout",
     "output_type": "stream",
     "text": [
      "ページ 335 を処理中\n"
     ]
    },
    {
     "name": "stderr",
     "output_type": "stream",
     "text": [
      "Got stderr: 11月 21, 2024 1:50:49 午後 org.apache.fontbox.ttf.CmapSubtable processSubtype14\n",
      "警告: Format 14 cmap table is not supported and will be ignored\n",
      "\n"
     ]
    },
    {
     "name": "stdout",
     "output_type": "stream",
     "text": [
      "ページ 336 を処理中\n"
     ]
    },
    {
     "name": "stderr",
     "output_type": "stream",
     "text": [
      "Got stderr: 11月 21, 2024 1:50:50 午後 org.apache.fontbox.ttf.CmapSubtable processSubtype14\n",
      "警告: Format 14 cmap table is not supported and will be ignored\n",
      "\n"
     ]
    },
    {
     "name": "stdout",
     "output_type": "stream",
     "text": [
      "ページ 337 を処理中\n"
     ]
    },
    {
     "name": "stderr",
     "output_type": "stream",
     "text": [
      "Got stderr: 11月 21, 2024 1:50:50 午後 org.apache.fontbox.ttf.CmapSubtable processSubtype14\n",
      "警告: Format 14 cmap table is not supported and will be ignored\n",
      "\n"
     ]
    },
    {
     "name": "stdout",
     "output_type": "stream",
     "text": [
      "ページ 338 を処理中\n"
     ]
    },
    {
     "name": "stderr",
     "output_type": "stream",
     "text": [
      "Got stderr: 11月 21, 2024 1:50:51 午後 org.apache.fontbox.ttf.CmapSubtable processSubtype14\n",
      "警告: Format 14 cmap table is not supported and will be ignored\n",
      "\n"
     ]
    },
    {
     "name": "stdout",
     "output_type": "stream",
     "text": [
      "ページ 339 を処理中\n"
     ]
    },
    {
     "name": "stderr",
     "output_type": "stream",
     "text": [
      "Got stderr: 11月 21, 2024 1:50:52 午後 org.apache.fontbox.ttf.CmapSubtable processSubtype14\n",
      "警告: Format 14 cmap table is not supported and will be ignored\n",
      "\n"
     ]
    },
    {
     "name": "stdout",
     "output_type": "stream",
     "text": [
      "ページ 340 を処理中\n"
     ]
    },
    {
     "name": "stderr",
     "output_type": "stream",
     "text": [
      "Got stderr: 11月 21, 2024 1:50:52 午後 org.apache.fontbox.ttf.CmapSubtable processSubtype14\n",
      "警告: Format 14 cmap table is not supported and will be ignored\n",
      "\n"
     ]
    },
    {
     "name": "stdout",
     "output_type": "stream",
     "text": [
      "ページ 341 を処理中\n"
     ]
    },
    {
     "name": "stderr",
     "output_type": "stream",
     "text": [
      "Got stderr: 11月 21, 2024 1:50:53 午後 org.apache.fontbox.ttf.CmapSubtable processSubtype14\n",
      "警告: Format 14 cmap table is not supported and will be ignored\n",
      "\n"
     ]
    },
    {
     "name": "stdout",
     "output_type": "stream",
     "text": [
      "ページ 342 を処理中\n"
     ]
    },
    {
     "name": "stderr",
     "output_type": "stream",
     "text": [
      "Got stderr: 11月 21, 2024 1:50:53 午後 org.apache.fontbox.ttf.CmapSubtable processSubtype14\n",
      "警告: Format 14 cmap table is not supported and will be ignored\n",
      "\n"
     ]
    },
    {
     "name": "stdout",
     "output_type": "stream",
     "text": [
      "ページ 343 を処理中\n"
     ]
    },
    {
     "name": "stderr",
     "output_type": "stream",
     "text": [
      "Got stderr: 11月 21, 2024 1:50:54 午後 org.apache.fontbox.ttf.CmapSubtable processSubtype14\n",
      "警告: Format 14 cmap table is not supported and will be ignored\n",
      "\n"
     ]
    },
    {
     "name": "stdout",
     "output_type": "stream",
     "text": [
      "ページ 344 を処理中\n"
     ]
    },
    {
     "name": "stderr",
     "output_type": "stream",
     "text": [
      "Got stderr: 11月 21, 2024 1:50:54 午後 org.apache.fontbox.ttf.CmapSubtable processSubtype14\n",
      "警告: Format 14 cmap table is not supported and will be ignored\n",
      "\n"
     ]
    },
    {
     "name": "stdout",
     "output_type": "stream",
     "text": [
      "ページ 345 を処理中\n"
     ]
    },
    {
     "name": "stderr",
     "output_type": "stream",
     "text": [
      "Got stderr: 11月 21, 2024 1:50:54 午後 org.apache.fontbox.ttf.CmapSubtable processSubtype14\n",
      "警告: Format 14 cmap table is not supported and will be ignored\n",
      "\n"
     ]
    },
    {
     "name": "stdout",
     "output_type": "stream",
     "text": [
      "ページ 346 を処理中\n"
     ]
    },
    {
     "name": "stderr",
     "output_type": "stream",
     "text": [
      "Got stderr: 11月 21, 2024 1:50:55 午後 org.apache.fontbox.ttf.CmapSubtable processSubtype14\n",
      "警告: Format 14 cmap table is not supported and will be ignored\n",
      "\n"
     ]
    },
    {
     "name": "stdout",
     "output_type": "stream",
     "text": [
      "ページ 347 を処理中\n"
     ]
    },
    {
     "name": "stderr",
     "output_type": "stream",
     "text": [
      "Got stderr: 11月 21, 2024 1:50:55 午後 org.apache.fontbox.ttf.CmapSubtable processSubtype14\n",
      "警告: Format 14 cmap table is not supported and will be ignored\n",
      "\n"
     ]
    },
    {
     "name": "stdout",
     "output_type": "stream",
     "text": [
      "ページ 348 を処理中\n"
     ]
    },
    {
     "name": "stderr",
     "output_type": "stream",
     "text": [
      "Got stderr: 11月 21, 2024 1:50:56 午後 org.apache.fontbox.ttf.CmapSubtable processSubtype14\n",
      "警告: Format 14 cmap table is not supported and will be ignored\n",
      "\n"
     ]
    },
    {
     "name": "stdout",
     "output_type": "stream",
     "text": [
      "ページ 349 を処理中\n"
     ]
    },
    {
     "name": "stderr",
     "output_type": "stream",
     "text": [
      "Got stderr: 11月 21, 2024 1:50:56 午後 org.apache.fontbox.ttf.CmapSubtable processSubtype14\n",
      "警告: Format 14 cmap table is not supported and will be ignored\n",
      "\n"
     ]
    }
   ],
   "source": [
    "pdf_records = []\n",
    "for f in files:\n",
    "    full_path = os.path.join('TSR', '2024', f)\n",
    "    # full_path = os.path.abspath(f)  # 絶対パスを取得\n",
    "    \n",
    "    print(f'{full_path}を読み込み')\n",
    "\n",
    "    try:\n",
    "        reader = PdfReader(full_path)\n",
    "        print(f'ページ数: {len(reader.pages)}')\n",
    "\n",
    "        start = 1\n",
    "        # end = min(10, len(reader.pages))\n",
    "        end = len(reader.pages)+1\n",
    "        pages =range(start, end)\n",
    "        \n",
    "        for page in pages:\n",
    "            print(f'ページ {page} を処理中')  \n",
    "            pdf_records.append(read_pdf_by_row(full_path, page))\n",
    "            \n",
    "    except FileNotFoundError:\n",
    "        print(f'ファイルが見つかりません: {full_path}')\n",
    "    except Exception as e:\n",
    "        print(f'エラーが発生しました: {e}')\n",
    "\n"
   ]
  },
  {
   "cell_type": "code",
   "execution_count": 79,
   "id": "28c7e7b6-fe3f-46bb-9eec-17ebdbe898ee",
   "metadata": {},
   "outputs": [],
   "source": [
    "#with open('output.csv', 'w', newline='', encoding='cp932') as file:\n",
    "#   writer = csv.writer(file)\n",
    "#    writer.writerows(pdf_records)"
   ]
  },
  {
   "cell_type": "code",
   "execution_count": 80,
   "id": "ef853516-8ed2-432c-9687-ffb06a00dbfe",
   "metadata": {},
   "outputs": [
    {
     "data": {
      "text/html": [
       "<div>\n",
       "<style scoped>\n",
       "    .dataframe tbody tr th:only-of-type {\n",
       "        vertical-align: middle;\n",
       "    }\n",
       "\n",
       "    .dataframe tbody tr th {\n",
       "        vertical-align: top;\n",
       "    }\n",
       "\n",
       "    .dataframe thead th {\n",
       "        text-align: right;\n",
       "    }\n",
       "</style>\n",
       "<table border=\"1\" class=\"dataframe\">\n",
       "  <thead>\n",
       "    <tr style=\"text-align: right;\">\n",
       "      <th></th>\n",
       "      <th>大分類</th>\n",
       "      <th>中分類コード</th>\n",
       "      <th>中分類</th>\n",
       "      <th>小分類コード</th>\n",
       "      <th>小分類</th>\n",
       "      <th>細分類コード</th>\n",
       "      <th>細分類</th>\n",
       "    </tr>\n",
       "  </thead>\n",
       "  <tbody>\n",
       "    <tr>\n",
       "      <th>0</th>\n",
       "      <td>農業，林業</td>\n",
       "      <td>01</td>\n",
       "      <td>農業</td>\n",
       "      <td>011</td>\n",
       "      <td>耕種農業</td>\n",
       "      <td>0111</td>\n",
       "      <td>米作農業</td>\n",
       "    </tr>\n",
       "    <tr>\n",
       "      <th>1</th>\n",
       "      <td>農業，林業</td>\n",
       "      <td>01</td>\n",
       "      <td>農業</td>\n",
       "      <td>011</td>\n",
       "      <td>耕種農業</td>\n",
       "      <td>0112</td>\n",
       "      <td>米作以外の穀作農業</td>\n",
       "    </tr>\n",
       "    <tr>\n",
       "      <th>2</th>\n",
       "      <td>農業，林業</td>\n",
       "      <td>01</td>\n",
       "      <td>農業</td>\n",
       "      <td>011</td>\n",
       "      <td>耕種農業</td>\n",
       "      <td>0113</td>\n",
       "      <td>野菜作農業(きのこ類栽培を含む)</td>\n",
       "    </tr>\n",
       "    <tr>\n",
       "      <th>3</th>\n",
       "      <td>農業，林業</td>\n",
       "      <td>01</td>\n",
       "      <td>農業</td>\n",
       "      <td>011</td>\n",
       "      <td>耕種農業</td>\n",
       "      <td>0114</td>\n",
       "      <td>果樹作農業</td>\n",
       "    </tr>\n",
       "    <tr>\n",
       "      <th>4</th>\n",
       "      <td>農業，林業</td>\n",
       "      <td>01</td>\n",
       "      <td>農業</td>\n",
       "      <td>011</td>\n",
       "      <td>耕種農業</td>\n",
       "      <td>0115</td>\n",
       "      <td>花き作農業</td>\n",
       "    </tr>\n",
       "    <tr>\n",
       "      <th>...</th>\n",
       "      <td>...</td>\n",
       "      <td>...</td>\n",
       "      <td>...</td>\n",
       "      <td>...</td>\n",
       "      <td>...</td>\n",
       "      <td>...</td>\n",
       "      <td>...</td>\n",
       "    </tr>\n",
       "    <tr>\n",
       "      <th>1264</th>\n",
       "      <td>公務（他に分類されるものを除く）</td>\n",
       "      <td>97</td>\n",
       "      <td>国家公務</td>\n",
       "      <td>972</td>\n",
       "      <td>司法機関</td>\n",
       "      <td>9721</td>\n",
       "      <td>司法機関</td>\n",
       "    </tr>\n",
       "    <tr>\n",
       "      <th>1265</th>\n",
       "      <td>公務（他に分類されるものを除く）</td>\n",
       "      <td>97</td>\n",
       "      <td>国家公務</td>\n",
       "      <td>973</td>\n",
       "      <td>行政機関</td>\n",
       "      <td>9731</td>\n",
       "      <td>行政機関</td>\n",
       "    </tr>\n",
       "    <tr>\n",
       "      <th>1266</th>\n",
       "      <td>公務（他に分類されるものを除く）</td>\n",
       "      <td>98</td>\n",
       "      <td>地方公務</td>\n",
       "      <td>981</td>\n",
       "      <td>都道府県機関</td>\n",
       "      <td>9811</td>\n",
       "      <td>都道府県機関</td>\n",
       "    </tr>\n",
       "    <tr>\n",
       "      <th>1267</th>\n",
       "      <td>公務（他に分類されるものを除く）</td>\n",
       "      <td>98</td>\n",
       "      <td>地方公務</td>\n",
       "      <td>982</td>\n",
       "      <td>市町村機関</td>\n",
       "      <td>9821</td>\n",
       "      <td>市町村機関</td>\n",
       "    </tr>\n",
       "    <tr>\n",
       "      <th>1268</th>\n",
       "      <td>分類不能の産業</td>\n",
       "      <td>99</td>\n",
       "      <td>分類不能の産業</td>\n",
       "      <td>999</td>\n",
       "      <td>分類不能の産業</td>\n",
       "      <td>9999</td>\n",
       "      <td>分類不能の産業</td>\n",
       "    </tr>\n",
       "  </tbody>\n",
       "</table>\n",
       "<p>1269 rows × 7 columns</p>\n",
       "</div>"
      ],
      "text/plain": [
       "                   大分類 中分類コード      中分類 小分類コード      小分類 細分類コード  \\\n",
       "0               農業，林業      01       農業    011     耕種農業   0111   \n",
       "1               農業，林業      01       農業    011     耕種農業   0112   \n",
       "2               農業，林業      01       農業    011     耕種農業   0113   \n",
       "3               農業，林業      01       農業    011     耕種農業   0114   \n",
       "4               農業，林業      01       農業    011     耕種農業   0115   \n",
       "...                ...    ...      ...    ...      ...    ...   \n",
       "1264  公務（他に分類されるものを除く）     97     国家公務    972     司法機関   9721   \n",
       "1265  公務（他に分類されるものを除く）     97     国家公務    973     行政機関   9731   \n",
       "1266  公務（他に分類されるものを除く）     98     地方公務    981   都道府県機関   9811   \n",
       "1267  公務（他に分類されるものを除く）     98     地方公務    982    市町村機関   9821   \n",
       "1268           分類不能の産業     99  分類不能の産業    999  分類不能の産業   9999   \n",
       "\n",
       "                   細分類  \n",
       "0                 米作農業  \n",
       "1            米作以外の穀作農業  \n",
       "2     野菜作農業(きのこ類栽培を含む)  \n",
       "3                果樹作農業  \n",
       "4                花き作農業  \n",
       "...                ...  \n",
       "1264              司法機関  \n",
       "1265              行政機関  \n",
       "1266            都道府県機関  \n",
       "1267             市町村機関  \n",
       "1268           分類不能の産業  \n",
       "\n",
       "[1269 rows x 7 columns]"
      ]
     },
     "execution_count": 80,
     "metadata": {},
     "output_type": "execute_result"
    }
   ],
   "source": [
    "#業種コード一覧を読み込み   編集予定\n",
    "Industry_code = pd.read_excel('TSR業種コード一覧.xlsx')\n",
    "#業種コードを4桁0埋め\n",
    "Industry_code['TSR業種コード'] = Industry_code['TSR業種コード'].astype(str).str.zfill(4)\n",
    "Industry_code['中分類コード'] = Industry_code['中分類コード'].astype(str).str.zfill(2)\n",
    "Industry_code['小分類コード'] = Industry_code['小分類コード'].astype(str).str.zfill(3)\n",
    "Industry_code['細分類コード'] = Industry_code['細分類コード'].astype(str).str.zfill(4)\n",
    "Industry_code = Industry_code.iloc[:,1:]\n",
    "Industry_code"
   ]
  },
  {
   "cell_type": "code",
   "execution_count": 81,
   "id": "45f38cd8-43d1-444b-8f95-32b9e8d1912f",
   "metadata": {},
   "outputs": [],
   "source": [
    "#csv_path = \"/Users/akamine_saki/Projects/notebook/output.csv\""
   ]
  },
  {
   "cell_type": "code",
   "execution_count": 82,
   "id": "a39357bd-527d-47ab-953c-e08f1bb02a2c",
   "metadata": {},
   "outputs": [],
   "source": [
    "columns = ['企業コード(TSR)','上場区分','TSR調査年月日','企業名ﾌﾘｶﾞﾅ（半角）','代表者氏名ﾌﾘｶﾞﾅ（半角）','会社名','代表者氏名','郵便番号','所在地','電話番号','設立年月日','創業年月日','資本金（千円単位）','従業員数','業種1','業種2','業種3',\n",
    "               '営業種目','営業所・支店住所','役員','仕入先','株主構成','販売先','財務情報1_時期','財務情報1_売上(千円)','財務情報1_純利益(千円)','財務情報2_時期','財務情報2_売上(千円)','財務情報2_純利益(千円)','財務情報3_時期','財務情報3_売上(千円)','財務情報3_純利益(千円)',\n",
    "                '取引銀行','売上伸長率','利益伸長率','TSR備考','代表者住所','生年月日','出身地','出身校']\n",
    "# df= pd.DataFrame(columns = columns)"
   ]
  },
  {
   "cell_type": "code",
   "execution_count": 83,
   "id": "c25d5f44-09d1-4c27-ab3f-1ae26a9e1989",
   "metadata": {},
   "outputs": [
    {
     "data": {
      "text/html": [
       "<div>\n",
       "<style scoped>\n",
       "    .dataframe tbody tr th:only-of-type {\n",
       "        vertical-align: middle;\n",
       "    }\n",
       "\n",
       "    .dataframe tbody tr th {\n",
       "        vertical-align: top;\n",
       "    }\n",
       "\n",
       "    .dataframe thead th {\n",
       "        text-align: right;\n",
       "    }\n",
       "</style>\n",
       "<table border=\"1\" class=\"dataframe\">\n",
       "  <thead>\n",
       "    <tr style=\"text-align: right;\">\n",
       "      <th></th>\n",
       "      <th>企業コード(TSR)</th>\n",
       "      <th>上場区分</th>\n",
       "      <th>TSR調査年月日</th>\n",
       "      <th>企業名ﾌﾘｶﾞﾅ（半角）</th>\n",
       "      <th>代表者氏名ﾌﾘｶﾞﾅ（半角）</th>\n",
       "      <th>会社名</th>\n",
       "      <th>代表者氏名</th>\n",
       "      <th>郵便番号</th>\n",
       "      <th>所在地</th>\n",
       "      <th>電話番号</th>\n",
       "      <th>...</th>\n",
       "      <th>財務情報3_売上(千円)</th>\n",
       "      <th>財務情報3_純利益(千円)</th>\n",
       "      <th>取引銀行</th>\n",
       "      <th>売上伸長率</th>\n",
       "      <th>利益伸長率</th>\n",
       "      <th>TSR備考</th>\n",
       "      <th>代表者住所</th>\n",
       "      <th>生年月日</th>\n",
       "      <th>出身地</th>\n",
       "      <th>出身校</th>\n",
       "    </tr>\n",
       "  </thead>\n",
       "  <tbody>\n",
       "    <tr>\n",
       "      <th>0</th>\n",
       "      <td>872236943</td>\n",
       "      <td>未上場</td>\n",
       "      <td>2023/06/05</td>\n",
       "      <td>ｲﾜﾄｹﾝｾﾂ</td>\n",
       "      <td>ﾆﾉﾐﾔ ﾊｼﾞﾒ</td>\n",
       "      <td>岩戸建設(株)</td>\n",
       "      <td>二宮 肇</td>\n",
       "      <td>811-1224</td>\n",
       "      <td>福岡県那珂川市安徳522-1</td>\n",
       "      <td>092-555-4344</td>\n",
       "      <td>...</td>\n",
       "      <td>308,985</td>\n",
       "      <td>290</td>\n",
       "      <td>福岡(春日原)</td>\n",
       "      <td>174%</td>\n",
       "      <td>21%</td>\n",
       "      <td>2007年創業の土木工事業者で官公庁を含め実績は浸透しているが、低調な収益推移をたどり、財務...</td>\n",
       "      <td>〒811-1255福岡県那珂川市恵子5-1-9スカイハイツ1号</td>\n",
       "      <td>1962/11/15</td>\n",
       "      <td>named: 0</td>\n",
       "      <td>Unnamed: 1</td>\n",
       "    </tr>\n",
       "    <tr>\n",
       "      <th>1</th>\n",
       "      <td>870092898</td>\n",
       "      <td>未上場</td>\n",
       "      <td>2023/09/15</td>\n",
       "      <td>ｵｶｻﾞｷｾｷﾕｶﾞｽ</td>\n",
       "      <td>ｵｶｻﾞｷ ﾖｳｽｹ</td>\n",
       "      <td>岡﨑石油瓦斯(株)</td>\n",
       "      <td>岡﨑 洋介</td>\n",
       "      <td>811-1224</td>\n",
       "      <td>福岡県那珂川市安徳1-13</td>\n",
       "      <td>092-951-3031</td>\n",
       "      <td>...</td>\n",
       "      <td>390,840</td>\n",
       "      <td>16,694</td>\n",
       "      <td>福岡中央(大橋)西日本シティ(大橋駅前)</td>\n",
       "      <td>106%</td>\n",
       "      <td>133%</td>\n",
       "      <td>業歴66年のLPガス販売業者。2022年9月期は工事部門が低下したものの、LPガスの単価上昇...</td>\n",
       "      <td>〒811-1347福岡県福岡市南区野多目4-5-40</td>\n",
       "      <td>1982/06/17</td>\n",
       "      <td>福岡県</td>\n",
       "      <td>Unnamed: 1</td>\n",
       "    </tr>\n",
       "    <tr>\n",
       "      <th>2</th>\n",
       "      <td>870565338</td>\n",
       "      <td>未上場</td>\n",
       "      <td>2022/11/04</td>\n",
       "      <td>ｺﾞﾄｳｷﾞｹﾝ</td>\n",
       "      <td>ｺﾞﾄｳ ﾕｳｼﾞ</td>\n",
       "      <td>(有)後藤技研</td>\n",
       "      <td>後藤 優次</td>\n",
       "      <td>811-1224</td>\n",
       "      <td>福岡県那珂川市安徳61-11</td>\n",
       "      <td>092-953-2016</td>\n",
       "      <td>...</td>\n",
       "      <td>164,240</td>\n",
       "      <td>879</td>\n",
       "      <td>西日本シティ(那珂川)筑邦(中尾)</td>\n",
       "      <td>139%</td>\n",
       "      <td>61%</td>\n",
       "      <td>1991年創業の土木工事業者。2022年1月期は公共工事が順調で増収となるが、収益は低調である。</td>\n",
       "      <td>〒811-1224福岡県那珂川市安徳61-11</td>\n",
       "      <td>1961/01/21</td>\n",
       "      <td>福岡県</td>\n",
       "      <td>佐賀大学</td>\n",
       "    </tr>\n",
       "    <tr>\n",
       "      <th>3</th>\n",
       "      <td>872012549</td>\n",
       "      <td>未上場</td>\n",
       "      <td>2023/04/14</td>\n",
       "      <td>ｾｲﾜｺｳｷﾞﾖｳ</td>\n",
       "      <td>ﾂｼﾞ ｷﾖｼ</td>\n",
       "      <td>(有)清和興業</td>\n",
       "      <td>辻 清</td>\n",
       "      <td>811-1224</td>\n",
       "      <td>福岡県那珂川市安徳869-1</td>\n",
       "      <td>092-951-0090</td>\n",
       "      <td>...</td>\n",
       "      <td>316,109</td>\n",
       "      <td>1,903</td>\n",
       "      <td>福岡(那珂川)佐賀(春日)西日本シティ(那珂川)</td>\n",
       "      <td>101%</td>\n",
       "      <td>323%</td>\n",
       "      <td>1992年創業のとび・土木・コンクリート工事業者。2022年8月期は企業努力により増収増益と...</td>\n",
       "      <td>〒811-1215福岡県那珂川市松原1-8-1210</td>\n",
       "      <td>1970/09/20</td>\n",
       "      <td>named: 0</td>\n",
       "      <td>Unnamed: 1</td>\n",
       "    </tr>\n",
       "    <tr>\n",
       "      <th>4</th>\n",
       "      <td>870505157</td>\n",
       "      <td>未上場</td>\n",
       "      <td>2023/01/31</td>\n",
       "      <td>ﾐﾔｹｺｳﾑﾃﾝ</td>\n",
       "      <td>ｻｲｼﾖ ﾏｻﾋﾛ</td>\n",
       "      <td>(有)三宅工務店</td>\n",
       "      <td>税所 政博</td>\n",
       "      <td>811-1224</td>\n",
       "      <td>福岡県那珂川市安徳839-3</td>\n",
       "      <td>092-953-5580</td>\n",
       "      <td>...</td>\n",
       "      <td>102,344</td>\n",
       "      <td>8,979</td>\n",
       "      <td>福岡(那珂川)</td>\n",
       "      <td>57%</td>\n",
       "      <td>109%</td>\n",
       "      <td>建築工事専門業者として受注基盤を形成。2022年8月期は前期の反動もあって減収となった。</td>\n",
       "      <td>〒811-1345福岡県福岡市南区向新町1-10-37</td>\n",
       "      <td>1976/08/10</td>\n",
       "      <td>福岡県</td>\n",
       "      <td>Unnamed: 1</td>\n",
       "    </tr>\n",
       "    <tr>\n",
       "      <th>...</th>\n",
       "      <td>...</td>\n",
       "      <td>...</td>\n",
       "      <td>...</td>\n",
       "      <td>...</td>\n",
       "      <td>...</td>\n",
       "      <td>...</td>\n",
       "      <td>...</td>\n",
       "      <td>...</td>\n",
       "      <td>...</td>\n",
       "      <td>...</td>\n",
       "      <td>...</td>\n",
       "      <td>...</td>\n",
       "      <td>...</td>\n",
       "      <td>...</td>\n",
       "      <td>...</td>\n",
       "      <td>...</td>\n",
       "      <td>...</td>\n",
       "      <td>...</td>\n",
       "      <td>...</td>\n",
       "      <td>...</td>\n",
       "      <td>...</td>\n",
       "    </tr>\n",
       "    <tr>\n",
       "      <th>344</th>\n",
       "      <td>024179027</td>\n",
       "      <td>未上場</td>\n",
       "      <td>2023/06/20</td>\n",
       "      <td>ﾌﾛﾝﾄｻ-ｸﾙ</td>\n",
       "      <td>ﾀｼﾞﾏ ﾏﾓﾙ</td>\n",
       "      <td>フロントサークル(株)</td>\n",
       "      <td>田島 守</td>\n",
       "      <td>819-1130</td>\n",
       "      <td>福岡県糸島市伊都の杜3-9-23</td>\n",
       "      <td>Unnamed: 0</td>\n",
       "      <td>...</td>\n",
       "      <td>85,000</td>\n",
       "      <td>2,000</td>\n",
       "      <td>福岡(荒江)佐賀(前原)</td>\n",
       "      <td>132%</td>\n",
       "      <td>94%</td>\n",
       "      <td>家畜診療所を経営。地元養豚業者に密着した営業で、業歴は浅いが、順調に実績を重ね、2023年2...</td>\n",
       "      <td>〒819-1130福岡県糸島市伊都の杜3ー9-23</td>\n",
       "      <td>1981/12/31</td>\n",
       "      <td>千葉県</td>\n",
       "      <td>Unnamed: 1</td>\n",
       "    </tr>\n",
       "    <tr>\n",
       "      <th>345</th>\n",
       "      <td>872140032</td>\n",
       "      <td>未上場</td>\n",
       "      <td>2023/09/22</td>\n",
       "      <td>ｹｲﾃﾂｸ</td>\n",
       "      <td>ｶﾜｻｷ ﾕｳｷ</td>\n",
       "      <td>(株)ケイ・テック</td>\n",
       "      <td>川﨑 裕貴</td>\n",
       "      <td>819-1123</td>\n",
       "      <td>福岡県糸島市神在東1-12-5</td>\n",
       "      <td>092-323-2797</td>\n",
       "      <td>...</td>\n",
       "      <td>308,435</td>\n",
       "      <td>9,906</td>\n",
       "      <td>宮崎(清武)福岡中央(前原)日本政策金融公庫</td>\n",
       "      <td>132%</td>\n",
       "      <td>173%</td>\n",
       "      <td>1995年5月設立のとび土工工事業者。(株)大林組からの下請工事を中心に実績を築いているが、...</td>\n",
       "      <td>〒889-1605宮崎県宮崎市清武町加納乙546-5</td>\n",
       "      <td>1975/08/28</td>\n",
       "      <td>宮崎県</td>\n",
       "      <td>第一工業大学</td>\n",
       "    </tr>\n",
       "    <tr>\n",
       "      <th>346</th>\n",
       "      <td>872104087</td>\n",
       "      <td>未上場</td>\n",
       "      <td>2023/08/28</td>\n",
       "      <td>ｺｳｶﾞ</td>\n",
       "      <td>ｶﾜﾅﾐ ｳﾁﾖｳ</td>\n",
       "      <td>(株)黄河</td>\n",
       "      <td>川波 宇澄</td>\n",
       "      <td>819-1120</td>\n",
       "      <td>福岡県糸島市神在東2-8-16</td>\n",
       "      <td>092-332-1088</td>\n",
       "      <td>...</td>\n",
       "      <td>89,205</td>\n",
       "      <td>11,688</td>\n",
       "      <td>西日本シティ(渡辺通)三菱UFJ(福岡中央)日本政策金融公庫</td>\n",
       "      <td>156%</td>\n",
       "      <td>134%</td>\n",
       "      <td>アロマ抽出用ハーブ蒸留器の開発・販売等を手がけ、2023年4月期は大型オーダー品販売も好調で...</td>\n",
       "      <td>〒810-0014福岡県福岡市中央区平尾1-3-31-1113</td>\n",
       "      <td>1970/12/26</td>\n",
       "      <td>神奈川県</td>\n",
       "      <td>九州大学</td>\n",
       "    </tr>\n",
       "    <tr>\n",
       "      <th>347</th>\n",
       "      <td>872293203</td>\n",
       "      <td>未上場</td>\n",
       "      <td>2021/10/11</td>\n",
       "      <td>ﾏｴﾊﾞﾙﾀﾞｲｷﾕ-ｳﾝﾕ</td>\n",
       "      <td>ｾｷｸﾞﾁ ﾕｳｲﾁ</td>\n",
       "      <td>前原ダイキュー運輸(株)</td>\n",
       "      <td>関口 雄一</td>\n",
       "      <td>819-1148</td>\n",
       "      <td>福岡県糸島市神在西1-5-1</td>\n",
       "      <td>092-323-4661</td>\n",
       "      <td>...</td>\n",
       "      <td>960,000</td>\n",
       "      <td>5,470</td>\n",
       "      <td>福岡(糸島)佐賀(加布里出張所)商工組合中央金庫(福岡)日本政策金融公庫</td>\n",
       "      <td>93%</td>\n",
       "      <td>Unnamed: 0</td>\n",
       "      <td>久留米運送(株)から受託する他、引越事業も併営。2021年5月期はコロナ禍の影響による取扱量...</td>\n",
       "      <td>〒819-0166福岡県福岡市西区横浜1-17-10</td>\n",
       "      <td>1969/09/03</td>\n",
       "      <td>named: 0</td>\n",
       "      <td>Unnamed: 1</td>\n",
       "    </tr>\n",
       "    <tr>\n",
       "      <th>348</th>\n",
       "      <td>870149407</td>\n",
       "      <td>未上場</td>\n",
       "      <td>2022/09/30</td>\n",
       "      <td>ｶﾏｱｹﾞﾏｷﾉｳﾄﾞﾝ</td>\n",
       "      <td>ﾊﾀﾅｶ ﾄｼﾋﾛ</td>\n",
       "      <td>(株)釜揚げ牧のうどん</td>\n",
       "      <td>畑中 俊弘</td>\n",
       "      <td>819-1148</td>\n",
       "      <td>福岡県糸島市神在西4-2-22</td>\n",
       "      <td>092-322-6111</td>\n",
       "      <td>...</td>\n",
       "      <td>2,390,000</td>\n",
       "      <td>NaN</td>\n",
       "      <td>西日本シティ(糸島)福岡(糸島)福岡県信組(前原)</td>\n",
       "      <td>105%</td>\n",
       "      <td>Unnamed: 0</td>\n",
       "      <td>「牧のうどん店」の名称で福岡県、佐賀県、長崎県に於いて18店舗を展開。知名度は浸透しており、...</td>\n",
       "      <td>〒819-1148福岡県糸島市神在西4-2-22</td>\n",
       "      <td>Unnamed: 0</td>\n",
       "      <td>福岡県</td>\n",
       "      <td>Unnamed: 1</td>\n",
       "    </tr>\n",
       "  </tbody>\n",
       "</table>\n",
       "<p>349 rows × 40 columns</p>\n",
       "</div>"
      ],
      "text/plain": [
       "    企業コード(TSR) 上場区分    TSR調査年月日    企業名ﾌﾘｶﾞﾅ（半角） 代表者氏名ﾌﾘｶﾞﾅ（半角）           会社名  \\\n",
       "0    872236943  未上場  2023/06/05         ｲﾜﾄｹﾝｾﾂ      ﾆﾉﾐﾔ ﾊｼﾞﾒ       岩戸建設(株)   \n",
       "1    870092898  未上場  2023/09/15     ｵｶｻﾞｷｾｷﾕｶﾞｽ     ｵｶｻﾞｷ ﾖｳｽｹ     岡﨑石油瓦斯(株)   \n",
       "2    870565338  未上場  2022/11/04        ｺﾞﾄｳｷﾞｹﾝ      ｺﾞﾄｳ ﾕｳｼﾞ       (有)後藤技研   \n",
       "3    872012549  未上場  2023/04/14       ｾｲﾜｺｳｷﾞﾖｳ        ﾂｼﾞ ｷﾖｼ       (有)清和興業   \n",
       "4    870505157  未上場  2023/01/31        ﾐﾔｹｺｳﾑﾃﾝ      ｻｲｼﾖ ﾏｻﾋﾛ      (有)三宅工務店   \n",
       "..         ...  ...         ...             ...            ...           ...   \n",
       "344  024179027  未上場  2023/06/20        ﾌﾛﾝﾄｻ-ｸﾙ       ﾀｼﾞﾏ ﾏﾓﾙ   フロントサークル(株)   \n",
       "345  872140032  未上場  2023/09/22           ｹｲﾃﾂｸ       ｶﾜｻｷ ﾕｳｷ     (株)ケイ・テック   \n",
       "346  872104087  未上場  2023/08/28            ｺｳｶﾞ      ｶﾜﾅﾐ ｳﾁﾖｳ         (株)黄河   \n",
       "347  872293203  未上場  2021/10/11  ﾏｴﾊﾞﾙﾀﾞｲｷﾕ-ｳﾝﾕ     ｾｷｸﾞﾁ ﾕｳｲﾁ  前原ダイキュー運輸(株)   \n",
       "348  870149407  未上場  2022/09/30    ｶﾏｱｹﾞﾏｷﾉｳﾄﾞﾝ      ﾊﾀﾅｶ ﾄｼﾋﾛ   (株)釜揚げ牧のうどん   \n",
       "\n",
       "     代表者氏名      郵便番号               所在地          電話番号  ... 財務情報3_売上(千円)  \\\n",
       "0     二宮 肇  811-1224    福岡県那珂川市安徳522-1  092-555-4344  ...      308,985   \n",
       "1    岡﨑 洋介  811-1224     福岡県那珂川市安徳1-13  092-951-3031  ...      390,840   \n",
       "2    後藤 優次  811-1224    福岡県那珂川市安徳61-11  092-953-2016  ...      164,240   \n",
       "3      辻 清  811-1224    福岡県那珂川市安徳869-1  092-951-0090  ...      316,109   \n",
       "4    税所 政博  811-1224    福岡県那珂川市安徳839-3  092-953-5580  ...      102,344   \n",
       "..     ...       ...               ...           ...  ...          ...   \n",
       "344   田島 守  819-1130  福岡県糸島市伊都の杜3-9-23    Unnamed: 0  ...       85,000   \n",
       "345  川﨑 裕貴  819-1123   福岡県糸島市神在東1-12-5  092-323-2797  ...      308,435   \n",
       "346  川波 宇澄  819-1120   福岡県糸島市神在東2-8-16  092-332-1088  ...       89,205   \n",
       "347  関口 雄一  819-1148    福岡県糸島市神在西1-5-1  092-323-4661  ...      960,000   \n",
       "348  畑中 俊弘  819-1148   福岡県糸島市神在西4-2-22  092-322-6111  ...    2,390,000   \n",
       "\n",
       "    財務情報3_純利益(千円)                                  取引銀行 売上伸長率       利益伸長率  \\\n",
       "0             290                               福岡(春日原)  174%         21%   \n",
       "1          16,694                  福岡中央(大橋)西日本シティ(大橋駅前)  106%        133%   \n",
       "2             879                     西日本シティ(那珂川)筑邦(中尾)  139%         61%   \n",
       "3           1,903              福岡(那珂川)佐賀(春日)西日本シティ(那珂川)  101%        323%   \n",
       "4           8,979                               福岡(那珂川)   57%        109%   \n",
       "..            ...                                   ...   ...         ...   \n",
       "344         2,000                          福岡(荒江)佐賀(前原)  132%         94%   \n",
       "345         9,906                宮崎(清武)福岡中央(前原)日本政策金融公庫  132%        173%   \n",
       "346        11,688        西日本シティ(渡辺通)三菱UFJ(福岡中央)日本政策金融公庫  156%        134%   \n",
       "347         5,470  福岡(糸島)佐賀(加布里出張所)商工組合中央金庫(福岡)日本政策金融公庫   93%  Unnamed: 0   \n",
       "348           NaN             西日本シティ(糸島)福岡(糸島)福岡県信組(前原)  105%  Unnamed: 0   \n",
       "\n",
       "                                                 TSR備考  \\\n",
       "0    2007年創業の土木工事業者で官公庁を含め実績は浸透しているが、低調な収益推移をたどり、財務...   \n",
       "1    業歴66年のLPガス販売業者。2022年9月期は工事部門が低下したものの、LPガスの単価上昇...   \n",
       "2     1991年創業の土木工事業者。2022年1月期は公共工事が順調で増収となるが、収益は低調である。   \n",
       "3    1992年創業のとび・土木・コンクリート工事業者。2022年8月期は企業努力により増収増益と...   \n",
       "4         建築工事専門業者として受注基盤を形成。2022年8月期は前期の反動もあって減収となった。   \n",
       "..                                                 ...   \n",
       "344  家畜診療所を経営。地元養豚業者に密着した営業で、業歴は浅いが、順調に実績を重ね、2023年2...   \n",
       "345  1995年5月設立のとび土工工事業者。(株)大林組からの下請工事を中心に実績を築いているが、...   \n",
       "346  アロマ抽出用ハーブ蒸留器の開発・販売等を手がけ、2023年4月期は大型オーダー品販売も好調で...   \n",
       "347  久留米運送(株)から受託する他、引越事業も併営。2021年5月期はコロナ禍の影響による取扱量...   \n",
       "348  「牧のうどん店」の名称で福岡県、佐賀県、長崎県に於いて18店舗を展開。知名度は浸透しており、...   \n",
       "\n",
       "                               代表者住所        生年月日       出身地         出身校  \n",
       "0    〒811-1255福岡県那珂川市恵子5-1-9スカイハイツ1号  1962/11/15  named: 0  Unnamed: 1  \n",
       "1         〒811-1347福岡県福岡市南区野多目4-5-40  1982/06/17       福岡県  Unnamed: 1  \n",
       "2            〒811-1224福岡県那珂川市安徳61-11  1961/01/21       福岡県        佐賀大学  \n",
       "3         〒811-1215福岡県那珂川市松原1-8-1210  1970/09/20  named: 0  Unnamed: 1  \n",
       "4        〒811-1345福岡県福岡市南区向新町1-10-37  1976/08/10       福岡県  Unnamed: 1  \n",
       "..                               ...         ...       ...         ...  \n",
       "344        〒819-1130福岡県糸島市伊都の杜3ー9-23  1981/12/31       千葉県  Unnamed: 1  \n",
       "345       〒889-1605宮崎県宮崎市清武町加納乙546-5  1975/08/28       宮崎県      第一工業大学  \n",
       "346  〒810-0014福岡県福岡市中央区平尾1-3-31-1113  1970/12/26      神奈川県        九州大学  \n",
       "347       〒819-0166福岡県福岡市西区横浜1-17-10  1969/09/03  named: 0  Unnamed: 1  \n",
       "348         〒819-1148福岡県糸島市神在西4-2-22  Unnamed: 0       福岡県  Unnamed: 1  \n",
       "\n",
       "[349 rows x 40 columns]"
      ]
     },
     "execution_count": 83,
     "metadata": {},
     "output_type": "execute_result"
    }
   ],
   "source": [
    "#df = pd.read_csv(\"/Users/akamine_saki/Projects/notebook/output.csv\",encoding =\"cp932\",header=None, names=columns)\n",
    "df = pd.DataFrame(pdf_records, columns=columns)\n",
    "df"
   ]
  },
  {
   "cell_type": "code",
   "execution_count": 84,
   "id": "09bd338d-a158-4a16-8cdc-fdfe6ec54e75",
   "metadata": {},
   "outputs": [],
   "source": [
    "#process_1 ％の削除\n",
    "def StripPercentSign(text: pd.Series) -> pd.Series:\n",
    "    return text.replace('%', '',)\n",
    "\n",
    "#process_2 従業員数から「人」を抜く処理\n",
    "def StripHuman(text: pd.Series) -> pd.Series:\n",
    "    return text.replace('人', '') \n",
    "\n",
    "#process_3 資本金から「千円」を抜く処理\n",
    "def StriThousandYen(text: pd.Series) -> pd.Series:\n",
    "    return text.replace('千円', '')\n",
    "\n",
    "#process_4 全角処理\n",
    "def ChangeZenkaku(text: pd.Series) -> pd.Series:\n",
    "    return text.apply(mojimoji.han_to_zen)\n",
    "\n",
    "#process_5 不要項目の削除\n",
    "def DeleteEmpty(text: str) -> str:\n",
    "    return text.replace(['Unnamed: 0','Unnamed: 1','Unnamed: 2','named: 0',\"Ｕｎｎａｍｅｄ：　１\"],'')\n",
    "\n",
    "#process_6（株）,(有)の処理（置き換え）\n",
    "def ChangeStock(text: pd.Series) -> pd.Series:\n",
    "    text = text.str.replace('(株)', '株式会社')\n",
    "    text = text.str.replace('(有)', '有限会社')\n",
    "    text = text.str.replace('(資)', '有限会社')\n",
    "    text = text.apply(mojimoji.han_to_zen)\n",
    "    text = text.str.replace('－', '-')\n",
    "    return text\n",
    "\n",
    "#process_7 住所分割\n",
    "def addres_split(addres):\n",
    "    pattern1 = '東京都|北海道|大阪府|京都府|.{2,3}県'\n",
    "    pattern2 = \"\"\"'足立区|荒川区|板橋区|江戸川区|大田区|葛飾区|北区|江東区|品川区|渋谷区|新宿区|杉並区|墨田区|世田谷区|台東区|中央区|千代田区|豊島区|中野区|練馬区|文京区|港区|目黒区|\n",
    "                .*市.*[^0-9]区|西村山郡|.*?区|市川市|市原市|野々市市|四日市市|廿日市市|.*?市|.*?郡|.*?島'\"\"\"\n",
    "    pattern3 = \"\"\".*[- －][0-9 ０-９]{1,4}[^A-Z ^Ａ-Ｚ][A Ａ B Ｂ C Ｃ D Ｄ E Ｅ F Ｆ].*|.*[- －][0-9 ０-９]{1,4}[^A-Z ^Ａ-Ｚ][A Ａ B Ｂ C Ｃ D Ｄ E Ｅ F Ｆ].*|.*[- －][^A-Z ^Ａ-Ｚ][A Ａ B Ｂ C Ｃ D Ｄ E Ｅ F Ｆ].*[0-9 ０-９]{1,4}|.*[- －][^A-Z ^Ａ-Ｚ][A Ａ B Ｂ C Ｃ D Ｄ E Ｅ F Ｆ].*|.*[0-9 ０-９]{1,4}区[0-9 ０-９]{1,4}[- －][0-9 ０-９]{1,4}|.*[0-9 ０-９]{1,4}区[0-9 ０-９]{1,4}|.*[0-9 ０-９]{1,4}番地[0-9 ０-９]{1,4}|[0-9 ０-９]{1,4}区[0-9 ０-９]{1,4}|\n",
    "                .*[0-9 ０-９]{1,4}地割.*[0-9 ０-９]{1,6}-[0-9 ０-９]{1,6}-[0-9 ０-９]{1,6}|.*[0-9 ０-９]{1,4}地割.*[0-9 ０-９]{1,6}[- －][0-9 ０-９]{1,6}|.*[0-9 ０-９]{1,4}地割.*[0-9 ０-９]{1,4}|\n",
    "                .*[- －][0-9 ０-９]{1,6}|.*[0-9 ０-９]{1,6}条通り[0-9 ０-９]{1,6}|.*[0-9 ０-９]{1,6}条[0-9 ０-９]{1,6}丁目[0-9 ０-９]{1,6}[- －][0-9 ０-９]{1,6}|.*[0-9 ０-９]{1,6}条[0-9 ０-９]{1,6}丁目|.*[0-9 ０-９]{1,6}画地|.*[- －][0-9 ０-９]{1,6}|.*[0-9 ０-９]{1,6}[a-z A-Z]|.*[0-9 ０-９]{1,6}|[一-龥]+\"\"\"\n",
    "    try :\n",
    "        todohuken = re.match(pattern1,addres).group()\n",
    "    except :\n",
    "        todohuken = ''\n",
    "    addres1 = addres[len(todohuken):]\n",
    "\n",
    "    try :\n",
    "        sikuchoson = re.match(pattern2,addres1).group()\n",
    "    except :\n",
    "        sikuchoson = ''\n",
    "    addres2 = addres1[len(sikuchoson):]\n",
    "\n",
    "    try :\n",
    "        banchi = re.match(pattern3,addres2).group()\n",
    "        if re.match('.*?[a-z ａ-ｚ A-Z Ａ-Ｚ].*[ァ-ヴ]{3,}.*',banchi):#建物名にローマ字とカタカナが含まれている場合（Ａｇｏｒａビルディング）\n",
    "            banchi = re.sub('[a-z ａ-ｚ A-Z Ａ-Ｚ].*[ァ-ヴ].*','',banchi)\n",
    "        elif re.search('第[0-9 ０-９ 〇-九].*ビル.*',banchi):#建物名が第～ビルの場合(東興第２ビル２Ｆ)\n",
    "            match = re.search('第[0-9 ０-９ 〇-九].*ビル.*',banchi).group() \n",
    "            banchi = banchi.replace(match,'')\n",
    "        elif re.search('[a-z ａ-ｚ A-Z Ａ-Ｚ]{1,10}[一-龥々ヶノツ]+[ァ-ヴ]*ビル.*',banchi):#建物名にローマ字と漢字が含まれている場合（ＡＬＤＥＺ紗那）\n",
    "            match = re.search('[a-z ａ-ｚ A-Z Ａ-Ｚ]{1,10}[一-龥々ヶノツ]+[ァ-ヴ]*ビル.*',banchi).group() \n",
    "            banchi = banchi.replace(match,'')\n",
    "        elif re.search('[一-龥々ヶノツ]+ビル.*',banchi):#建物名が漢字＋ビルの場合\n",
    "            match = re.search('[一-龥々ヶノツ]+ビル.*',banchi).group() \n",
    "            banchi = banchi.replace(match,'')\n",
    "        elif re.search('[ァ-ヴ - ー]{3,}',banchi):#建物名がカタカナ＋ビルの場合(エスポワールビル)\n",
    "            match = re.search('[ァ-ヴ - ー].*',banchi).group() \n",
    "            banchi = banchi.replace(match,'')\n",
    "        elif re.search('[a-z ａ-ｚ A-Z Ａ-Ｚ]{2,10}[一-龥々ヶノツ]*.*',banchi):#建物名がローマ字＋数字の場合（SAP４０８）\n",
    "            match = re.search('[a-z ａ-ｚ A-Z Ａ-Ｚ]{2,10}[一-龥々ヶノツ]*.*',banchi).group()\n",
    "            banchi = banchi.replace(match,'')\n",
    "        elif re.match('.*[a-z ａ-ｚ A-Z Ａ-Ｚ][- －][A-Z Ａ-Ｚ]{1,20}',banchi):#建物名にハイフンが含まれている場合（T-Biz）\n",
    "            banchi = re.sub('[a-z ａ-ｚ A-Z Ａ-Ｚ].*','',banchi)\n",
    "        elif re.match('.*[a-z ａ-ｚ A-Z Ａ-Ｚ][A-Z Ａ-Ｚ]{1,20}',banchi):#建物名がローマ字の場合(Agora)\n",
    "            banchi = re.sub('[a-z ａ-ｚ A-Z Ａ-Ｚ].*','',banchi)\n",
    "        else :\n",
    "            banchi = banchi\n",
    "    except :\n",
    "        banchi = ''\n",
    "        \n",
    "    addres3 = addres2[len(banchi):]\n",
    "    try :\n",
    "        match = re.match('[- －]',addres3).group()\n",
    "        addres3 = addres3[len(match):]\n",
    "    except:\n",
    "        addres3 = addres3\n",
    "    tatemonomei = addres3\n",
    "\n",
    "    return todohuken,sikuchoson,banchi,tatemonomei\n",
    "    todohuken,sikuchoson,banchi,tatemonomei = addres_split(addres)\n",
    "\n",
    "#process_8　上場区分を判別するための関数を定義\n",
    "def listing(list):\n",
    "    if list == '未上場':\n",
    "       listing_division = '未上場'\n",
    "    else:\n",
    "        listing_division = '上場'\n",
    "    return listing_division\n",
    "\n",
    "df['上場/未上場'] = df['上場区分'].apply(lambda x : listing(x))\n",
    "\n",
    "#process_9 名前分割\n",
    "def name_split(name):\n",
    "      pattern = ' |　|・'\n",
    "      try :\n",
    "        sei = re.split(pattern,name)[0]\n",
    "        mei = re.split(pattern,name)[1]\n",
    "      except f:\n",
    "        sei = ''\n",
    "        mei = name\n",
    "        sei,mei = name_split(name)\n",
    "      return sei,mei\n",
    "      # sei,mei = name_split(name)\n",
    "\n",
    "\n",
    "\n",
    "#業種1～3に分類\n",
    "df['業種1No'] = df['業種1'].str[:5].astype(str).str.zfill(4)\n",
    "df['業種1'] = df['業種1'].str[5:]\n",
    "df['業種2No'] = df['業種2'].str[:5]\n",
    "df['業種2'] = df['業種2'].str[5:]\n",
    "df['業種3No'] = df['業種3'].str[:5]\n",
    "df['業種3'] = df['業種3'].str[5:]\n",
    "\n",
    "\n",
    "#株主一覧をリスト化\n",
    "holders_list = df['株主構成'].to_list()\n",
    "holder1_name_list = []\n",
    "holder1_percent_list = []\n",
    "holder2_name_list = []\n",
    "holder2_percent_list = []\n",
    "holder3_name_list = []\n",
    "holder3_percent_list = []\n",
    "\n",
    "for i in range(len(holders_list)):\n",
    "    try :\n",
    "        holder1 = re.split('[,，]',holders_list[i])[0] #正規表現で、, で分割している\n",
    "        holder1_name = re.sub('\\(.+?\\)|\\（.+?\\）','',holder1)\n",
    "        holder1_percent = re.findall(\"(?<=\\().+?(?=\\))|(?<=\\（).+?(?=\\）)\", holder1)\n",
    "    except :\n",
    "        holder1 = ''\n",
    "        holder1_name = ''\n",
    "        holder1_percent = ''\n",
    "    try :\n",
    "        holder2 = re.split('[,，]',holders_list[i])[1]\n",
    "        holder2_name = re.sub('\\(.+?\\)|\\（.+?\\）','',holder2)\n",
    "        holder2_percent = re.findall(\"(?<=\\().+?(?=\\))|(?<=\\（).+?(?=\\）)\", holder2)\n",
    "    except :\n",
    "        holder2 = ''\n",
    "        holder2_name = ''\n",
    "        holder2_percent = ''\n",
    "    try :\n",
    "        holder3 = re.split('[,，]',holders_list[i])[2]\n",
    "        holder3_name = re.sub('\\(.+?\\)|\\（.+?\\）','',holder3) \n",
    "        holder3_percent = re.findall(\"(?<=\\().+?(?=\\))|(?<=\\（).+?(?=\\）)\", holder3)\n",
    "    except :\n",
    "        holder3 = ''\n",
    "        holder3_name = ''\n",
    "        holder3_percent = ''\n",
    "\n",
    "    holder1_name_list.append(holder1_name)\n",
    "    holder1_percent_list.append(holder1_percent)\n",
    "\n",
    "    holder2_name_list.append(holder2_name)\n",
    "    holder2_percent_list.append(holder2_percent)\n",
    "\n",
    "    holder3_name_list.append(holder3_name)\n",
    "    holder3_percent_list.append(holder3_percent)\n",
    "\n",
    "#リスト内の保有割合を囲んでいる特殊文字[]を削除\n",
    "holder1_percent_lists = []\n",
    "holder2_percent_lists = []\n",
    "holder3_percent_lists = []\n",
    "for i in range(len(df)):\n",
    "    try :\n",
    "        holder1_percent = holder1_percent_list[i][0]\n",
    "    except :\n",
    "        holder1_percent = ''\n",
    "\n",
    "    try :\n",
    "        holder2_percent = holder2_percent_list[i][0]\n",
    "    except :\n",
    "        holder2_percent = ''\n",
    "\n",
    "    try :\n",
    "        holder3_percent = holder3_percent_list[i][0]\n",
    "    except :\n",
    "        holder3_percent = ''\n",
    "\n",
    "    holder1_percent_lists.append(holder1_percent)\n",
    "    holder2_percent_lists.append(holder2_percent)\n",
    "    holder3_percent_lists.append(holder3_percent)\n",
    "\n",
    "#株主項目にリストの中身を追加\n",
    "df['第一位株主名称'] = holder1_name_list\n",
    "df['第一位株主_株式保有割合'] = holder1_percent_lists\n",
    "df['第二位株主名称'] = holder2_name_list\n",
    "df['第二位株主_株式保有割合'] = holder2_percent_lists\n",
    "df['第三位株主名称'] = holder3_name_list\n",
    "df['第三位株主_株式保有割合'] = holder3_percent_lists\n",
    "\n",
    "# #株式保有割合を全角変換\n",
    "# df['第一位株主_株式保有割合'] = df['第一位株主_株式保有割合'].astype(str)\n",
    "# df['第二位株主_株式保有割合'] = df['第二位株主_株式保有割合'].astype(str)\n",
    "# df['第三位株主_株式保有割合'] = df['第三位株主_株式保有割合'].astype(str)\n",
    "\n",
    "#代表者、株主一致チェック\n",
    "holder_check_list = []\n",
    "for i in range(0,len(df)):\n",
    "    representative_ = df['代表者氏名'][i]\n",
    "    representative = representative_.replace('　','')\n",
    "    target = '　'\n",
    "    idx = representative_.find(target)\n",
    "    representative_first_name = representative[:idx]\n",
    "    first_holder = df['第一位株主名称'][i]\n",
    "    holders_ = df['株主構成'][i]\n",
    "    holders = re.sub('\\(.+?\\)','',holders_)\n",
    "    if representative == first_holder:\n",
    "        check = '◎'\n",
    "    elif re.findall(representative,holders):\n",
    "        check = '〇'\n",
    "    elif representative_first_name in holders:\n",
    "        check = '△'\n",
    "    else :\n",
    "        check = '×'\n",
    "    holder_check_list.append(check)\n",
    "df['株主・代表取締役一致'] = holder_check_list"
   ]
  },
  {
   "cell_type": "code",
   "execution_count": 85,
   "id": "76094f34-f0b7-42e4-afe7-10c1a6dd4ed1",
   "metadata": {},
   "outputs": [],
   "source": [
    "#process_1\n",
    "df[\"売上伸長率\"] = df[\"売上伸長率\"].apply(StripPercentSign)\n",
    "df[\"利益伸長率\"] = df[\"利益伸長率\"].apply(StripPercentSign)\n",
    "\n",
    "#process_2\n",
    "df[\"従業員数\"] = df[\"従業員数\"].apply(StripHuman)\n",
    "\n",
    "#process_3\n",
    "df[\"資本金（千円単位）\"] = df[\"資本金（千円単位）\"].apply(StriThousandYen)\n",
    "\n",
    "#process_4\n",
    "df[\"営業所・支店住所\"] = ChangeZenkaku(df[\"営業所・支店住所\"])\n",
    "df[\"仕入先\"] = ChangeZenkaku(df[\"仕入先\"])\n",
    "df[\"販売先\"] = ChangeZenkaku(df[\"販売先\"])\n",
    "df[\"株主構成\"] = ChangeZenkaku(df[\"株主構成\"])\n",
    "df[\"所在地\"] = ChangeZenkaku(df[\"所在地\"])\n",
    "df['第一位株主_株式保有割合'] = ChangeZenkaku(df[\"第一位株主_株式保有割合\"])\n",
    "df['第二位株主_株式保有割合'] = ChangeZenkaku(df[\"第二位株主_株式保有割合\"])\n",
    "df['第三位株主_株式保有割合'] = ChangeZenkaku(df[\"第三位株主_株式保有割合\"])\n",
    "\n",
    "#process_5\n",
    "df = df.apply(DeleteEmpty)\n",
    "\n",
    "#process_6\n",
    "df[\"会社名\"] = ChangeStock(df[\"会社名\"])\n",
    "\n",
    "#process_7 所在地を都道府県、市区町村、町名・番地、建物名に分割\n",
    "df['都道府県'] = df['所在地'].apply(lambda x:addres_split(x)[0])\n",
    "df['市区町村'] = df['所在地'].apply(lambda x:addres_split(x)[1])\n",
    "df['町名・番地'] = df['所在地'].apply(lambda x:addres_split(x)[2])\n",
    "df['町名・番地'] = df['町名・番地'].str.replace('－','-')\n",
    "df['建物名'] = df['所在地'].apply(lambda x:addres_split(x)[3])\n",
    "df['建物名'] = df['建物名'].str.replace('－','-')\n",
    "\n",
    "#process_7 \n",
    "df['代表者氏名'] = df['代表者氏名'].str.replace(' ','　')\n",
    "df['代表者氏名(姓)'] = df['代表者氏名'].apply(lambda x:name_split(x)[0])\n",
    "df['代表者氏名(名)'] = df['代表者氏名'].apply(lambda x:name_split(x)[1])\n",
    "df['財務情報1_時期'] = pd.to_datetime(df['財務情報1_時期'],format='%Y/%m')\n",
    "df['財務情報1_時期'] = df['財務情報1_時期'] + pd.to_timedelta(df['財務情報1_時期'].dt.days_in_month,'d') - pd.to_timedelta('1 days')\n",
    "\n",
    "\n",
    "df['第一位株主_株式保有割合'] = df['第一位株主_株式保有割合'].astype(str)\n",
    "df['第二位株主_株式保有割合'] = df['第二位株主_株式保有割合'].astype(str)\n",
    "df['第三位株主_株式保有割合'] = df['第三位株主_株式保有割合'].astype(str)"
   ]
  },
  {
   "cell_type": "code",
   "execution_count": 86,
   "id": "e148e25f-84c7-41db-9345-aaa322bf1e32",
   "metadata": {},
   "outputs": [],
   "source": [
    "#株主一覧をリスト化\n",
    "holders_list = df['株主構成'].to_list()\n",
    "holder1_name_list = []\n",
    "holder1_percent_list = []\n",
    "holder2_name_list = []\n",
    "holder2_percent_list = []\n",
    "holder3_name_list = []\n",
    "holder3_percent_list = []\n",
    "\n",
    "for i in range(len(holders_list)):\n",
    "    try :\n",
    "        holder1 = re.split('[,，]',holders_list[i])[0]\n",
    "        holder1_name = re.sub('\\(.+?\\)|\\（.+?\\）','',holder1)\n",
    "        holder1_percent = re.findall(\"(?<=\\().+?(?=\\))|(?<=\\（).+?(?=\\）)\", holder1)\n",
    "    except :\n",
    "        holder1 = ''\n",
    "        holder1_name = ''\n",
    "        holder1_percent = ''\n",
    "    try :\n",
    "        holder2 = re.split('[,，]',holders_list[i])[1]\n",
    "        holder2_name = re.sub('\\(.+?\\)|\\（.+?\\）','',holder2)\n",
    "        holder2_percent = re.findall(\"(?<=\\().+?(?=\\))|(?<=\\（).+?(?=\\）)\", holder2)\n",
    "    except :\n",
    "        holder2 = ''\n",
    "        holder2_name = ''\n",
    "        holder2_percent = ''\n",
    "    try :\n",
    "        holder3 = re.split('[,，]',holders_list[i])[2]\n",
    "        holder3_name = re.sub('\\(.+?\\)|\\（.+?\\）','',holder3) \n",
    "        holder3_percent = re.findall(\"(?<=\\().+?(?=\\))|(?<=\\（).+?(?=\\）)\", holder3)\n",
    "    except :\n",
    "        holder3 = ''\n",
    "        holder3_name = ''\n",
    "        holder3_percent = ''\n",
    "\n",
    "    holder1_name_list.append(holder1_name)\n",
    "    holder1_percent_list.append(holder1_percent)\n",
    "\n",
    "    holder2_name_list.append(holder2_name)\n",
    "    holder2_percent_list.append(holder2_percent)\n",
    "\n",
    "    holder3_name_list.append(holder3_name)\n",
    "    holder3_percent_list.append(holder3_percent)\n",
    "\n",
    "#リスト内の保有割合を囲んでいる特殊文字[]を削除\n",
    "holder1_percent_lists = []\n",
    "holder2_percent_lists = []\n",
    "holder3_percent_lists = []\n",
    "for i in range(len(df)):\n",
    "    try :\n",
    "        holder1_percent = holder1_percent_list[i][0]\n",
    "    except :\n",
    "        holder1_percent = ''\n",
    "\n",
    "    try :\n",
    "        holder2_percent = holder2_percent_list[i][0]\n",
    "    except :\n",
    "        holder2_percent = ''\n",
    "\n",
    "    try :\n",
    "        holder3_percent = holder3_percent_list[i][0]\n",
    "    except :\n",
    "        holder3_percent = ''\n",
    "\n",
    "    holder1_percent_lists.append(holder1_percent)\n",
    "    holder2_percent_lists.append(holder2_percent)\n",
    "    holder3_percent_lists.append(holder3_percent)\n",
    "\n",
    "#株主項目にリストの中身を追加\n",
    "df['第一位株主名称'] = holder1_name_list\n",
    "df['第一位株主_株式保有割合'] = holder1_percent_lists\n",
    "df['第二位株主名称'] = holder2_name_list\n",
    "df['第二位株主_株式保有割合'] = holder2_percent_lists\n",
    "df['第三位株主名称'] = holder3_name_list\n",
    "df['第三位株主_株式保有割合'] = holder3_percent_lists\n",
    "\n",
    "#株式保有割合を全角変換\n",
    "# df['第一位株主_株式保有割合'] = df['第一位株主_株式保有割合'].apply(mojimoji.han_to_zen)\n",
    "# df['第二位株主_株式保有割合'] = df['第二位株主_株式保有割合'].apply(mojimoji.han_to_zen)\n",
    "# df['第三位株主_株式保有割合'] = df['第三位株主_株式保有割合'].apply(mojimoji.han_to_zen)\n",
    "\n",
    "df['第一位株主_株式保有割合'] = df['第一位株主_株式保有割合'].astype(str)\n",
    "df['第二位株主_株式保有割合'] = df['第二位株主_株式保有割合'].astype(str)\n",
    "df['第三位株主_株式保有割合'] = df['第三位株主_株式保有割合'].astype(str)\n",
    "\n",
    "#代表者、株主一致チェック\n",
    "holder_check_list = []\n",
    "for i in range(0,len(df)):\n",
    "    representative_ = df['代表者氏名'][i]\n",
    "    representative = representative_.replace('　','')\n",
    "    target = '　'\n",
    "    idx = representative_.find(target)\n",
    "    representative_first_name = representative[:idx]\n",
    "    first_holder = df['第一位株主名称'][i]\n",
    "    holders_ = df['株主構成'][i]\n",
    "    holders = re.sub('\\(.+?\\)','',holders_)\n",
    "    if representative == first_holder:\n",
    "        check = '◎'\n",
    "    elif re.findall(representative,holders):\n",
    "        check = '〇'\n",
    "    elif representative_first_name in holders:\n",
    "        check = '△'\n",
    "    else :\n",
    "        check = '×'\n",
    "    holder_check_list.append(check)\n",
    "df['株主・代表取締役一致'] = holder_check_list\n"
   ]
  },
  {
   "cell_type": "code",
   "execution_count": 87,
   "id": "8281afb5-80c8-4924-a93d-06d91b58806f",
   "metadata": {},
   "outputs": [],
   "source": [
    "#設立年月を日付型に変換にするための関数を定義\n",
    "j2w = jeraconv.J2W()\n",
    "list_ = []\n",
    "list = df['設立年月日'].to_list()\n",
    "#元号(漢字表記)を西暦に変換\n",
    "for i in range(len(list)):\n",
    "    try :\n",
    "        gengo = j2w.convert(list[i])\n",
    "    except :\n",
    "        gengo = list[i]\n",
    "    list_.append(str(gengo))\n",
    "\n",
    "#年のみの場合、1月に指定\n",
    "list2_ = []\n",
    "for i in range(len(list_)):\n",
    "    if re.match('^[0-9]{4}$',list_[i]):\n",
    "        gengo = f'{list_[i]}/01/01'\n",
    "    elif re.match('[0-9]{4}/[0-9]{2}',list_[i]):\n",
    "        gengo = f'{list_[i]}/01'\n",
    "    elif re.match(u'[一-龥]+',list_[i]):\n",
    "        gengo = ''\n",
    "    else :\n",
    "        gengo = list[i]\n",
    "    list2_.append(gengo)\n",
    "array = pd.Series(data=list2_)\n",
    "df['設立年月日'] = array \n",
    "\n",
    "#年月を日付型に変換にするための関数を定義\n",
    "j2w = jeraconv.J2W()\n",
    "list_ = []\n",
    "list = df['創業年月日'].to_list()\n",
    "#元号(漢字表記)を西暦に変換\n",
    "for i in range(len(list)):\n",
    "    try :\n",
    "        gengo = j2w.convert(list[i])\n",
    "    except :\n",
    "        gengo = list[i]\n",
    "    list_.append(str(gengo))\n",
    "\n",
    "#年のみの場合、1月に指定\n",
    "list2_ = []\n",
    "for i in range(len(list_)):\n",
    "    if re.match('^[0-9]{4}$',list_[i]):\n",
    "        gengo = f'{list_[i]}/01/01'\n",
    "    elif re.match('[0-9]{4}/[0-9]{2}',list_[i]):\n",
    "        gengo = f'{list_[i]}/01'\n",
    "    elif re.match(u'[一-龥]+',list_[i]):\n",
    "        gengo = ''\n",
    "    else :\n",
    "        gengo = list[i]\n",
    "    list2_.append(gengo)\n",
    "array = pd.Series(data=list2_)\n",
    "df['創業年月日'] = array \n",
    "\n",
    "\n",
    "\n",
    "\n",
    "#設立、創業年月を日付型に変換するための関数を定義\n",
    "def to_timestamp(gengo):\n",
    "    try:\n",
    "        time = dt.strptime(gengo, '%Y/%m/%d')\n",
    "    except ValueError:\n",
    "        time = gengo  # 日付の形式が合わない場合はそのまま返す\n",
    "    return time\n",
    "\n",
    " #代表者の生年月日を日付型にするための関数を定義\n",
    "import re\n",
    "def birthday(date):\n",
    "    if date == '' :\n",
    "        date = ''\n",
    "    elif re.match('[0-9 ０-９]{4}[/ ／][0-9 ０-９]{2}[/ ／][0-9 ０-９]{2}[/ ／]',date):\n",
    "        date = date\n",
    "    elif re.match('[0-9 ０-９]{4}[ |　]',date):\n",
    "        date = f'{date[:4]}/01/01'\n",
    "    elif re.match('[0-9 ０-９]{4}[/ ／][0-9 ０-９]{2}[ |　]',date):\n",
    "        date = f'{date[:7]}/01'\n",
    "    return date\n",
    "df['生年月日'] = df['生年月日'].apply(lambda x:birthday(x))\n",
    "\n",
    "#年月を日付型に変換\n",
    "try :\n",
    "  df['設立年月日'] = df['設立年月日'].apply(lambda x:to_timestamp(x))\n",
    "except :\n",
    "  df['設立年月日'] = df['設立年月日']\n",
    "try :\n",
    "  df['創業年月日'] = df['創業年月日'].apply(lambda x:to_timestamp(x))\n",
    "except :\n",
    "  df['創業年月日'] = df['創業年月日']\n",
    "\n",
    "try :\n",
    "  df['財務情報1_時期'] = pd.to_datetime(df['財務情報1_時期'],format='%Y/%m')\n",
    "  df['財務情報1_時期'] = df['財務情報1_時期'] + pd.to_timedelta(df['財務情報1_時期'].dt.days_in_month,'d') - pd.to_timedelta('1 days')\n",
    "except :\n",
    "  df['財務情報1_時期'] = df['財務情報1_時期']\n",
    "\n",
    "\n",
    "try :\n",
    "  df['財務情報2_時期'] = pd.to_datetime(df['財務情報2_時期'],format='%Y/%m')\n",
    "  df['財務情報2_時期'] = df['財務情報2_時期'] + pd.to_timedelta(df['財務情報2_時期'].dt.days_in_month,'d') - pd.to_timedelta('1 days')\n",
    "except :\n",
    "  df['財務情報2_時期'] = df['財務情報2_時期']\n",
    "\n",
    "try :\n",
    "  df['財務情報3_時期'] = pd.to_datetime(df['財務情報3_時期'],format='%Y/%m')\n",
    "  df['財務情報3_時期'] = df['財務情報3_時期'] + pd.to_timedelta(df['財務情報3_時期'].dt.days_in_month,'d') - pd.to_timedelta('1 days')\n",
    "except :\n",
    "  df['財務情報3_時期'] = df['財務情報3_時期']\n"
   ]
  },
  {
   "cell_type": "code",
   "execution_count": 88,
   "id": "b845e94f-e8cf-49c3-99a0-4f30edc2c557",
   "metadata": {},
   "outputs": [],
   "source": [
    "#業種Noから業種分類を特定　空白処理\n",
    "df['業種1No'] = df['業種1No'].str.strip()\n",
    "df['業種2No'] = df['業種2No'].str.strip()\n",
    "df['業種3No'] = df['業種3No'].str.strip()"
   ]
  },
  {
   "cell_type": "code",
   "execution_count": 89,
   "id": "6af2e0e8-2cb4-4739-9e16-7e3d57b55ee4",
   "metadata": {},
   "outputs": [],
   "source": [
    "#業種コード一覧をマージ\n",
    "df_merge1 = pd.merge(df,Industry_code,left_on = '業種1No',right_on = '細分類コード',how = 'left')\n",
    "df_merge2 = pd.merge(df_merge1,Industry_code,left_on = '業種2No',right_on = '細分類コード',how = 'left')\n",
    "df_merge3 = pd.merge(df_merge2,Industry_code,left_on = '業種3No',right_on = '細分類コード',how = 'left')\n",
    "df_merge3.iloc[:,56:]\n",
    "df_merge3.columns\n",
    "df_merge3 = df_merge3.rename(columns = {'大分類_x':'大分類1','中分類コード_x':'中分類コード1','中分類_x':'中分類1','小分類コード_x':'小分類コード1','小分類_x':'小分類1','細分類コード_x':'細分類コード1', '細分類_x':'細分類1',\n",
    "       '大分類_y':'大分類2','中分類コード_y':'中分類コード2', '中分類_y':'中分類2', '小分類コード_y':'小分類コード2', '小分類_y':'小分類2','細分類コード_y':'細分類コード2', '細分類_y':'細分類2', \n",
    "       '大分類':'大分類3','中分類コード':'中分類コード3', '中分類':'中分類3', '小分類コード':'小分類コード3', '小分類':'小分類3','細分類コード':'細分類コード3', '細分類':'細分類3'})\n",
    "df_merge3.to_excel('TSRデータ_業種一覧追加ver.xlsx')"
   ]
  },
  {
   "cell_type": "code",
   "execution_count": null,
   "id": "b71b564b-2735-405b-bee7-431413a342eb",
   "metadata": {},
   "outputs": [],
   "source": []
  },
  {
   "cell_type": "code",
   "execution_count": null,
   "id": "e73f56e4-f45a-435c-9f32-a50abcbddb95",
   "metadata": {},
   "outputs": [],
   "source": []
  }
 ],
 "metadata": {
  "kernelspec": {
   "display_name": "Python 3 (ipykernel)",
   "language": "python",
   "name": "python3"
  },
  "language_info": {
   "codemirror_mode": {
    "name": "ipython",
    "version": 3
   },
   "file_extension": ".py",
   "mimetype": "text/x-python",
   "name": "python",
   "nbconvert_exporter": "python",
   "pygments_lexer": "ipython3",
   "version": "3.12.7"
  }
 },
 "nbformat": 4,
 "nbformat_minor": 5
}
