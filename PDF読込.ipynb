{
 "cells": [
  {
   "cell_type": "code",
   "execution_count": 1,
   "id": "1ea1e45d",
   "metadata": {},
   "outputs": [
    {
     "name": "stdout",
     "output_type": "stream",
     "text": [
      "Requirement already satisfied: tabula-py in c:\\users\\miyab\\anaconda3\\lib\\site-packages (2.7.0)\n",
      "Requirement already satisfied: distro in c:\\users\\miyab\\anaconda3\\lib\\site-packages (from tabula-py) (1.8.0)\n",
      "Requirement already satisfied: numpy in c:\\users\\miyab\\anaconda3\\lib\\site-packages (from tabula-py) (1.21.5)\n",
      "Requirement already satisfied: pandas>=0.25.3 in c:\\users\\miyab\\anaconda3\\lib\\site-packages (from tabula-py) (1.4.4)\n",
      "Requirement already satisfied: pytz>=2020.1 in c:\\users\\miyab\\anaconda3\\lib\\site-packages (from pandas>=0.25.3->tabula-py) (2022.1)\n",
      "Requirement already satisfied: python-dateutil>=2.8.1 in c:\\users\\miyab\\anaconda3\\lib\\site-packages (from pandas>=0.25.3->tabula-py) (2.8.2)\n",
      "Requirement already satisfied: six>=1.5 in c:\\users\\miyab\\anaconda3\\lib\\site-packages (from python-dateutil>=2.8.1->pandas>=0.25.3->tabula-py) (1.16.0)\n",
      "Requirement already satisfied: pdfminer.six in c:\\users\\miyab\\anaconda3\\lib\\site-packages (20221105)\n",
      "Requirement already satisfied: charset-normalizer>=2.0.0 in c:\\users\\miyab\\anaconda3\\lib\\site-packages (from pdfminer.six) (2.0.4)\n",
      "Requirement already satisfied: cryptography>=36.0.0 in c:\\users\\miyab\\anaconda3\\lib\\site-packages (from pdfminer.six) (37.0.1)\n",
      "Requirement already satisfied: cffi>=1.12 in c:\\users\\miyab\\anaconda3\\lib\\site-packages (from cryptography>=36.0.0->pdfminer.six) (1.15.1)\n",
      "Requirement already satisfied: pycparser in c:\\users\\miyab\\anaconda3\\lib\\site-packages (from cffi>=1.12->cryptography>=36.0.0->pdfminer.six) (2.21)\n",
      "Requirement already satisfied: PyPDF2 in c:\\users\\miyab\\anaconda3\\lib\\site-packages (3.0.1)\n",
      "Requirement already satisfied: typing_extensions>=3.10.0.0 in c:\\users\\miyab\\anaconda3\\lib\\site-packages (from PyPDF2) (4.3.0)\n",
      "Requirement already satisfied: mojimoji in c:\\users\\miyab\\anaconda3\\lib\\site-packages (0.0.12)\n",
      "Requirement already satisfied: jeraconv in c:\\users\\miyab\\anaconda3\\lib\\site-packages (0.2.1)\n"
     ]
    }
   ],
   "source": [
    "#CSV変換等に必要なライブラリをインポート\n",
    "!pip install tabula-py\n",
    "!pip install pdfminer.six\n",
    "!pip install PyPDF2\n",
    "!pip install mojimoji\n",
    "!pip install jeraconv\n",
    "from pdfminer.pdfinterp import PDFResourceManager\n",
    "from pdfminer.converter import TextConverter\n",
    "from pdfminer.pdfinterp import PDFPageInterpreter\n",
    "from pdfminer.pdfpage import PDFPage\n",
    "from pdfminer.layout import LAParams\n",
    "from io import StringIO\n",
    "from tqdm import tqdm\n",
    "from dateutil.relativedelta import relativedelta\n",
    "from jeraconv import jeraconv\n",
    "from PyPDF2 import PdfReader\n",
    "\n",
    "import os\n",
    "import pandas as pd\n",
    "import tabula\n",
    "import warnings\n",
    "import mojimoji\n",
    "import re\n",
    "\n",
    "warnings.simplefilter('ignore')"
   ]
  },
  {
   "cell_type": "code",
   "execution_count": 2,
   "id": "bd4f3928",
   "metadata": {},
   "outputs": [
    {
     "data": {
      "text/plain": [
       "'C:\\\\Users\\\\miyab\\\\OneDrive - 株式会社M＆Aバリューエンジニアリング\\\\共有用\\\\TSRデータ更新\\\\プログラム\\\\PDFからCSV'"
      ]
     },
     "execution_count": 2,
     "metadata": {},
     "output_type": "execute_result"
    }
   ],
   "source": [
    "os.getcwd()"
   ]
  },
  {
   "cell_type": "code",
   "execution_count": 3,
   "id": "23af85f9",
   "metadata": {},
   "outputs": [],
   "source": [
    "#パスを指定\n",
    "read_path = 'C:\\\\Users\\\\miyab\\\\OneDrive - 株式会社M＆Aバリューエンジニアリング\\\\共有用\\\\TSRデータ更新\\\\2023年上期\\\\2023年上期_TSR元データ\\\\上場'"
   ]
  },
  {
   "cell_type": "code",
   "execution_count": 4,
   "id": "599c0222",
   "metadata": {},
   "outputs": [
    {
     "data": {
      "text/plain": [
       "['df_insert.csv',\n",
       " '全国上場企業_4028件.pdf',\n",
       " '全国上場企業_4028件.pdf_csv(4028)最終版.csv',\n",
       " '全国上場企業_4028件.pdf_csv.csv']"
      ]
     },
     "execution_count": 4,
     "metadata": {},
     "output_type": "execute_result"
    }
   ],
   "source": [
    "#上記パスのフォルダ内を表示\n",
    "dir = os.listdir(read_path)\n",
    "pdf_dir = dir[0]\n",
    "path = f'{read_path}\\\\{pdf_dir}'\n",
    "dir_ = os.listdir(path)\n",
    "dir_"
   ]
  },
  {
   "cell_type": "code",
   "execution_count": 6,
   "id": "8fb45e62",
   "metadata": {
    "scrolled": true
   },
   "outputs": [
    {
     "name": "stderr",
     "output_type": "stream",
     "text": [
      "  0%|                                                                                            | 0/1 [00:00<?, ?it/s]"
     ]
    },
    {
     "name": "stdout",
     "output_type": "stream",
     "text": [
      "C:\\Users\\miyab\\OneDrive - 株式会社M＆Aバリューエンジニアリング\\共有用\\TSRデータ更新\\2023年上期\\2023年上期_TSR元データ\\上場\\上場\n",
      "上場\n",
      "['全国上場企業_4028件.pdf', '全国上場企業_4028件.pdf_csv(4028)最終版.csv', '全国上場企業_4028件.pdf_csv.csv']\n",
      "全国上場企業_4028件.pdfを読み込み\n",
      "4028\n"
     ]
    },
    {
     "name": "stderr",
     "output_type": "stream",
     "text": [
      "\n",
      "  0%|                                                                                            | 0/1 [00:00<?, ?it/s]\u001b[AGot stderr: 10月 17, 2023 3:45:42 午後 org.apache.fontbox.ttf.CmapSubtable processSubtype14\n",
      "警告: Format 14 cmap table is not supported and will be ignored\n",
      "\n",
      "\n",
      "100%|████████████████████████████████████████████████████████████████████████████████████| 1/1 [00:01<00:00,  1.72s/it]\u001b[A\n"
     ]
    },
    {
     "name": "stdout",
     "output_type": "stream",
     "text": [
      "全国上場企業_4028件.pdfを処理中(0/1)\n",
      "全国上場企業_4028件.pdf_csv(4028)最終版.csvを読み込み\n"
     ]
    },
    {
     "name": "stderr",
     "output_type": "stream",
     "text": [
      "  0%|                                                                                            | 0/1 [00:03<?, ?it/s]\n"
     ]
    },
    {
     "ename": "PdfReadError",
     "evalue": "EOF marker not found",
     "output_type": "error",
     "traceback": [
      "\u001b[1;31m---------------------------------------------------------------------------\u001b[0m",
      "\u001b[1;31mPdfReadError\u001b[0m                              Traceback (most recent call last)",
      "\u001b[1;32m~\\AppData\\Local\\Temp\\ipykernel_40320\\3889746317.py\u001b[0m in \u001b[0;36m<module>\u001b[1;34m\u001b[0m\n\u001b[0;32m     31\u001b[0m \u001b[1;33m\u001b[0m\u001b[0m\n\u001b[0;32m     32\u001b[0m         \u001b[0mos\u001b[0m\u001b[1;33m.\u001b[0m\u001b[0mchdir\u001b[0m\u001b[1;33m(\u001b[0m\u001b[0mpath\u001b[0m\u001b[1;33m)\u001b[0m\u001b[1;33m\u001b[0m\u001b[1;33m\u001b[0m\u001b[0m\n\u001b[1;32m---> 33\u001b[1;33m         \u001b[0mreader\u001b[0m \u001b[1;33m=\u001b[0m \u001b[0mPdfReader\u001b[0m\u001b[1;33m(\u001b[0m\u001b[0mfilelist_copy\u001b[0m\u001b[1;33m[\u001b[0m\u001b[0mt\u001b[0m\u001b[1;33m]\u001b[0m\u001b[1;33m)\u001b[0m\u001b[1;33m\u001b[0m\u001b[1;33m\u001b[0m\u001b[0m\n\u001b[0m\u001b[0;32m     34\u001b[0m         \u001b[1;31m#ページ数を取得する\u001b[0m\u001b[1;33m\u001b[0m\u001b[1;33m\u001b[0m\u001b[0m\n\u001b[0;32m     35\u001b[0m         \u001b[0mprint\u001b[0m\u001b[1;33m(\u001b[0m\u001b[0mlen\u001b[0m\u001b[1;33m(\u001b[0m\u001b[0mreader\u001b[0m\u001b[1;33m.\u001b[0m\u001b[0mpages\u001b[0m\u001b[1;33m)\u001b[0m\u001b[1;33m)\u001b[0m\u001b[1;33m\u001b[0m\u001b[1;33m\u001b[0m\u001b[0m\n",
      "\u001b[1;32m~\\anaconda3\\lib\\site-packages\\PyPDF2\\_reader.py\u001b[0m in \u001b[0;36m__init__\u001b[1;34m(self, stream, strict, password)\u001b[0m\n\u001b[0;32m    317\u001b[0m             \u001b[1;32mwith\u001b[0m \u001b[0mopen\u001b[0m\u001b[1;33m(\u001b[0m\u001b[0mstream\u001b[0m\u001b[1;33m,\u001b[0m \u001b[1;34m\"rb\"\u001b[0m\u001b[1;33m)\u001b[0m \u001b[1;32mas\u001b[0m \u001b[0mfh\u001b[0m\u001b[1;33m:\u001b[0m\u001b[1;33m\u001b[0m\u001b[1;33m\u001b[0m\u001b[0m\n\u001b[0;32m    318\u001b[0m                 \u001b[0mstream\u001b[0m \u001b[1;33m=\u001b[0m \u001b[0mBytesIO\u001b[0m\u001b[1;33m(\u001b[0m\u001b[0mfh\u001b[0m\u001b[1;33m.\u001b[0m\u001b[0mread\u001b[0m\u001b[1;33m(\u001b[0m\u001b[1;33m)\u001b[0m\u001b[1;33m)\u001b[0m\u001b[1;33m\u001b[0m\u001b[1;33m\u001b[0m\u001b[0m\n\u001b[1;32m--> 319\u001b[1;33m         \u001b[0mself\u001b[0m\u001b[1;33m.\u001b[0m\u001b[0mread\u001b[0m\u001b[1;33m(\u001b[0m\u001b[0mstream\u001b[0m\u001b[1;33m)\u001b[0m\u001b[1;33m\u001b[0m\u001b[1;33m\u001b[0m\u001b[0m\n\u001b[0m\u001b[0;32m    320\u001b[0m         \u001b[0mself\u001b[0m\u001b[1;33m.\u001b[0m\u001b[0mstream\u001b[0m \u001b[1;33m=\u001b[0m \u001b[0mstream\u001b[0m\u001b[1;33m\u001b[0m\u001b[1;33m\u001b[0m\u001b[0m\n\u001b[0;32m    321\u001b[0m \u001b[1;33m\u001b[0m\u001b[0m\n",
      "\u001b[1;32m~\\anaconda3\\lib\\site-packages\\PyPDF2\\_reader.py\u001b[0m in \u001b[0;36mread\u001b[1;34m(self, stream)\u001b[0m\n\u001b[0;32m   1413\u001b[0m     \u001b[1;32mdef\u001b[0m \u001b[0mread\u001b[0m\u001b[1;33m(\u001b[0m\u001b[0mself\u001b[0m\u001b[1;33m,\u001b[0m \u001b[0mstream\u001b[0m\u001b[1;33m:\u001b[0m \u001b[0mStreamType\u001b[0m\u001b[1;33m)\u001b[0m \u001b[1;33m->\u001b[0m \u001b[1;32mNone\u001b[0m\u001b[1;33m:\u001b[0m\u001b[1;33m\u001b[0m\u001b[1;33m\u001b[0m\u001b[0m\n\u001b[0;32m   1414\u001b[0m         \u001b[0mself\u001b[0m\u001b[1;33m.\u001b[0m\u001b[0m_basic_validation\u001b[0m\u001b[1;33m(\u001b[0m\u001b[0mstream\u001b[0m\u001b[1;33m)\u001b[0m\u001b[1;33m\u001b[0m\u001b[1;33m\u001b[0m\u001b[0m\n\u001b[1;32m-> 1415\u001b[1;33m         \u001b[0mself\u001b[0m\u001b[1;33m.\u001b[0m\u001b[0m_find_eof_marker\u001b[0m\u001b[1;33m(\u001b[0m\u001b[0mstream\u001b[0m\u001b[1;33m)\u001b[0m\u001b[1;33m\u001b[0m\u001b[1;33m\u001b[0m\u001b[0m\n\u001b[0m\u001b[0;32m   1416\u001b[0m         \u001b[0mstartxref\u001b[0m \u001b[1;33m=\u001b[0m \u001b[0mself\u001b[0m\u001b[1;33m.\u001b[0m\u001b[0m_find_startxref_pos\u001b[0m\u001b[1;33m(\u001b[0m\u001b[0mstream\u001b[0m\u001b[1;33m)\u001b[0m\u001b[1;33m\u001b[0m\u001b[1;33m\u001b[0m\u001b[0m\n\u001b[0;32m   1417\u001b[0m \u001b[1;33m\u001b[0m\u001b[0m\n",
      "\u001b[1;32m~\\anaconda3\\lib\\site-packages\\PyPDF2\\_reader.py\u001b[0m in \u001b[0;36m_find_eof_marker\u001b[1;34m(self, stream)\u001b[0m\n\u001b[0;32m   1469\u001b[0m         \u001b[1;32mwhile\u001b[0m \u001b[0mline\u001b[0m\u001b[1;33m[\u001b[0m\u001b[1;33m:\u001b[0m\u001b[1;36m5\u001b[0m\u001b[1;33m]\u001b[0m \u001b[1;33m!=\u001b[0m \u001b[1;34mb\"%%EOF\"\u001b[0m\u001b[1;33m:\u001b[0m\u001b[1;33m\u001b[0m\u001b[1;33m\u001b[0m\u001b[0m\n\u001b[0;32m   1470\u001b[0m             \u001b[1;32mif\u001b[0m \u001b[0mstream\u001b[0m\u001b[1;33m.\u001b[0m\u001b[0mtell\u001b[0m\u001b[1;33m(\u001b[0m\u001b[1;33m)\u001b[0m \u001b[1;33m<\u001b[0m \u001b[0mlast_mb\u001b[0m\u001b[1;33m:\u001b[0m\u001b[1;33m\u001b[0m\u001b[1;33m\u001b[0m\u001b[0m\n\u001b[1;32m-> 1471\u001b[1;33m                 \u001b[1;32mraise\u001b[0m \u001b[0mPdfReadError\u001b[0m\u001b[1;33m(\u001b[0m\u001b[1;34m\"EOF marker not found\"\u001b[0m\u001b[1;33m)\u001b[0m\u001b[1;33m\u001b[0m\u001b[1;33m\u001b[0m\u001b[0m\n\u001b[0m\u001b[0;32m   1472\u001b[0m             \u001b[0mline\u001b[0m \u001b[1;33m=\u001b[0m \u001b[0mread_previous_line\u001b[0m\u001b[1;33m(\u001b[0m\u001b[0mstream\u001b[0m\u001b[1;33m)\u001b[0m\u001b[1;33m\u001b[0m\u001b[1;33m\u001b[0m\u001b[0m\n\u001b[0;32m   1473\u001b[0m \u001b[1;33m\u001b[0m\u001b[0m\n",
      "\u001b[1;31mPdfReadError\u001b[0m: EOF marker not found"
     ]
    }
   ],
   "source": [
    "#上記path内のディレクトリを取得\n",
    "startpdf = 0\n",
    "endpdf = 1\n",
    "for i in tqdm(range(startpdf,endpdf)):\n",
    "    dir = os.listdir(read_path)\n",
    "    dirs = []\n",
    "    pdf_dir = dir[i]\n",
    "    path = f'{read_path}\\\\{pdf_dir}'\n",
    "\n",
    "    dir_ = os.listdir(path)\n",
    "    dirs.append(dir_)\n",
    "    \n",
    "    pattern = '.*.pdf'\n",
    "    filelist_copy = []\n",
    "\n",
    "    for i in range(0,len(dirs)):\n",
    "        for files in dirs[i]:\n",
    "            if re.match(pattern,files) :\n",
    "                csvfile = files\n",
    "                filelist_copy.append(csvfile)\n",
    "            else :\n",
    "                csvfile = ''\n",
    "        print(path)\n",
    "        print(pdf_dir)\n",
    "        print(filelist_copy)\n",
    "\n",
    "    # \"PDF\"を順次読み込み\n",
    "    for t in range(0,len(filelist_copy)):\n",
    "#     for t in range(0,2):\n",
    "        print(f'{filelist_copy[t]}を読み込み')\n",
    "\n",
    "        os.chdir(path)\n",
    "        reader = PdfReader(filelist_copy[t])\n",
    "        #ページ数を取得する\n",
    "        print(len(reader.pages))\n",
    "\n",
    "        #スタートページを指定\n",
    "        start = 1\n",
    "        #ラストページを指定\n",
    "        end = len(reader.pages)\n",
    "\n",
    "        columns = ['企業コード(TSR)','上場区分','TSR調査年月日','企業名ﾌﾘｶﾞﾅ（半角）','代表者氏名ﾌﾘｶﾞﾅ（半角）','会社名','代表者氏名','郵便番号','所在地','電話番号','設立年月日','創業年月日','資本金（千円単位）','従業員数','業種1','業種2','業種3',\n",
    "                   '営業種目','営業所・支店住所','役員','仕入先','株主構成','販売先','財務情報1_時期','財務情報1_売上(千円)','財務情報1_純利益(千円)','財務情報2_時期','財務情報2_売上(千円)','財務情報2_純利益(千円)','財務情報3_時期','財務情報3_売上(千円)','財務情報3_純利益(千円)',\n",
    "                   '取引銀行','売上伸長率','利益伸長率','TSR備考','代表者住所','生年月日','出身地','出身校']\n",
    "        df_ = pd.DataFrame(columns = columns)\n",
    "\n",
    "        #\"ページ\"を順次読み込み\n",
    "        pages = range(start,end+1)\n",
    "#         pages = range(start,2)\n",
    "\n",
    "        for page in tqdm(pages):\n",
    "          try:\n",
    "            df = tabula.read_pdf(filelist_copy[t],encoding = 'cp932',lattice=True, pages=page)\n",
    "            value0 = df[0].columns[0] #企業コード　TSRID__c\n",
    "            value1 = df[1].columns[1][2:] #上場区分 Listing_classification__c\n",
    "            value2 = df[2].columns[0] #調査年月日 \n",
    "            value3 = mojimoji.zen_to_han(df[3].columns[0]) #商号（カナ）KANA__C\n",
    "            value4 = mojimoji.zen_to_han(df[4].columns[0]) #代表者カナ　PRESIDENTKANA__C\n",
    "            value5 = df[5].columns[0] #商号（漢字）NAME\n",
    "            value6 = df[6].columns[0] #代表者氏名　PRESIDENTNAME__C\n",
    "            # value6_1  = value6.split(' ')[0] #姓　\n",
    "            # value6_2  = value6.split(' ')[1] #名\n",
    "\n",
    "            value7 = df[7].columns[0].strip('〒')  #郵便番号 BILLINGPOSTALCODE\n",
    "            value8 = df[8].columns[1] #所在地\n",
    "            value9 = df[9].columns[0] #電話番号 PHONE\n",
    "            value10 = df[10].columns[1] #設立年月 STARTDATE__C\n",
    "            value11 = df[11].columns[1] #創業年月\n",
    "            value12 = df[12].columns[0] #資本金 CAPITAL__C\n",
    "            value13 = df[13].columns[0] #従業員数\n",
    "\n",
    "            # value14 = df[14]  #業種\n",
    "            value14_1 = df[14].columns[0] #業種1\n",
    "            value14_2 = df[14].iloc[0][0] #業種2\n",
    "            value14_3 = df[14].iloc[1][0] #業種3\n",
    "\n",
    "            value15 = df[15].columns[0].replace('\\r','') #営業種目\n",
    "            value16 = df[16].columns[1].replace('\\r','') #営業所・支店\n",
    "            value17 = df[17].columns[0].replace('\\r','') #役員\n",
    "            value18 = df[18].columns[1].replace('\\r','') #仕入先\n",
    "            value19 = df[19].columns[0].replace('\\r','') #大株主\n",
    "            value20 = df[20].columns[1].replace('\\r','') #販売先\n",
    "\n",
    "            # value21 = df[21] #業績\n",
    "            value21_1_RECYM = df[21].iloc[0][0] #期間1\n",
    "            value21_1_AMOUNT = df[21].iloc[0][1] #売上1\n",
    "            value21_1_PROFIT = df[21].iloc[0][4] #利益1\n",
    "            value21_2_RECYM = df[21].iloc[1][0] #期間2\n",
    "            value21_2_AMOUNT = df[21].iloc[1][1] #売上2\n",
    "            value21_2_PROFIT = df[21].iloc[1][4] #利益2\n",
    "            value21_3_RECYM = df[21].iloc[2][0] #期間3\n",
    "            value21_3_AMOUNT = df[21].iloc[2][1] #売上3\n",
    "            value21_3_PROFIT = df[21].iloc[2][4] #利益3\n",
    "\n",
    "            value22 = df[22].columns[1].replace('\\r','') #取引銀行\n",
    "            value23 = df[23].columns[1].replace('\\r','') #売上伸長率\n",
    "            value24 = df[24].columns[0] #利益伸長率\n",
    "            value25 = df[25].columns[1].replace('\\r','') #概況\n",
    "          # value26 = df[26].columns[0].replace('\\r','') #代表者\n",
    "            value27 = df[27].columns[0].replace('\\r','') #代表者住所\n",
    "            value28 = df[28].columns[0].replace('\\r','')[:10] #生年月日\n",
    "          # value29 = df[29].columns[0].replace('\\r','') #干支\n",
    "            value30 = df[30].columns[0].replace('\\r','')[2:] #出身地\n",
    "            value31 = df[31].columns[1].replace('\\r','') #出身校\n",
    "\n",
    "            #値をリスト化\n",
    "            value = [value0,value1,value2,value3,value4,value5,value6,value7,value8,value9,value10,value11,value12,value13,value14_1,value14_2,value14_3,\n",
    "                    value15,value16,value17,value18,value19,value20,value21_3_RECYM,value21_3_AMOUNT,value21_3_PROFIT,value21_2_RECYM,value21_2_AMOUNT,value21_2_PROFIT,value21_1_RECYM,value21_1_AMOUNT,value21_1_PROFIT,\n",
    "                    value22,value23,value24,value25,value27,value28,value30,value31]\n",
    "\n",
    "            #テーブルを作成\n",
    "            df = pd.DataFrame([value],columns = columns)\n",
    "            #テーブルに追加\n",
    "            df_ = df_.append(df,ignore_index = True)\n",
    "            print(f'{filelist_copy[t]}を処理中({startpdf+t}/{endpdf})')\n",
    "            #CSVへ変換\n",
    "            try :\n",
    "                df_.to_csv(f'{filelist_copy[t]}_csv.csv',encoding='cp932')\n",
    "            except :\n",
    "                df_.to_csv(f'{filelist_copy[t]}_csv.csv',encoding='utf-8')\n",
    "            except:\n",
    "            print('表示するページはありません')\n",
    "#         os.chdir('C:\\\\Users\\\\ya\\\\OneDrive - 株式会社M＆Aバリューエンジニアリング\\\\共有用\\\\2021年下半期(50万社)\\\\未上場\\\\CSVフォルダ')\n",
    "        df_.to_csv(f'{filelist_copy[t]}_csv.csv',encoding='cp932')"
   ]
  },
  {
   "cell_type": "code",
   "execution_count": null,
   "id": "dc15af17",
   "metadata": {},
   "outputs": [],
   "source": [
    "filelist_copy"
   ]
  },
  {
   "cell_type": "code",
   "execution_count": null,
   "id": "c1220a6a",
   "metadata": {},
   "outputs": [],
   "source": []
  },
  {
   "cell_type": "code",
   "execution_count": null,
   "id": "0b5bbb02",
   "metadata": {},
   "outputs": [],
   "source": []
  },
  {
   "cell_type": "code",
   "execution_count": null,
   "id": "c07b178f",
   "metadata": {},
   "outputs": [],
   "source": []
  }
 ],
 "metadata": {
  "kernelspec": {
   "display_name": "Python 3 (ipykernel)",
   "language": "python",
   "name": "python3"
  },
  "language_info": {
   "codemirror_mode": {
    "name": "ipython",
    "version": 3
   },
   "file_extension": ".py",
   "mimetype": "text/x-python",
   "name": "python",
   "nbconvert_exporter": "python",
   "pygments_lexer": "ipython3",
   "version": "3.11.5"
  }
 },
 "nbformat": 4,
 "nbformat_minor": 5
}
